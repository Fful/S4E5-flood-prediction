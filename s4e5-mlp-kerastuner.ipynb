{
 "metadata": {
  "kernelspec": {
   "language": "python",
   "display_name": "Python 3",
   "name": "python3"
  },
  "language_info": {
   "name": "python",
   "version": "3.10.13",
   "mimetype": "text/x-python",
   "codemirror_mode": {
    "name": "ipython",
    "version": 3
   },
   "pygments_lexer": "ipython3",
   "nbconvert_exporter": "python",
   "file_extension": ".py"
  }
 },
 "nbformat_minor": 4,
 "nbformat": 4,
 "cells": [
  {
   "cell_type": "code",
   "source": [
    "# main \n",
    "import numpy as np\n",
    "import pandas as pd\n",
    "pd.set_option('display.max_columns', None)\n",
    "\n",
    "# viz\n",
    "import matplotlib.pyplot as plt\n",
    "%matplotlib inline\n",
    "\n",
    "# deal with warnings\n",
    "import warnings\n",
    "warnings.filterwarnings(\"ignore\")"
   ],
   "metadata": {
    "_uuid": "8f2839f25d086af736a60e9eeb907d3b93b6e0e5",
    "_cell_guid": "b1076dfc-b9ad-4769-8c92-a6c4dae69d19",
    "execution": {
     "iopub.status.busy": "2024-05-21T10:56:10.548568Z",
     "iopub.execute_input": "2024-05-21T10:56:10.548919Z",
     "iopub.status.idle": "2024-05-21T10:56:11.445515Z",
     "shell.execute_reply.started": "2024-05-21T10:56:10.548891Z",
     "shell.execute_reply": "2024-05-21T10:56:11.444497Z"
    },
    "trusted": true
   },
   "execution_count": 1,
   "outputs": []
  },
  {
   "cell_type": "code",
   "source": [
    "# set path\n",
    "path = '/kaggle/input/playground-series-s4e5'\n",
    "\n",
    "# load data\n",
    "train = pd.read_csv(f'{path}/train.csv', index_col=0)\n",
    "test = pd.read_csv(f'{path}/test.csv', index_col=0)"
   ],
   "metadata": {
    "execution": {
     "iopub.status.busy": "2024-05-21T10:56:11.447247Z",
     "iopub.execute_input": "2024-05-21T10:56:11.447713Z",
     "iopub.status.idle": "2024-05-21T10:56:15.281832Z",
     "shell.execute_reply.started": "2024-05-21T10:56:11.447679Z",
     "shell.execute_reply": "2024-05-21T10:56:15.280688Z"
    },
    "trusted": true
   },
   "execution_count": 2,
   "outputs": []
  },
  {
   "cell_type": "markdown",
   "source": [
    "# Features"
   ],
   "metadata": {}
  },
  {
   "cell_type": "code",
   "source": [
    "def stat_features(data, only_stat=False):\n",
    "    \"\"\"\n",
    "    A lot of statistic features\n",
    "    \"\"\"\n",
    "    df = data.copy()\n",
    "    cols = df.columns\n",
    "    \n",
    "    df['fsum'] = df[cols].sum(axis=1)\n",
    "    df['special1'] = df['fsum'].isin(np.arange(72, 76))\n",
    "\n",
    "    df['fstd'] = df[cols].std(axis=1)\n",
    "    df['fmedian'] = df[cols].median(axis=1)\n",
    "    df['min_all'] = df[cols].min(axis=1)\n",
    "    df['max_all'] = df[cols].max(axis=1)\n",
    "    df['ptp'] = df[cols].values.ptp(axis=1)\n",
    "    df['q25'] = df[cols].quantile(0.25, axis=1)\n",
    "    df['q75'] = df[cols].quantile(0.75, axis=1)\n",
    "    df['fskew'] = df[cols].skew(axis=1)\n",
    "    df['fkurtosis'] = df[cols].kurtosis(axis=1)\n",
    "    \n",
    "    if only_stat:\n",
    "        df = df.drop(columns=cols)\n",
    "        \n",
    "    return df\n"
   ],
   "metadata": {
    "execution": {
     "iopub.status.busy": "2024-05-21T10:56:15.282921Z",
     "iopub.execute_input": "2024-05-21T10:56:15.283206Z",
     "iopub.status.idle": "2024-05-21T10:56:15.295536Z",
     "shell.execute_reply.started": "2024-05-21T10:56:15.283181Z",
     "shell.execute_reply": "2024-05-21T10:56:15.293810Z"
    },
    "trusted": true
   },
   "execution_count": 3,
   "outputs": []
  },
  {
   "cell_type": "code",
   "source": [
    "train.head(3)"
   ],
   "metadata": {
    "execution": {
     "iopub.status.busy": "2024-05-21T10:56:15.297715Z",
     "iopub.execute_input": "2024-05-21T10:56:15.297997Z",
     "iopub.status.idle": "2024-05-21T10:56:15.327245Z",
     "shell.execute_reply.started": "2024-05-21T10:56:15.297972Z",
     "shell.execute_reply": "2024-05-21T10:56:15.326186Z"
    },
    "trusted": true
   },
   "execution_count": 4,
   "outputs": [
    {
     "execution_count": 4,
     "output_type": "execute_result",
     "data": {
      "text/plain": "    MonsoonIntensity  TopographyDrainage  RiverManagement  Deforestation  \\\nid                                                                         \n0                  5                   8                5              8   \n1                  6                   7                4              4   \n2                  6                   5                6              7   \n\n    Urbanization  ClimateChange  DamsQuality  Siltation  \\\nid                                                        \n0              6              4            4          3   \n1              8              8            3          5   \n2              3              7            1          5   \n\n    AgriculturalPractices  Encroachments  IneffectiveDisasterPreparedness  \\\nid                                                                          \n0                       3              4                                2   \n1                       4              6                                9   \n2                       4              5                                6   \n\n    DrainageSystems  CoastalVulnerability  Landslides  Watersheds  \\\nid                                                                  \n0                 5                     3           3           5   \n1                 7                     2           0           3   \n2                 7                     3           7           5   \n\n    DeterioratingInfrastructure  PopulationScore  WetlandLoss  \\\nid                                                              \n0                             4                7            5   \n1                             5                3            3   \n2                             6                8            2   \n\n    InadequatePlanning  PoliticalFactors  FloodProbability  \nid                                                          \n0                    7                 3             0.445  \n1                    4                 3             0.450  \n2                    3                 3             0.530  ",
      "text/html": "<div>\n<style scoped>\n    .dataframe tbody tr th:only-of-type {\n        vertical-align: middle;\n    }\n\n    .dataframe tbody tr th {\n        vertical-align: top;\n    }\n\n    .dataframe thead th {\n        text-align: right;\n    }\n</style>\n<table border=\"1\" class=\"dataframe\">\n  <thead>\n    <tr style=\"text-align: right;\">\n      <th></th>\n      <th>MonsoonIntensity</th>\n      <th>TopographyDrainage</th>\n      <th>RiverManagement</th>\n      <th>Deforestation</th>\n      <th>Urbanization</th>\n      <th>ClimateChange</th>\n      <th>DamsQuality</th>\n      <th>Siltation</th>\n      <th>AgriculturalPractices</th>\n      <th>Encroachments</th>\n      <th>IneffectiveDisasterPreparedness</th>\n      <th>DrainageSystems</th>\n      <th>CoastalVulnerability</th>\n      <th>Landslides</th>\n      <th>Watersheds</th>\n      <th>DeterioratingInfrastructure</th>\n      <th>PopulationScore</th>\n      <th>WetlandLoss</th>\n      <th>InadequatePlanning</th>\n      <th>PoliticalFactors</th>\n      <th>FloodProbability</th>\n    </tr>\n    <tr>\n      <th>id</th>\n      <th></th>\n      <th></th>\n      <th></th>\n      <th></th>\n      <th></th>\n      <th></th>\n      <th></th>\n      <th></th>\n      <th></th>\n      <th></th>\n      <th></th>\n      <th></th>\n      <th></th>\n      <th></th>\n      <th></th>\n      <th></th>\n      <th></th>\n      <th></th>\n      <th></th>\n      <th></th>\n      <th></th>\n    </tr>\n  </thead>\n  <tbody>\n    <tr>\n      <th>0</th>\n      <td>5</td>\n      <td>8</td>\n      <td>5</td>\n      <td>8</td>\n      <td>6</td>\n      <td>4</td>\n      <td>4</td>\n      <td>3</td>\n      <td>3</td>\n      <td>4</td>\n      <td>2</td>\n      <td>5</td>\n      <td>3</td>\n      <td>3</td>\n      <td>5</td>\n      <td>4</td>\n      <td>7</td>\n      <td>5</td>\n      <td>7</td>\n      <td>3</td>\n      <td>0.445</td>\n    </tr>\n    <tr>\n      <th>1</th>\n      <td>6</td>\n      <td>7</td>\n      <td>4</td>\n      <td>4</td>\n      <td>8</td>\n      <td>8</td>\n      <td>3</td>\n      <td>5</td>\n      <td>4</td>\n      <td>6</td>\n      <td>9</td>\n      <td>7</td>\n      <td>2</td>\n      <td>0</td>\n      <td>3</td>\n      <td>5</td>\n      <td>3</td>\n      <td>3</td>\n      <td>4</td>\n      <td>3</td>\n      <td>0.450</td>\n    </tr>\n    <tr>\n      <th>2</th>\n      <td>6</td>\n      <td>5</td>\n      <td>6</td>\n      <td>7</td>\n      <td>3</td>\n      <td>7</td>\n      <td>1</td>\n      <td>5</td>\n      <td>4</td>\n      <td>5</td>\n      <td>6</td>\n      <td>7</td>\n      <td>3</td>\n      <td>7</td>\n      <td>5</td>\n      <td>6</td>\n      <td>8</td>\n      <td>2</td>\n      <td>3</td>\n      <td>3</td>\n      <td>0.530</td>\n    </tr>\n  </tbody>\n</table>\n</div>"
     },
     "metadata": {}
    }
   ]
  },
  {
   "cell_type": "code",
   "source": [
    "test.head(3)"
   ],
   "metadata": {
    "execution": {
     "iopub.status.busy": "2024-05-21T10:56:15.328715Z",
     "iopub.execute_input": "2024-05-21T10:56:15.329068Z",
     "iopub.status.idle": "2024-05-21T10:56:15.345490Z",
     "shell.execute_reply.started": "2024-05-21T10:56:15.329021Z",
     "shell.execute_reply": "2024-05-21T10:56:15.344292Z"
    },
    "trusted": true
   },
   "execution_count": 5,
   "outputs": [
    {
     "execution_count": 5,
     "output_type": "execute_result",
     "data": {
      "text/plain": "         MonsoonIntensity  TopographyDrainage  RiverManagement  Deforestation  \\\nid                                                                              \n1117957                 4                   6                3              5   \n1117958                 4                   4                2              9   \n1117959                 1                   3                6              5   \n\n         Urbanization  ClimateChange  DamsQuality  Siltation  \\\nid                                                             \n1117957             6              7            8          7   \n1117958             5              5            4          7   \n1117959             7              2            4          6   \n\n         AgriculturalPractices  Encroachments  \\\nid                                              \n1117957                      8              4   \n1117958                      5              4   \n1117959                      4              2   \n\n         IneffectiveDisasterPreparedness  DrainageSystems  \\\nid                                                          \n1117957                                8                5   \n1117958                                2                4   \n1117959                                7                9   \n\n         CoastalVulnerability  Landslides  Watersheds  \\\nid                                                      \n1117957                     7           5           6   \n1117958                     7           4           5   \n1117959                     2           5           5   \n\n         DeterioratingInfrastructure  PopulationScore  WetlandLoss  \\\nid                                                                   \n1117957                            3                6            4   \n1117958                            1                7            4   \n1117959                            2                3            6   \n\n         InadequatePlanning  PoliticalFactors  \nid                                             \n1117957                   4                 5  \n1117958                   4                 3  \n1117959                   8                 3  ",
      "text/html": "<div>\n<style scoped>\n    .dataframe tbody tr th:only-of-type {\n        vertical-align: middle;\n    }\n\n    .dataframe tbody tr th {\n        vertical-align: top;\n    }\n\n    .dataframe thead th {\n        text-align: right;\n    }\n</style>\n<table border=\"1\" class=\"dataframe\">\n  <thead>\n    <tr style=\"text-align: right;\">\n      <th></th>\n      <th>MonsoonIntensity</th>\n      <th>TopographyDrainage</th>\n      <th>RiverManagement</th>\n      <th>Deforestation</th>\n      <th>Urbanization</th>\n      <th>ClimateChange</th>\n      <th>DamsQuality</th>\n      <th>Siltation</th>\n      <th>AgriculturalPractices</th>\n      <th>Encroachments</th>\n      <th>IneffectiveDisasterPreparedness</th>\n      <th>DrainageSystems</th>\n      <th>CoastalVulnerability</th>\n      <th>Landslides</th>\n      <th>Watersheds</th>\n      <th>DeterioratingInfrastructure</th>\n      <th>PopulationScore</th>\n      <th>WetlandLoss</th>\n      <th>InadequatePlanning</th>\n      <th>PoliticalFactors</th>\n    </tr>\n    <tr>\n      <th>id</th>\n      <th></th>\n      <th></th>\n      <th></th>\n      <th></th>\n      <th></th>\n      <th></th>\n      <th></th>\n      <th></th>\n      <th></th>\n      <th></th>\n      <th></th>\n      <th></th>\n      <th></th>\n      <th></th>\n      <th></th>\n      <th></th>\n      <th></th>\n      <th></th>\n      <th></th>\n      <th></th>\n    </tr>\n  </thead>\n  <tbody>\n    <tr>\n      <th>1117957</th>\n      <td>4</td>\n      <td>6</td>\n      <td>3</td>\n      <td>5</td>\n      <td>6</td>\n      <td>7</td>\n      <td>8</td>\n      <td>7</td>\n      <td>8</td>\n      <td>4</td>\n      <td>8</td>\n      <td>5</td>\n      <td>7</td>\n      <td>5</td>\n      <td>6</td>\n      <td>3</td>\n      <td>6</td>\n      <td>4</td>\n      <td>4</td>\n      <td>5</td>\n    </tr>\n    <tr>\n      <th>1117958</th>\n      <td>4</td>\n      <td>4</td>\n      <td>2</td>\n      <td>9</td>\n      <td>5</td>\n      <td>5</td>\n      <td>4</td>\n      <td>7</td>\n      <td>5</td>\n      <td>4</td>\n      <td>2</td>\n      <td>4</td>\n      <td>7</td>\n      <td>4</td>\n      <td>5</td>\n      <td>1</td>\n      <td>7</td>\n      <td>4</td>\n      <td>4</td>\n      <td>3</td>\n    </tr>\n    <tr>\n      <th>1117959</th>\n      <td>1</td>\n      <td>3</td>\n      <td>6</td>\n      <td>5</td>\n      <td>7</td>\n      <td>2</td>\n      <td>4</td>\n      <td>6</td>\n      <td>4</td>\n      <td>2</td>\n      <td>7</td>\n      <td>9</td>\n      <td>2</td>\n      <td>5</td>\n      <td>5</td>\n      <td>2</td>\n      <td>3</td>\n      <td>6</td>\n      <td>8</td>\n      <td>3</td>\n    </tr>\n  </tbody>\n</table>\n</div>"
     },
     "metadata": {}
    }
   ]
  },
  {
   "cell_type": "code",
   "source": [
    "from sklearn.model_selection import StratifiedShuffleSplit, train_test_split\n",
    "\n",
    "X_train_full = train.drop(columns = ['FloodProbability'])\n",
    "y_train_full = train[['FloodProbability']].copy()\n",
    "\n",
    "X_train_full = stat_features(data=X_train_full)\n",
    "X_test = stat_features(data=test)"
   ],
   "metadata": {
    "execution": {
     "iopub.status.busy": "2024-05-21T10:56:15.347153Z",
     "iopub.execute_input": "2024-05-21T10:56:15.347551Z",
     "iopub.status.idle": "2024-05-21T10:56:25.213294Z",
     "shell.execute_reply.started": "2024-05-21T10:56:15.347519Z",
     "shell.execute_reply": "2024-05-21T10:56:25.212349Z"
    },
    "trusted": true
   },
   "execution_count": 6,
   "outputs": []
  },
  {
   "cell_type": "code",
   "source": [
    "X_train, X_val, y_train, y_val = train_test_split(X_train_full, \n",
    "                                                  y_train_full, \n",
    "                                                  test_size=0.2,\n",
    "                                                  random_state=42)\n",
    "\n",
    "# # StratifiedShuffleSplit\n",
    "# splitter = StratifiedShuffleSplit(n_splits=1, test_size=0.1, random_state=42)\n",
    "# train_idx, val_idx = next(splitter.split(X_train_full, y_train_full))\n",
    "\n",
    "# X_train, y_train = X_train_full.iloc[train_idx], y_train_full.iloc[train_idx]\n",
    "# X_val, y_val = X_train_full.iloc[val_idx], y_train_full.iloc[val_idx]\n",
    "\n",
    "\n",
    "print(f'train_shape {X_train.shape},\\n val_shape {X_val.shape}')"
   ],
   "metadata": {
    "execution": {
     "iopub.status.busy": "2024-05-21T10:56:25.214641Z",
     "iopub.execute_input": "2024-05-21T10:56:25.215070Z",
     "iopub.status.idle": "2024-05-21T10:56:25.664375Z",
     "shell.execute_reply.started": "2024-05-21T10:56:25.215033Z",
     "shell.execute_reply": "2024-05-21T10:56:25.663331Z"
    },
    "trusted": true
   },
   "execution_count": 7,
   "outputs": [
    {
     "name": "stdout",
     "text": "train_shape (894365, 31),\n val_shape (223592, 31)\n",
     "output_type": "stream"
    }
   ]
  },
  {
   "cell_type": "markdown",
   "source": [
    "# Building mlp model"
   ],
   "metadata": {}
  },
  {
   "cell_type": "code",
   "source": [
    "import tensorflow as tf\n",
    "import keras_tuner as kt\n",
    "tf.keras.backend.clear_session()"
   ],
   "metadata": {
    "execution": {
     "iopub.status.busy": "2024-05-21T10:56:25.665894Z",
     "iopub.execute_input": "2024-05-21T10:56:25.666288Z",
     "iopub.status.idle": "2024-05-21T10:56:38.371318Z",
     "shell.execute_reply.started": "2024-05-21T10:56:25.666253Z",
     "shell.execute_reply": "2024-05-21T10:56:38.370357Z"
    },
    "trusted": true
   },
   "execution_count": 8,
   "outputs": [
    {
     "name": "stderr",
     "text": "2024-05-21 10:56:27.500661: E external/local_xla/xla/stream_executor/cuda/cuda_dnn.cc:9261] Unable to register cuDNN factory: Attempting to register factory for plugin cuDNN when one has already been registered\n2024-05-21 10:56:27.500769: E external/local_xla/xla/stream_executor/cuda/cuda_fft.cc:607] Unable to register cuFFT factory: Attempting to register factory for plugin cuFFT when one has already been registered\n2024-05-21 10:56:27.632121: E external/local_xla/xla/stream_executor/cuda/cuda_blas.cc:1515] Unable to register cuBLAS factory: Attempting to register factory for plugin cuBLAS when one has already been registered\n",
     "output_type": "stream"
    }
   ]
  },
  {
   "cell_type": "code",
   "source": [
    "# !pip install tensorboard"
   ],
   "metadata": {
    "execution": {
     "iopub.status.busy": "2024-05-21T10:56:38.372513Z",
     "iopub.execute_input": "2024-05-21T10:56:38.373070Z",
     "iopub.status.idle": "2024-05-21T10:56:38.377748Z",
     "shell.execute_reply.started": "2024-05-21T10:56:38.373042Z",
     "shell.execute_reply": "2024-05-21T10:56:38.376606Z"
    },
    "trusted": true
   },
   "execution_count": 9,
   "outputs": []
  },
  {
   "cell_type": "code",
   "source": [
    "from tensorflow.python.client import device_lib\n",
    "print(device_lib.list_local_devices())"
   ],
   "metadata": {
    "execution": {
     "iopub.status.busy": "2024-05-21T10:56:38.380180Z",
     "iopub.execute_input": "2024-05-21T10:56:38.380465Z",
     "iopub.status.idle": "2024-05-21T10:56:38.695380Z",
     "shell.execute_reply.started": "2024-05-21T10:56:38.380441Z",
     "shell.execute_reply": "2024-05-21T10:56:38.694509Z"
    },
    "trusted": true
   },
   "execution_count": 10,
   "outputs": [
    {
     "name": "stdout",
     "text": "[name: \"/device:CPU:0\"\ndevice_type: \"CPU\"\nmemory_limit: 268435456\nlocality {\n}\nincarnation: 9377729477947985633\nxla_global_id: -1\n, name: \"/device:GPU:0\"\ndevice_type: \"GPU\"\nmemory_limit: 16274030592\nlocality {\n  bus_id: 1\n  links {\n  }\n}\nincarnation: 1392840546882993541\nphysical_device_desc: \"device: 0, name: Tesla P100-PCIE-16GB, pci bus id: 0000:00:04.0, compute capability: 6.0\"\nxla_global_id: 416903419\n]\n",
     "output_type": "stream"
    }
   ]
  },
  {
   "cell_type": "code",
   "source": [],
   "metadata": {
    "trusted": true
   },
   "execution_count": null,
   "outputs": []
  },
  {
   "cell_type": "markdown",
   "source": [
    "## BaseLine MLP model\n",
    "building model using sequantial API"
   ],
   "metadata": {}
  },
  {
   "cell_type": "code",
   "source": [
    "# tf.random.set_seed(42)\n",
    "\n",
    "# norm_layer = tf.keras.layers.Normalization(input_shape=X_train.shape[1:])\n",
    "# model = tf.keras.models.Sequential([\n",
    "#     norm_layer,\n",
    "#     tf.keras.layers.Dense(50, activation=tf.keras.activations.relu),\n",
    "#     tf.keras.layers.Dense(50, activation=tf.keras.activations.relu),\n",
    "#     tf.keras.layers.Dense(50, activation=tf.keras.activations.relu),\n",
    "#     tf.keras.layers.Dense(50, activation=tf.keras.activations.relu),\n",
    "#     tf.keras.layers.Dense(1)\n",
    "# ])\n",
    "\n",
    "# model.summary()"
   ],
   "metadata": {
    "execution": {
     "iopub.status.busy": "2024-05-21T10:57:20.826566Z",
     "iopub.execute_input": "2024-05-21T10:57:20.827223Z",
     "iopub.status.idle": "2024-05-21T10:57:20.831484Z",
     "shell.execute_reply.started": "2024-05-21T10:57:20.827191Z",
     "shell.execute_reply": "2024-05-21T10:57:20.830484Z"
    },
    "trusted": true
   },
   "execution_count": 13,
   "outputs": []
  },
  {
   "cell_type": "code",
   "source": [
    "# optimizer = tf.keras.optimizers.Adam(learning_rate=1e-4)\n",
    "# model.compile(loss='mse', \n",
    "#               optimizer=optimizer, \n",
    "#               metrics=[tf.keras.metrics.R2Score])\n",
    "# norm_layer.adapt(X_train.values)\n",
    "\n",
    "# history = model.fit(X_train, \n",
    "#                     y_train,\n",
    "#                     epochs=3, \n",
    "#                     validation_data=(X_val, y_val))\n",
    "\n",
    "# optimizer = tf.keras.optimizers.Adam(learning_rate=1e-5)\n",
    "# model.compile(loss='mse', \n",
    "#               optimizer=optimizer, \n",
    "#               metrics=[tf.keras.metrics.R2Score])\n",
    "# norm_layer.adapt(X_train.values)\n",
    "\n",
    "# history = model.fit(X_train, \n",
    "#                     y_train,\n",
    "#                     batch_size=256,\n",
    "#                     epochs=3, \n",
    "#                     validation_data=(X_val, y_val))"
   ],
   "metadata": {
    "execution": {
     "iopub.status.busy": "2024-05-21T10:57:21.186657Z",
     "iopub.execute_input": "2024-05-21T10:57:21.187004Z",
     "iopub.status.idle": "2024-05-21T10:57:21.191626Z",
     "shell.execute_reply.started": "2024-05-21T10:57:21.186978Z",
     "shell.execute_reply": "2024-05-21T10:57:21.190612Z"
    },
    "trusted": true
   },
   "execution_count": 14,
   "outputs": []
  },
  {
   "cell_type": "markdown",
   "source": [
    "## Main model"
   ],
   "metadata": {}
  },
  {
   "cell_type": "code",
   "source": [
    "def build_model(hp):\n",
    "    n_hidden = hp.Int(\"n_hidden\", min_value=1, max_value=8, default=2)\n",
    "    n_neurons = hp.Int(\"n_neurons\", min_value=16, max_value=128)\n",
    "    batch_size = hp.Choice('batch', [32, 64, 128])\n",
    "    activation = hp.Choice('activation', ['relu', 'sigmoid'])\n",
    "    learning_rate = hp.Float(\"learning_rate\", min_value=1e-5, max_value=1e-3, sampling=\"log\")\n",
    "    \n",
    "    optimizer = tf.keras.optimizers.Adam(learning_rate=learning_rate)\n",
    "    \n",
    "    model = tf.keras.Sequential()\n",
    "    for _ in range(n_hidden):\n",
    "        model.add(tf.keras.layers.Dense(n_neurons, activation=activation))\n",
    "    model.add(tf.keras.layers.Dense(1))\n",
    "    model.compile(loss='mse', optimizer=optimizer, metrics=[tf.keras.metrics.R2Score])\n",
    "    return model\n",
    "\n",
    "class MyClassificationHyperModel(kt.HyperModel):\n",
    "    def build(self, hp):\n",
    "        return build_model(hp)\n",
    "    \n",
    "    def fit(self, hp, model, X, y, **kwargs):\n",
    "        norm_layer = tf.keras.layers.Normalization()\n",
    "        X = norm_layer(X)\n",
    "        return model.fit(X, y, **kwargs)"
   ],
   "metadata": {
    "execution": {
     "iopub.status.busy": "2024-05-21T10:57:22.289352Z",
     "iopub.execute_input": "2024-05-21T10:57:22.289693Z",
     "iopub.status.idle": "2024-05-21T10:57:22.299635Z",
     "shell.execute_reply.started": "2024-05-21T10:57:22.289667Z",
     "shell.execute_reply": "2024-05-21T10:57:22.298635Z"
    },
    "trusted": true
   },
   "execution_count": 15,
   "outputs": []
  },
  {
   "cell_type": "code",
   "source": [
    "bayesian_opt_tuner = kt.BayesianOptimization(\n",
    "    MyClassificationHyperModel(), \n",
    "    objective='val_r2_score',\n",
    "    seed=42,\n",
    "    max_trials=20, \n",
    "    alpha=1e-4, \n",
    "    beta=2.6,\n",
    "    overwrite=True, \n",
    "    directory=\"s4e5\", \n",
    "    project_name=\"bayesian_opt\"\n",
    ")"
   ],
   "metadata": {
    "execution": {
     "iopub.status.busy": "2024-05-21T10:57:26.901517Z",
     "iopub.execute_input": "2024-05-21T10:57:26.901894Z",
     "iopub.status.idle": "2024-05-21T10:57:27.269749Z",
     "shell.execute_reply.started": "2024-05-21T10:57:26.901865Z",
     "shell.execute_reply": "2024-05-21T10:57:27.268972Z"
    },
    "trusted": true
   },
   "execution_count": 16,
   "outputs": []
  },
  {
   "cell_type": "code",
   "source": [
    "from pathlib import Path\n",
    "root_logdir = Path(bayesian_opt_tuner.project_dir) / \"tensorboard\"\n",
    "tensorboard_cb = tf.keras.callbacks.TensorBoard(root_logdir)\n",
    "early_stopping_cb = tf.keras.callbacks.EarlyStopping(patience=3)\n",
    "bayesian_opt_tuner.search(\n",
    "    X_train, y_train, epochs=10, \n",
    "    validation_data=(X_val, y_val),\n",
    "    callbacks=[early_stopping_cb, tensorboard_cb]\n",
    ")"
   ],
   "metadata": {
    "execution": {
     "iopub.status.busy": "2024-05-21T10:58:46.097571Z",
     "iopub.execute_input": "2024-05-21T10:58:46.097918Z",
     "iopub.status.idle": "2024-05-21T11:30:34.071650Z",
     "shell.execute_reply.started": "2024-05-21T10:58:46.097888Z",
     "shell.execute_reply": "2024-05-21T11:30:34.070249Z"
    },
    "trusted": true
   },
   "execution_count": 18,
   "outputs": [
    {
     "name": "stdout",
     "text": "Trial 2 Complete [00h 07m 37s]\n\nBest val_accuracy So Far: None\nTotal elapsed time: 00h 18m 31s\n\nSearch: Running Trial #3\n\nValue             |Best Value So Far |Hyperparameter\n8                 |6                 |n_hidden\n85                |20                |n_neurons\n128               |64                |batch\nrelu              |relu              |activation\n0.00085475        |0.00059777        |learning_rate\n\nEpoch 1/10\n\u001B[1m27949/27949\u001B[0m \u001B[32m━━━━━━━━━━━━━━━━━━━━\u001B[0m\u001B[37m\u001B[0m \u001B[1m96s\u001B[0m 3ms/step - loss: 0.0012 - r2_score: 0.5667 - val_loss: 4.3385e-04 - val_r2_score: 0.8331\nEpoch 2/10\n\u001B[1m27949/27949\u001B[0m \u001B[32m━━━━━━━━━━━━━━━━━━━━\u001B[0m\u001B[37m\u001B[0m \u001B[1m87s\u001B[0m 3ms/step - loss: 4.3217e-04 - r2_score: 0.8342 - val_loss: 4.4445e-04 - val_r2_score: 0.8291\nEpoch 3/10\n\u001B[1m27949/27949\u001B[0m \u001B[32m━━━━━━━━━━━━━━━━━━━━\u001B[0m\u001B[37m\u001B[0m \u001B[1m85s\u001B[0m 3ms/step - loss: 4.2229e-04 - r2_score: 0.8382 - val_loss: 4.1114e-04 - val_r2_score: 0.8419\nEpoch 4/10\n\u001B[1m27949/27949\u001B[0m \u001B[32m━━━━━━━━━━━━━━━━━━━━\u001B[0m\u001B[37m\u001B[0m \u001B[1m85s\u001B[0m 3ms/step - loss: 4.1896e-04 - r2_score: 0.8389 - val_loss: 4.6873e-04 - val_r2_score: 0.8197\nEpoch 5/10\n\u001B[1m27949/27949\u001B[0m \u001B[32m━━━━━━━━━━━━━━━━━━━━\u001B[0m\u001B[37m\u001B[0m \u001B[1m86s\u001B[0m 3ms/step - loss: 4.1443e-04 - r2_score: 0.8408 - val_loss: 3.9067e-04 - val_r2_score: 0.8498\nEpoch 6/10\n\u001B[1m27949/27949\u001B[0m \u001B[32m━━━━━━━━━━━━━━━━━━━━\u001B[0m\u001B[37m\u001B[0m \u001B[1m85s\u001B[0m 3ms/step - loss: 4.1267e-04 - r2_score: 0.8420 - val_loss: 4.3484e-04 - val_r2_score: 0.8328\nEpoch 7/10\n\u001B[1m27949/27949\u001B[0m \u001B[32m━━━━━━━━━━━━━━━━━━━━\u001B[0m\u001B[37m\u001B[0m \u001B[1m84s\u001B[0m 3ms/step - loss: 4.1136e-04 - r2_score: 0.8422 - val_loss: 3.8489e-04 - val_r2_score: 0.8520\nEpoch 8/10\n\u001B[1m27949/27949\u001B[0m \u001B[32m━━━━━━━━━━━━━━━━━━━━\u001B[0m\u001B[37m\u001B[0m \u001B[1m84s\u001B[0m 3ms/step - loss: 4.0884e-04 - r2_score: 0.8427 - val_loss: 4.3467e-04 - val_r2_score: 0.8328\nEpoch 9/10\n\u001B[1m27949/27949\u001B[0m \u001B[32m━━━━━━━━━━━━━━━━━━━━\u001B[0m\u001B[37m\u001B[0m \u001B[1m87s\u001B[0m 3ms/step - loss: 3.8871e-04 - r2_score: 0.8510 - val_loss: 3.6717e-04 - val_r2_score: 0.8588\nEpoch 10/10\n\u001B[1m27949/27949\u001B[0m \u001B[32m━━━━━━━━━━━━━━━━━━━━\u001B[0m\u001B[37m\u001B[0m \u001B[1m85s\u001B[0m 3ms/step - loss: 3.8763e-04 - r2_score: 0.8511 - val_loss: 3.9200e-04 - val_r2_score: 0.8492\n",
     "output_type": "stream"
    },
    {
     "name": "stderr",
     "text": "Traceback (most recent call last):\n  File \"/opt/conda/lib/python3.10/site-packages/keras_tuner/src/engine/base_tuner.py\", line 273, in _try_run_and_update_trial\n    self._run_and_update_trial(trial, *fit_args, **fit_kwargs)\n  File \"/opt/conda/lib/python3.10/site-packages/keras_tuner/src/engine/base_tuner.py\", line 264, in _run_and_update_trial\n    tuner_utils.convert_to_metrics_dict(\n  File \"/opt/conda/lib/python3.10/site-packages/keras_tuner/src/engine/tuner_utils.py\", line 132, in convert_to_metrics_dict\n    [convert_to_metrics_dict(elem, objective) for elem in results]\n  File \"/opt/conda/lib/python3.10/site-packages/keras_tuner/src/engine/tuner_utils.py\", line 132, in <listcomp>\n    [convert_to_metrics_dict(elem, objective) for elem in results]\n  File \"/opt/conda/lib/python3.10/site-packages/keras_tuner/src/engine/tuner_utils.py\", line 145, in convert_to_metrics_dict\n    best_value, _ = _get_best_value_and_best_epoch_from_history(\n  File \"/opt/conda/lib/python3.10/site-packages/keras_tuner/src/engine/tuner_utils.py\", line 116, in _get_best_value_and_best_epoch_from_history\n    objective_value = objective.get_value(metrics)\n  File \"/opt/conda/lib/python3.10/site-packages/keras_tuner/src/engine/objective.py\", line 59, in get_value\n    return logs[self.name]\nKeyError: 'val_accuracy'\n",
     "output_type": "stream"
    },
    {
     "traceback": [
      "\u001B[0;31m---------------------------------------------------------------------------\u001B[0m",
      "\u001B[0;31mRuntimeError\u001B[0m                              Traceback (most recent call last)",
      "Cell \u001B[0;32mIn[18], line 5\u001B[0m\n\u001B[1;32m      3\u001B[0m tensorboard_cb \u001B[38;5;241m=\u001B[39m tf\u001B[38;5;241m.\u001B[39mkeras\u001B[38;5;241m.\u001B[39mcallbacks\u001B[38;5;241m.\u001B[39mTensorBoard(root_logdir)\n\u001B[1;32m      4\u001B[0m early_stopping_cb \u001B[38;5;241m=\u001B[39m tf\u001B[38;5;241m.\u001B[39mkeras\u001B[38;5;241m.\u001B[39mcallbacks\u001B[38;5;241m.\u001B[39mEarlyStopping(patience\u001B[38;5;241m=\u001B[39m\u001B[38;5;241m3\u001B[39m)\n\u001B[0;32m----> 5\u001B[0m \u001B[43mbayesian_opt_tuner\u001B[49m\u001B[38;5;241;43m.\u001B[39;49m\u001B[43msearch\u001B[49m\u001B[43m(\u001B[49m\n\u001B[1;32m      6\u001B[0m \u001B[43m    \u001B[49m\u001B[43mX_train\u001B[49m\u001B[43m,\u001B[49m\u001B[43m \u001B[49m\u001B[43my_train\u001B[49m\u001B[43m,\u001B[49m\u001B[43m \u001B[49m\u001B[43mepochs\u001B[49m\u001B[38;5;241;43m=\u001B[39;49m\u001B[38;5;241;43m10\u001B[39;49m\u001B[43m,\u001B[49m\u001B[43m \u001B[49m\n\u001B[1;32m      7\u001B[0m \u001B[43m    \u001B[49m\u001B[43mvalidation_data\u001B[49m\u001B[38;5;241;43m=\u001B[39;49m\u001B[43m(\u001B[49m\u001B[43mX_val\u001B[49m\u001B[43m,\u001B[49m\u001B[43m \u001B[49m\u001B[43my_val\u001B[49m\u001B[43m)\u001B[49m\u001B[43m,\u001B[49m\n\u001B[1;32m      8\u001B[0m \u001B[43m    \u001B[49m\u001B[43mcallbacks\u001B[49m\u001B[38;5;241;43m=\u001B[39;49m\u001B[43m[\u001B[49m\u001B[43mearly_stopping_cb\u001B[49m\u001B[43m,\u001B[49m\u001B[43m \u001B[49m\u001B[43mtensorboard_cb\u001B[49m\u001B[43m]\u001B[49m\n\u001B[1;32m      9\u001B[0m \u001B[43m)\u001B[49m\n",
      "File \u001B[0;32m/opt/conda/lib/python3.10/site-packages/keras_tuner/src/engine/base_tuner.py:234\u001B[0m, in \u001B[0;36mBaseTuner.search\u001B[0;34m(self, *fit_args, **fit_kwargs)\u001B[0m\n\u001B[1;32m    232\u001B[0m     \u001B[38;5;28mself\u001B[39m\u001B[38;5;241m.\u001B[39mon_trial_begin(trial)\n\u001B[1;32m    233\u001B[0m     \u001B[38;5;28mself\u001B[39m\u001B[38;5;241m.\u001B[39m_try_run_and_update_trial(trial, \u001B[38;5;241m*\u001B[39mfit_args, \u001B[38;5;241m*\u001B[39m\u001B[38;5;241m*\u001B[39mfit_kwargs)\n\u001B[0;32m--> 234\u001B[0m     \u001B[38;5;28;43mself\u001B[39;49m\u001B[38;5;241;43m.\u001B[39;49m\u001B[43mon_trial_end\u001B[49m\u001B[43m(\u001B[49m\u001B[43mtrial\u001B[49m\u001B[43m)\u001B[49m\n\u001B[1;32m    235\u001B[0m \u001B[38;5;28mself\u001B[39m\u001B[38;5;241m.\u001B[39mon_search_end()\n",
      "File \u001B[0;32m/opt/conda/lib/python3.10/site-packages/keras_tuner/src/engine/base_tuner.py:338\u001B[0m, in \u001B[0;36mBaseTuner.on_trial_end\u001B[0;34m(self, trial)\u001B[0m\n\u001B[1;32m    332\u001B[0m \u001B[38;5;28;01mdef\u001B[39;00m \u001B[38;5;21mon_trial_end\u001B[39m(\u001B[38;5;28mself\u001B[39m, trial):\n\u001B[1;32m    333\u001B[0m \u001B[38;5;250m    \u001B[39m\u001B[38;5;124;03m\"\"\"Called at the end of a trial.\u001B[39;00m\n\u001B[1;32m    334\u001B[0m \n\u001B[1;32m    335\u001B[0m \u001B[38;5;124;03m    Args:\u001B[39;00m\n\u001B[1;32m    336\u001B[0m \u001B[38;5;124;03m        trial: A `Trial` instance.\u001B[39;00m\n\u001B[1;32m    337\u001B[0m \u001B[38;5;124;03m    \"\"\"\u001B[39;00m\n\u001B[0;32m--> 338\u001B[0m     \u001B[38;5;28;43mself\u001B[39;49m\u001B[38;5;241;43m.\u001B[39;49m\u001B[43moracle\u001B[49m\u001B[38;5;241;43m.\u001B[39;49m\u001B[43mend_trial\u001B[49m\u001B[43m(\u001B[49m\u001B[43mtrial\u001B[49m\u001B[43m)\u001B[49m\n\u001B[1;32m    339\u001B[0m     \u001B[38;5;28mself\u001B[39m\u001B[38;5;241m.\u001B[39msave()\n",
      "File \u001B[0;32m/opt/conda/lib/python3.10/site-packages/keras_tuner/src/engine/oracle.py:108\u001B[0m, in \u001B[0;36msynchronized.<locals>.wrapped_func\u001B[0;34m(*args, **kwargs)\u001B[0m\n\u001B[1;32m    106\u001B[0m     LOCKS[oracle]\u001B[38;5;241m.\u001B[39macquire()\n\u001B[1;32m    107\u001B[0m     THREADS[oracle] \u001B[38;5;241m=\u001B[39m thread_name\n\u001B[0;32m--> 108\u001B[0m ret_val \u001B[38;5;241m=\u001B[39m \u001B[43mfunc\u001B[49m\u001B[43m(\u001B[49m\u001B[38;5;241;43m*\u001B[39;49m\u001B[43margs\u001B[49m\u001B[43m,\u001B[49m\u001B[43m \u001B[49m\u001B[38;5;241;43m*\u001B[39;49m\u001B[38;5;241;43m*\u001B[39;49m\u001B[43mkwargs\u001B[49m\u001B[43m)\u001B[49m\n\u001B[1;32m    109\u001B[0m \u001B[38;5;28;01mif\u001B[39;00m need_acquire:\n\u001B[1;32m    110\u001B[0m     THREADS[oracle] \u001B[38;5;241m=\u001B[39m \u001B[38;5;28;01mNone\u001B[39;00m\n",
      "File \u001B[0;32m/opt/conda/lib/python3.10/site-packages/keras_tuner/src/engine/oracle.py:586\u001B[0m, in \u001B[0;36mOracle.end_trial\u001B[0;34m(self, trial)\u001B[0m\n\u001B[1;32m    584\u001B[0m \u001B[38;5;28;01mif\u001B[39;00m \u001B[38;5;129;01mnot\u001B[39;00m \u001B[38;5;28mself\u001B[39m\u001B[38;5;241m.\u001B[39m_retry(trial):\n\u001B[1;32m    585\u001B[0m     \u001B[38;5;28mself\u001B[39m\u001B[38;5;241m.\u001B[39mend_order\u001B[38;5;241m.\u001B[39mappend(trial\u001B[38;5;241m.\u001B[39mtrial_id)\n\u001B[0;32m--> 586\u001B[0m     \u001B[38;5;28;43mself\u001B[39;49m\u001B[38;5;241;43m.\u001B[39;49m\u001B[43m_check_consecutive_failures\u001B[49m\u001B[43m(\u001B[49m\u001B[43m)\u001B[49m\n\u001B[1;32m    588\u001B[0m \u001B[38;5;28mself\u001B[39m\u001B[38;5;241m.\u001B[39m_save_trial(trial)\n\u001B[1;32m    589\u001B[0m \u001B[38;5;28mself\u001B[39m\u001B[38;5;241m.\u001B[39msave()\n",
      "File \u001B[0;32m/opt/conda/lib/python3.10/site-packages/keras_tuner/src/engine/oracle.py:543\u001B[0m, in \u001B[0;36mOracle._check_consecutive_failures\u001B[0;34m(self)\u001B[0m\n\u001B[1;32m    541\u001B[0m     consecutive_failures \u001B[38;5;241m=\u001B[39m \u001B[38;5;241m0\u001B[39m\n\u001B[1;32m    542\u001B[0m \u001B[38;5;28;01mif\u001B[39;00m consecutive_failures \u001B[38;5;241m==\u001B[39m \u001B[38;5;28mself\u001B[39m\u001B[38;5;241m.\u001B[39mmax_consecutive_failed_trials:\n\u001B[0;32m--> 543\u001B[0m     \u001B[38;5;28;01mraise\u001B[39;00m \u001B[38;5;167;01mRuntimeError\u001B[39;00m(\n\u001B[1;32m    544\u001B[0m         \u001B[38;5;124m\"\u001B[39m\u001B[38;5;124mNumber of consecutive failures exceeded the limit \u001B[39m\u001B[38;5;124m\"\u001B[39m\n\u001B[1;32m    545\u001B[0m         \u001B[38;5;124mf\u001B[39m\u001B[38;5;124m\"\u001B[39m\u001B[38;5;124mof \u001B[39m\u001B[38;5;132;01m{\u001B[39;00m\u001B[38;5;28mself\u001B[39m\u001B[38;5;241m.\u001B[39mmax_consecutive_failed_trials\u001B[38;5;132;01m}\u001B[39;00m\u001B[38;5;124m.\u001B[39m\u001B[38;5;130;01m\\n\u001B[39;00m\u001B[38;5;124m\"\u001B[39m\n\u001B[1;32m    546\u001B[0m         \u001B[38;5;241m+\u001B[39m (trial\u001B[38;5;241m.\u001B[39mmessage \u001B[38;5;129;01mor\u001B[39;00m \u001B[38;5;124m\"\u001B[39m\u001B[38;5;124m\"\u001B[39m)\n\u001B[1;32m    547\u001B[0m     )\n",
      "\u001B[0;31mRuntimeError\u001B[0m: Number of consecutive failures exceeded the limit of 3.\nTraceback (most recent call last):\n  File \"/opt/conda/lib/python3.10/site-packages/keras_tuner/src/engine/base_tuner.py\", line 273, in _try_run_and_update_trial\n    self._run_and_update_trial(trial, *fit_args, **fit_kwargs)\n  File \"/opt/conda/lib/python3.10/site-packages/keras_tuner/src/engine/base_tuner.py\", line 264, in _run_and_update_trial\n    tuner_utils.convert_to_metrics_dict(\n  File \"/opt/conda/lib/python3.10/site-packages/keras_tuner/src/engine/tuner_utils.py\", line 132, in convert_to_metrics_dict\n    [convert_to_metrics_dict(elem, objective) for elem in results]\n  File \"/opt/conda/lib/python3.10/site-packages/keras_tuner/src/engine/tuner_utils.py\", line 132, in <listcomp>\n    [convert_to_metrics_dict(elem, objective) for elem in results]\n  File \"/opt/conda/lib/python3.10/site-packages/keras_tuner/src/engine/tuner_utils.py\", line 145, in convert_to_metrics_dict\n    best_value, _ = _get_best_value_and_best_epoch_from_history(\n  File \"/opt/conda/lib/python3.10/site-packages/keras_tuner/src/engine/tuner_utils.py\", line 116, in _get_best_value_and_best_epoch_from_history\n    objective_value = objective.get_value(metrics)\n  File \"/opt/conda/lib/python3.10/site-packages/keras_tuner/src/engine/objective.py\", line 59, in get_value\n    return logs[self.name]\nKeyError: 'val_accuracy'\n"
     ],
     "ename": "RuntimeError",
     "evalue": "Number of consecutive failures exceeded the limit of 3.\nTraceback (most recent call last):\n  File \"/opt/conda/lib/python3.10/site-packages/keras_tuner/src/engine/base_tuner.py\", line 273, in _try_run_and_update_trial\n    self._run_and_update_trial(trial, *fit_args, **fit_kwargs)\n  File \"/opt/conda/lib/python3.10/site-packages/keras_tuner/src/engine/base_tuner.py\", line 264, in _run_and_update_trial\n    tuner_utils.convert_to_metrics_dict(\n  File \"/opt/conda/lib/python3.10/site-packages/keras_tuner/src/engine/tuner_utils.py\", line 132, in convert_to_metrics_dict\n    [convert_to_metrics_dict(elem, objective) for elem in results]\n  File \"/opt/conda/lib/python3.10/site-packages/keras_tuner/src/engine/tuner_utils.py\", line 132, in <listcomp>\n    [convert_to_metrics_dict(elem, objective) for elem in results]\n  File \"/opt/conda/lib/python3.10/site-packages/keras_tuner/src/engine/tuner_utils.py\", line 145, in convert_to_metrics_dict\n    best_value, _ = _get_best_value_and_best_epoch_from_history(\n  File \"/opt/conda/lib/python3.10/site-packages/keras_tuner/src/engine/tuner_utils.py\", line 116, in _get_best_value_and_best_epoch_from_history\n    objective_value = objective.get_value(metrics)\n  File \"/opt/conda/lib/python3.10/site-packages/keras_tuner/src/engine/objective.py\", line 59, in get_value\n    return logs[self.name]\nKeyError: 'val_accuracy'\n",
     "output_type": "error"
    }
   ]
  },
  {
   "cell_type": "code",
   "source": [
    "%load_ext tensorboard\n",
    "%tensorboard --logdir=./my_logs"
   ],
   "metadata": {},
   "execution_count": null,
   "outputs": []
  },
  {
   "cell_type": "code",
   "source": [
    "y_pred = model.predict(X_test.values)"
   ],
   "metadata": {
    "execution": {
     "iopub.status.busy": "2024-05-21T09:21:52.120857Z",
     "iopub.execute_input": "2024-05-21T09:21:52.121400Z",
     "iopub.status.idle": "2024-05-21T09:22:30.015124Z",
     "shell.execute_reply.started": "2024-05-21T09:21:52.121348Z",
     "shell.execute_reply": "2024-05-21T09:22:30.013865Z"
    },
    "trusted": true
   },
   "execution_count": 97,
   "outputs": [
    {
     "name": "stdout",
     "text": "\u001B[1m23291/23291\u001B[0m \u001B[32m━━━━━━━━━━━━━━━━━━━━\u001B[0m\u001B[37m\u001B[0m \u001B[1m30s\u001B[0m 1ms/step\n",
     "output_type": "stream"
    }
   ]
  },
  {
   "cell_type": "code",
   "source": [
    "import seaborn as sns\n",
    "sns.histplot(y_pred)"
   ],
   "metadata": {
    "execution": {
     "iopub.status.busy": "2024-05-21T09:22:34.569490Z",
     "iopub.execute_input": "2024-05-21T09:22:34.570223Z",
     "iopub.status.idle": "2024-05-21T09:22:36.012354Z",
     "shell.execute_reply.started": "2024-05-21T09:22:34.570188Z",
     "shell.execute_reply": "2024-05-21T09:22:36.010767Z"
    },
    "trusted": true
   },
   "execution_count": 98,
   "outputs": [
    {
     "execution_count": 98,
     "output_type": "execute_result",
     "data": {
      "text/plain": "<Axes: ylabel='Count'>"
     },
     "metadata": {}
    },
    {
     "output_type": "display_data",
     "data": {
      "text/plain": "<Figure size 640x480 with 1 Axes>",
      "image/png": "[encoded data removed]"
     },
     "metadata": {}
    }
   ]
  },
  {
   "cell_type": "code",
   "source": [
    "sub = pd.DataFrame({'FloodProbability': y_pred.reshape(-1)},\n",
    "             index=test.index)\n",
    "sub.to_csv('submission.csv', index=True)\n"
   ],
   "metadata": {
    "trusted": true
   },
   "execution_count": null,
   "outputs": []
  }
 ]
}
