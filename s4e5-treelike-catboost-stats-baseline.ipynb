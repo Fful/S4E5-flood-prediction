{
 "cells": [
  {
   "cell_type": "code",
   "execution_count": 1,
   "id": "e23afb09",
   "metadata": {
    "_cell_guid": "b1076dfc-b9ad-4769-8c92-a6c4dae69d19",
    "_uuid": "8f2839f25d086af736a60e9eeb907d3b93b6e0e5",
    "execution": {
     "iopub.execute_input": "2024-05-03T05:51:49.624120Z",
     "iopub.status.busy": "2024-05-03T05:51:49.623667Z",
     "iopub.status.idle": "2024-05-03T05:51:50.570758Z",
     "shell.execute_reply": "2024-05-03T05:51:50.569495Z"
    },
    "papermill": {
     "duration": 0.958744,
     "end_time": "2024-05-03T05:51:50.573978",
     "exception": false,
     "start_time": "2024-05-03T05:51:49.615234",
     "status": "completed"
    },
    "tags": []
   },
   "outputs": [],
   "source": [
    "# main \n",
    "import numpy as np\n",
    "import pandas as pd\n",
    "\n",
    "# deal with warnings\n",
    "import warnings\n",
    "warnings.filterwarnings(\"ignore\")"
   ]
  },
  {
   "cell_type": "code",
   "execution_count": 2,
   "id": "d403fbaf",
   "metadata": {
    "execution": {
     "iopub.execute_input": "2024-05-03T05:51:50.586599Z",
     "iopub.status.busy": "2024-05-03T05:51:50.586059Z",
     "iopub.status.idle": "2024-05-03T05:51:54.756523Z",
     "shell.execute_reply": "2024-05-03T05:51:54.754928Z"
    },
    "papermill": {
     "duration": 4.180599,
     "end_time": "2024-05-03T05:51:54.760098",
     "exception": false,
     "start_time": "2024-05-03T05:51:50.579499",
     "status": "completed"
    },
    "tags": []
   },
   "outputs": [],
   "source": [
    "# set path\n",
    "path = '/kaggle/input/playground-series-s4e5'\n",
    "\n",
    "# load data\n",
    "train = pd.read_csv(f'{path}/train.csv', index_col=0)\n",
    "test = pd.read_csv(f'{path}/test.csv', index_col=0)"
   ]
  },
  {
   "cell_type": "code",
   "execution_count": 3,
   "id": "0699dd2c",
   "metadata": {
    "execution": {
     "iopub.execute_input": "2024-05-03T05:51:54.773672Z",
     "iopub.status.busy": "2024-05-03T05:51:54.773249Z",
     "iopub.status.idle": "2024-05-03T05:51:54.937024Z",
     "shell.execute_reply": "2024-05-03T05:51:54.935741Z"
    },
    "papermill": {
     "duration": 0.174162,
     "end_time": "2024-05-03T05:51:54.940192",
     "exception": false,
     "start_time": "2024-05-03T05:51:54.766030",
     "status": "completed"
    },
    "tags": []
   },
   "outputs": [],
   "source": [
    "train_features = train.drop(columns=['FloodProbability']).copy()"
   ]
  },
  {
   "cell_type": "markdown",
   "id": "e08fdfc7",
   "metadata": {
    "papermill": {
     "duration": 0.004785,
     "end_time": "2024-05-03T05:51:54.950075",
     "exception": false,
     "start_time": "2024-05-03T05:51:54.945290",
     "status": "completed"
    },
    "tags": []
   },
   "source": [
    "# PipeLine Maker"
   ]
  },
  {
   "cell_type": "code",
   "execution_count": 4,
   "id": "2b3345c0",
   "metadata": {
    "execution": {
     "iopub.execute_input": "2024-05-03T05:51:54.961594Z",
     "iopub.status.busy": "2024-05-03T05:51:54.961173Z",
     "iopub.status.idle": "2024-05-03T05:51:56.499261Z",
     "shell.execute_reply": "2024-05-03T05:51:56.498036Z"
    },
    "papermill": {
     "duration": 1.547561,
     "end_time": "2024-05-03T05:51:56.502421",
     "exception": false,
     "start_time": "2024-05-03T05:51:54.954860",
     "status": "completed"
    },
    "tags": []
   },
   "outputs": [],
   "source": [
    "from sklearn.pipeline import make_pipeline, Pipeline\n",
    "from sklearn.compose import ColumnTransformer, make_column_transformer, make_column_selector\n",
    "from sklearn.preprocessing import StandardScaler, MinMaxScaler, OneHotEncoder\n",
    "from sklearn.impute import SimpleImputer\n",
    "\n",
    "default_num_pipeline = make_pipeline(SimpleImputer(strategy=\"median\"),\n",
    "                                     StandardScaler())\n",
    "\n",
    "preprocessing_baseline = make_column_transformer(\n",
    "    (default_num_pipeline, make_column_selector(dtype_include=np.number)),\n",
    ")"
   ]
  },
  {
   "cell_type": "code",
   "execution_count": 5,
   "id": "bef1fdc8",
   "metadata": {
    "execution": {
     "iopub.execute_input": "2024-05-03T05:51:56.514752Z",
     "iopub.status.busy": "2024-05-03T05:51:56.514302Z",
     "iopub.status.idle": "2024-05-03T05:51:57.071652Z",
     "shell.execute_reply": "2024-05-03T05:51:57.070343Z"
    },
    "papermill": {
     "duration": 0.566931,
     "end_time": "2024-05-03T05:51:57.074555",
     "exception": false,
     "start_time": "2024-05-03T05:51:56.507624",
     "status": "completed"
    },
    "tags": []
   },
   "outputs": [],
   "source": [
    "from catboost import CatBoostRegressor\n",
    "# cat boost\n",
    "model = make_pipeline(preprocessing_baseline,\n",
    "                      CatBoostRegressor(verbose=0))"
   ]
  },
  {
   "cell_type": "markdown",
   "id": "7db99fff",
   "metadata": {
    "papermill": {
     "duration": 0.004657,
     "end_time": "2024-05-03T05:51:57.084396",
     "exception": false,
     "start_time": "2024-05-03T05:51:57.079739",
     "status": "completed"
    },
    "tags": []
   },
   "source": [
    "# New features"
   ]
  },
  {
   "cell_type": "code",
   "execution_count": 6,
   "id": "2da21833",
   "metadata": {
    "execution": {
     "iopub.execute_input": "2024-05-03T05:51:57.096458Z",
     "iopub.status.busy": "2024-05-03T05:51:57.095997Z",
     "iopub.status.idle": "2024-05-03T05:51:57.106150Z",
     "shell.execute_reply": "2024-05-03T05:51:57.104985Z"
    },
    "papermill": {
     "duration": 0.019153,
     "end_time": "2024-05-03T05:51:57.108514",
     "exception": false,
     "start_time": "2024-05-03T05:51:57.089361",
     "status": "completed"
    },
    "tags": []
   },
   "outputs": [],
   "source": [
    "def stat_features(data, only_stat=False):\n",
    "    \n",
    "    df = data.copy()\n",
    "    cols = df.columns\n",
    "    \n",
    "#     df['sum'] = df[cols].sum(axis=1) # Same info as mean 1 corr\n",
    "    df['mean'] = df[cols].mean(axis=1)\n",
    "    df['std'] = df[cols].std(axis=1)\n",
    "    df['median'] = df[cols].median(axis=1)\n",
    "    df['min_all'] = df[cols].min(axis=1)\n",
    "    df['max_all'] = df[cols].max(axis=1)\n",
    "    df['ptp'] = df[cols].values.ptp(axis=1)\n",
    "    df['q25'] = df[cols].quantile(0.25, axis=1)\n",
    "    df['q75'] = df[cols].quantile(0.75, axis=1)\n",
    "    \n",
    "    if only_stat:\n",
    "        df = df.drop(columns=cols) # drops lables too\n",
    "        \n",
    "    return df"
   ]
  },
  {
   "cell_type": "code",
   "execution_count": 7,
   "id": "65820a3b",
   "metadata": {
    "execution": {
     "iopub.execute_input": "2024-05-03T05:51:57.120360Z",
     "iopub.status.busy": "2024-05-03T05:51:57.119938Z",
     "iopub.status.idle": "2024-05-03T05:52:06.693319Z",
     "shell.execute_reply": "2024-05-03T05:52:06.692119Z"
    },
    "papermill": {
     "duration": 9.582766,
     "end_time": "2024-05-03T05:52:06.696192",
     "exception": false,
     "start_time": "2024-05-03T05:51:57.113426",
     "status": "completed"
    },
    "tags": []
   },
   "outputs": [],
   "source": [
    "X_train = stat_features(train_features, only_stat=True)\n",
    "X_test = stat_features(test, only_stat=True)\n",
    "\n",
    "y_train = train[['FloodProbability']]"
   ]
  },
  {
   "cell_type": "markdown",
   "id": "d443b964",
   "metadata": {
    "papermill": {
     "duration": 0.004486,
     "end_time": "2024-05-03T05:52:06.705777",
     "exception": false,
     "start_time": "2024-05-03T05:52:06.701291",
     "status": "completed"
    },
    "tags": []
   },
   "source": [
    "# PipeLine fit"
   ]
  },
  {
   "cell_type": "code",
   "execution_count": 8,
   "id": "290a880b",
   "metadata": {
    "execution": {
     "iopub.execute_input": "2024-05-03T05:52:06.717813Z",
     "iopub.status.busy": "2024-05-03T05:52:06.716635Z",
     "iopub.status.idle": "2024-05-03T05:53:36.295936Z",
     "shell.execute_reply": "2024-05-03T05:53:36.294555Z"
    },
    "papermill": {
     "duration": 89.588761,
     "end_time": "2024-05-03T05:53:36.299252",
     "exception": false,
     "start_time": "2024-05-03T05:52:06.710491",
     "status": "completed"
    },
    "tags": []
   },
   "outputs": [],
   "source": [
    "model.fit(X_train, y_train)\n",
    "test_pred = model.predict(X_test)"
   ]
  },
  {
   "cell_type": "code",
   "execution_count": 9,
   "id": "6f54b853",
   "metadata": {
    "execution": {
     "iopub.execute_input": "2024-05-03T05:53:36.310949Z",
     "iopub.status.busy": "2024-05-03T05:53:36.310569Z",
     "iopub.status.idle": "2024-05-03T05:53:36.332824Z",
     "shell.execute_reply": "2024-05-03T05:53:36.331416Z"
    },
    "papermill": {
     "duration": 0.03089,
     "end_time": "2024-05-03T05:53:36.335225",
     "exception": false,
     "start_time": "2024-05-03T05:53:36.304335",
     "status": "completed"
    },
    "tags": []
   },
   "outputs": [
    {
     "data": {
      "text/html": [
       "<div>\n",
       "<style scoped>\n",
       "    .dataframe tbody tr th:only-of-type {\n",
       "        vertical-align: middle;\n",
       "    }\n",
       "\n",
       "    .dataframe tbody tr th {\n",
       "        vertical-align: top;\n",
       "    }\n",
       "\n",
       "    .dataframe thead th {\n",
       "        text-align: right;\n",
       "    }\n",
       "</style>\n",
       "<table border=\"1\" class=\"dataframe\">\n",
       "  <thead>\n",
       "    <tr style=\"text-align: right;\">\n",
       "      <th></th>\n",
       "      <th>FloodProbability</th>\n",
       "    </tr>\n",
       "    <tr>\n",
       "      <th>id</th>\n",
       "      <th></th>\n",
       "    </tr>\n",
       "  </thead>\n",
       "  <tbody>\n",
       "    <tr>\n",
       "      <th>1117957</th>\n",
       "      <td>0.578547</td>\n",
       "    </tr>\n",
       "    <tr>\n",
       "      <th>1117958</th>\n",
       "      <td>0.457183</td>\n",
       "    </tr>\n",
       "    <tr>\n",
       "      <th>1117959</th>\n",
       "      <td>0.449342</td>\n",
       "    </tr>\n",
       "    <tr>\n",
       "      <th>1117960</th>\n",
       "      <td>0.467124</td>\n",
       "    </tr>\n",
       "    <tr>\n",
       "      <th>1117961</th>\n",
       "      <td>0.467543</td>\n",
       "    </tr>\n",
       "    <tr>\n",
       "      <th>...</th>\n",
       "      <td>...</td>\n",
       "    </tr>\n",
       "    <tr>\n",
       "      <th>1863257</th>\n",
       "      <td>0.475929</td>\n",
       "    </tr>\n",
       "    <tr>\n",
       "      <th>1863258</th>\n",
       "      <td>0.446555</td>\n",
       "    </tr>\n",
       "    <tr>\n",
       "      <th>1863259</th>\n",
       "      <td>0.621064</td>\n",
       "    </tr>\n",
       "    <tr>\n",
       "      <th>1863260</th>\n",
       "      <td>0.548848</td>\n",
       "    </tr>\n",
       "    <tr>\n",
       "      <th>1863261</th>\n",
       "      <td>0.529132</td>\n",
       "    </tr>\n",
       "  </tbody>\n",
       "</table>\n",
       "<p>745305 rows × 1 columns</p>\n",
       "</div>"
      ],
      "text/plain": [
       "         FloodProbability\n",
       "id                       \n",
       "1117957          0.578547\n",
       "1117958          0.457183\n",
       "1117959          0.449342\n",
       "1117960          0.467124\n",
       "1117961          0.467543\n",
       "...                   ...\n",
       "1863257          0.475929\n",
       "1863258          0.446555\n",
       "1863259          0.621064\n",
       "1863260          0.548848\n",
       "1863261          0.529132\n",
       "\n",
       "[745305 rows x 1 columns]"
      ]
     },
     "execution_count": 9,
     "metadata": {},
     "output_type": "execute_result"
    }
   ],
   "source": [
    "sub = pd.DataFrame({y_train.columns[0]: test_pred},\n",
    "             index=test.index)\n",
    "sub"
   ]
  },
  {
   "cell_type": "code",
   "execution_count": 10,
   "id": "46577f5c",
   "metadata": {
    "execution": {
     "iopub.execute_input": "2024-05-03T05:53:36.347649Z",
     "iopub.status.busy": "2024-05-03T05:53:36.347192Z",
     "iopub.status.idle": "2024-05-03T05:53:38.769165Z",
     "shell.execute_reply": "2024-05-03T05:53:38.767401Z"
    },
    "papermill": {
     "duration": 2.432007,
     "end_time": "2024-05-03T05:53:38.772549",
     "exception": false,
     "start_time": "2024-05-03T05:53:36.340542",
     "status": "completed"
    },
    "tags": []
   },
   "outputs": [],
   "source": [
    "MAKE_SUBMISSION = True\n",
    "\n",
    "if MAKE_SUBMISSION:\n",
    "    sub.to_csv('submission.csv', index=True)"
   ]
  }
 ],
 "metadata": {
  "kaggle": {
   "accelerator": "none",
   "dataSources": [
    {
     "databundleVersionId": 8121328,
     "sourceId": 73278,
     "sourceType": "competition"
    }
   ],
   "dockerImageVersionId": 30698,
   "isGpuEnabled": false,
   "isInternetEnabled": true,
   "language": "python",
   "sourceType": "notebook"
  },
  "kernelspec": {
   "display_name": "Python 3",
   "language": "python",
   "name": "python3"
  },
  "language_info": {
   "codemirror_mode": {
    "name": "ipython",
    "version": 3
   },
   "file_extension": ".py",
   "mimetype": "text/x-python",
   "name": "python",
   "nbconvert_exporter": "python",
   "pygments_lexer": "ipython3",
   "version": "3.10.13"
  },
  "papermill": {
   "default_parameters": {},
   "duration": 112.951391,
   "end_time": "2024-05-03T05:53:39.502614",
   "environment_variables": {},
   "exception": null,
   "input_path": "__notebook__.ipynb",
   "output_path": "__notebook__.ipynb",
   "parameters": {},
   "start_time": "2024-05-03T05:51:46.551223",
   "version": "2.5.0"
  }
 },
 "nbformat": 4,
 "nbformat_minor": 5
}
