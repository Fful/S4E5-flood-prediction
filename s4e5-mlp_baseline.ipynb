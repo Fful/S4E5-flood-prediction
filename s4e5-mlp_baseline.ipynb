{
 "cells": [
  {
   "cell_type": "code",
   "execution_count": 1,
   "id": "e38fd2c7",
   "metadata": {
    "_cell_guid": "b1076dfc-b9ad-4769-8c92-a6c4dae69d19",
    "_uuid": "8f2839f25d086af736a60e9eeb907d3b93b6e0e5",
    "execution": {
     "iopub.execute_input": "2024-05-21T09:23:39.821012Z",
     "iopub.status.busy": "2024-05-21T09:23:39.820635Z",
     "iopub.status.idle": "2024-05-21T09:23:40.773265Z",
     "shell.execute_reply": "2024-05-21T09:23:40.771939Z"
    },
    "papermill": {
     "duration": 0.96218,
     "end_time": "2024-05-21T09:23:40.775957",
     "exception": false,
     "start_time": "2024-05-21T09:23:39.813777",
     "status": "completed"
    },
    "tags": []
   },
   "outputs": [],
   "source": [
    "# main \n",
    "import numpy as np\n",
    "import pandas as pd\n",
    "pd.set_option('display.max_columns', None)\n",
    "\n",
    "# viz\n",
    "import matplotlib.pyplot as plt\n",
    "%matplotlib inline\n",
    "\n",
    "# deal with warnings\n",
    "import warnings\n",
    "warnings.filterwarnings(\"ignore\")"
   ]
  },
  {
   "cell_type": "code",
   "execution_count": 2,
   "id": "c831fefe",
   "metadata": {
    "execution": {
     "iopub.execute_input": "2024-05-21T09:23:40.789760Z",
     "iopub.status.busy": "2024-05-21T09:23:40.788816Z",
     "iopub.status.idle": "2024-05-21T09:23:44.397350Z",
     "shell.execute_reply": "2024-05-21T09:23:44.396061Z"
    },
    "papermill": {
     "duration": 3.617634,
     "end_time": "2024-05-21T09:23:44.400111",
     "exception": false,
     "start_time": "2024-05-21T09:23:40.782477",
     "status": "completed"
    },
    "tags": []
   },
   "outputs": [],
   "source": [
    "# set path\n",
    "path = '/kaggle/input/playground-series-s4e5'\n",
    "\n",
    "# load data\n",
    "train = pd.read_csv(f'{path}/train.csv', index_col=0)\n",
    "test = pd.read_csv(f'{path}/test.csv', index_col=0)"
   ]
  },
  {
   "cell_type": "markdown",
   "id": "2bcc897e",
   "metadata": {
    "papermill": {
     "duration": 0.00411,
     "end_time": "2024-05-21T09:23:44.409241",
     "exception": false,
     "start_time": "2024-05-21T09:23:44.405131",
     "status": "completed"
    },
    "tags": []
   },
   "source": [
    "# Features"
   ]
  },
  {
   "cell_type": "code",
   "execution_count": 3,
   "id": "bd92f62d",
   "metadata": {
    "execution": {
     "iopub.execute_input": "2024-05-21T09:23:44.420252Z",
     "iopub.status.busy": "2024-05-21T09:23:44.419646Z",
     "iopub.status.idle": "2024-05-21T09:23:44.427054Z",
     "shell.execute_reply": "2024-05-21T09:23:44.426039Z"
    },
    "papermill": {
     "duration": 0.015698,
     "end_time": "2024-05-21T09:23:44.429443",
     "exception": false,
     "start_time": "2024-05-21T09:23:44.413745",
     "status": "completed"
    },
    "tags": []
   },
   "outputs": [],
   "source": [
    "def stat_features(data, only_stat=False):\n",
    "    \"\"\"\n",
    "    A lot of statistic features\n",
    "    \"\"\"\n",
    "    df = data.copy()\n",
    "    cols = df.columns\n",
    "    \n",
    "    df['sum'] = df[cols].sum(axis=1) \n",
    "    # df['mean'] = df[cols].mean(axis=1) # Same info as mean 1 corr\n",
    "    df['std'] = df[cols].std(axis=1)\n",
    "    df['median'] = df[cols].median(axis=1)\n",
    "    df['min_all'] = df[cols].min(axis=1)\n",
    "    df['max_all'] = df[cols].max(axis=1)\n",
    "    df['ptp'] = df[cols].values.ptp(axis=1)\n",
    "    df['q25'] = df[cols].quantile(0.25, axis=1)\n",
    "    df['q75'] = df[cols].quantile(0.75, axis=1)\n",
    "    \n",
    "    if only_stat:\n",
    "        df = df.drop(columns=cols)\n",
    "        \n",
    "    return df\n"
   ]
  },
  {
   "cell_type": "code",
   "execution_count": 4,
   "id": "33a974b6",
   "metadata": {
    "execution": {
     "iopub.execute_input": "2024-05-21T09:23:44.440651Z",
     "iopub.status.busy": "2024-05-21T09:23:44.440015Z",
     "iopub.status.idle": "2024-05-21T09:23:44.463129Z",
     "shell.execute_reply": "2024-05-21T09:23:44.462055Z"
    },
    "papermill": {
     "duration": 0.031506,
     "end_time": "2024-05-21T09:23:44.465604",
     "exception": false,
     "start_time": "2024-05-21T09:23:44.434098",
     "status": "completed"
    },
    "tags": []
   },
   "outputs": [
    {
     "data": {
      "text/html": [
       "<div>\n",
       "<style scoped>\n",
       "    .dataframe tbody tr th:only-of-type {\n",
       "        vertical-align: middle;\n",
       "    }\n",
       "\n",
       "    .dataframe tbody tr th {\n",
       "        vertical-align: top;\n",
       "    }\n",
       "\n",
       "    .dataframe thead th {\n",
       "        text-align: right;\n",
       "    }\n",
       "</style>\n",
       "<table border=\"1\" class=\"dataframe\">\n",
       "  <thead>\n",
       "    <tr style=\"text-align: right;\">\n",
       "      <th></th>\n",
       "      <th>MonsoonIntensity</th>\n",
       "      <th>TopographyDrainage</th>\n",
       "      <th>RiverManagement</th>\n",
       "      <th>Deforestation</th>\n",
       "      <th>Urbanization</th>\n",
       "      <th>ClimateChange</th>\n",
       "      <th>DamsQuality</th>\n",
       "      <th>Siltation</th>\n",
       "      <th>AgriculturalPractices</th>\n",
       "      <th>Encroachments</th>\n",
       "      <th>IneffectiveDisasterPreparedness</th>\n",
       "      <th>DrainageSystems</th>\n",
       "      <th>CoastalVulnerability</th>\n",
       "      <th>Landslides</th>\n",
       "      <th>Watersheds</th>\n",
       "      <th>DeterioratingInfrastructure</th>\n",
       "      <th>PopulationScore</th>\n",
       "      <th>WetlandLoss</th>\n",
       "      <th>InadequatePlanning</th>\n",
       "      <th>PoliticalFactors</th>\n",
       "      <th>FloodProbability</th>\n",
       "    </tr>\n",
       "    <tr>\n",
       "      <th>id</th>\n",
       "      <th></th>\n",
       "      <th></th>\n",
       "      <th></th>\n",
       "      <th></th>\n",
       "      <th></th>\n",
       "      <th></th>\n",
       "      <th></th>\n",
       "      <th></th>\n",
       "      <th></th>\n",
       "      <th></th>\n",
       "      <th></th>\n",
       "      <th></th>\n",
       "      <th></th>\n",
       "      <th></th>\n",
       "      <th></th>\n",
       "      <th></th>\n",
       "      <th></th>\n",
       "      <th></th>\n",
       "      <th></th>\n",
       "      <th></th>\n",
       "      <th></th>\n",
       "    </tr>\n",
       "  </thead>\n",
       "  <tbody>\n",
       "    <tr>\n",
       "      <th>0</th>\n",
       "      <td>5</td>\n",
       "      <td>8</td>\n",
       "      <td>5</td>\n",
       "      <td>8</td>\n",
       "      <td>6</td>\n",
       "      <td>4</td>\n",
       "      <td>4</td>\n",
       "      <td>3</td>\n",
       "      <td>3</td>\n",
       "      <td>4</td>\n",
       "      <td>2</td>\n",
       "      <td>5</td>\n",
       "      <td>3</td>\n",
       "      <td>3</td>\n",
       "      <td>5</td>\n",
       "      <td>4</td>\n",
       "      <td>7</td>\n",
       "      <td>5</td>\n",
       "      <td>7</td>\n",
       "      <td>3</td>\n",
       "      <td>0.445</td>\n",
       "    </tr>\n",
       "    <tr>\n",
       "      <th>1</th>\n",
       "      <td>6</td>\n",
       "      <td>7</td>\n",
       "      <td>4</td>\n",
       "      <td>4</td>\n",
       "      <td>8</td>\n",
       "      <td>8</td>\n",
       "      <td>3</td>\n",
       "      <td>5</td>\n",
       "      <td>4</td>\n",
       "      <td>6</td>\n",
       "      <td>9</td>\n",
       "      <td>7</td>\n",
       "      <td>2</td>\n",
       "      <td>0</td>\n",
       "      <td>3</td>\n",
       "      <td>5</td>\n",
       "      <td>3</td>\n",
       "      <td>3</td>\n",
       "      <td>4</td>\n",
       "      <td>3</td>\n",
       "      <td>0.450</td>\n",
       "    </tr>\n",
       "    <tr>\n",
       "      <th>2</th>\n",
       "      <td>6</td>\n",
       "      <td>5</td>\n",
       "      <td>6</td>\n",
       "      <td>7</td>\n",
       "      <td>3</td>\n",
       "      <td>7</td>\n",
       "      <td>1</td>\n",
       "      <td>5</td>\n",
       "      <td>4</td>\n",
       "      <td>5</td>\n",
       "      <td>6</td>\n",
       "      <td>7</td>\n",
       "      <td>3</td>\n",
       "      <td>7</td>\n",
       "      <td>5</td>\n",
       "      <td>6</td>\n",
       "      <td>8</td>\n",
       "      <td>2</td>\n",
       "      <td>3</td>\n",
       "      <td>3</td>\n",
       "      <td>0.530</td>\n",
       "    </tr>\n",
       "  </tbody>\n",
       "</table>\n",
       "</div>"
      ],
      "text/plain": [
       "    MonsoonIntensity  TopographyDrainage  RiverManagement  Deforestation  \\\n",
       "id                                                                         \n",
       "0                  5                   8                5              8   \n",
       "1                  6                   7                4              4   \n",
       "2                  6                   5                6              7   \n",
       "\n",
       "    Urbanization  ClimateChange  DamsQuality  Siltation  \\\n",
       "id                                                        \n",
       "0              6              4            4          3   \n",
       "1              8              8            3          5   \n",
       "2              3              7            1          5   \n",
       "\n",
       "    AgriculturalPractices  Encroachments  IneffectiveDisasterPreparedness  \\\n",
       "id                                                                          \n",
       "0                       3              4                                2   \n",
       "1                       4              6                                9   \n",
       "2                       4              5                                6   \n",
       "\n",
       "    DrainageSystems  CoastalVulnerability  Landslides  Watersheds  \\\n",
       "id                                                                  \n",
       "0                 5                     3           3           5   \n",
       "1                 7                     2           0           3   \n",
       "2                 7                     3           7           5   \n",
       "\n",
       "    DeterioratingInfrastructure  PopulationScore  WetlandLoss  \\\n",
       "id                                                              \n",
       "0                             4                7            5   \n",
       "1                             5                3            3   \n",
       "2                             6                8            2   \n",
       "\n",
       "    InadequatePlanning  PoliticalFactors  FloodProbability  \n",
       "id                                                          \n",
       "0                    7                 3             0.445  \n",
       "1                    4                 3             0.450  \n",
       "2                    3                 3             0.530  "
      ]
     },
     "execution_count": 4,
     "metadata": {},
     "output_type": "execute_result"
    }
   ],
   "source": [
    "train.head(3)"
   ]
  },
  {
   "cell_type": "code",
   "execution_count": 5,
   "id": "cd521b85",
   "metadata": {
    "execution": {
     "iopub.execute_input": "2024-05-21T09:23:44.476888Z",
     "iopub.status.busy": "2024-05-21T09:23:44.476461Z",
     "iopub.status.idle": "2024-05-21T09:23:44.493156Z",
     "shell.execute_reply": "2024-05-21T09:23:44.491955Z"
    },
    "papermill": {
     "duration": 0.025049,
     "end_time": "2024-05-21T09:23:44.495442",
     "exception": false,
     "start_time": "2024-05-21T09:23:44.470393",
     "status": "completed"
    },
    "tags": []
   },
   "outputs": [
    {
     "data": {
      "text/html": [
       "<div>\n",
       "<style scoped>\n",
       "    .dataframe tbody tr th:only-of-type {\n",
       "        vertical-align: middle;\n",
       "    }\n",
       "\n",
       "    .dataframe tbody tr th {\n",
       "        vertical-align: top;\n",
       "    }\n",
       "\n",
       "    .dataframe thead th {\n",
       "        text-align: right;\n",
       "    }\n",
       "</style>\n",
       "<table border=\"1\" class=\"dataframe\">\n",
       "  <thead>\n",
       "    <tr style=\"text-align: right;\">\n",
       "      <th></th>\n",
       "      <th>MonsoonIntensity</th>\n",
       "      <th>TopographyDrainage</th>\n",
       "      <th>RiverManagement</th>\n",
       "      <th>Deforestation</th>\n",
       "      <th>Urbanization</th>\n",
       "      <th>ClimateChange</th>\n",
       "      <th>DamsQuality</th>\n",
       "      <th>Siltation</th>\n",
       "      <th>AgriculturalPractices</th>\n",
       "      <th>Encroachments</th>\n",
       "      <th>IneffectiveDisasterPreparedness</th>\n",
       "      <th>DrainageSystems</th>\n",
       "      <th>CoastalVulnerability</th>\n",
       "      <th>Landslides</th>\n",
       "      <th>Watersheds</th>\n",
       "      <th>DeterioratingInfrastructure</th>\n",
       "      <th>PopulationScore</th>\n",
       "      <th>WetlandLoss</th>\n",
       "      <th>InadequatePlanning</th>\n",
       "      <th>PoliticalFactors</th>\n",
       "    </tr>\n",
       "    <tr>\n",
       "      <th>id</th>\n",
       "      <th></th>\n",
       "      <th></th>\n",
       "      <th></th>\n",
       "      <th></th>\n",
       "      <th></th>\n",
       "      <th></th>\n",
       "      <th></th>\n",
       "      <th></th>\n",
       "      <th></th>\n",
       "      <th></th>\n",
       "      <th></th>\n",
       "      <th></th>\n",
       "      <th></th>\n",
       "      <th></th>\n",
       "      <th></th>\n",
       "      <th></th>\n",
       "      <th></th>\n",
       "      <th></th>\n",
       "      <th></th>\n",
       "      <th></th>\n",
       "    </tr>\n",
       "  </thead>\n",
       "  <tbody>\n",
       "    <tr>\n",
       "      <th>1117957</th>\n",
       "      <td>4</td>\n",
       "      <td>6</td>\n",
       "      <td>3</td>\n",
       "      <td>5</td>\n",
       "      <td>6</td>\n",
       "      <td>7</td>\n",
       "      <td>8</td>\n",
       "      <td>7</td>\n",
       "      <td>8</td>\n",
       "      <td>4</td>\n",
       "      <td>8</td>\n",
       "      <td>5</td>\n",
       "      <td>7</td>\n",
       "      <td>5</td>\n",
       "      <td>6</td>\n",
       "      <td>3</td>\n",
       "      <td>6</td>\n",
       "      <td>4</td>\n",
       "      <td>4</td>\n",
       "      <td>5</td>\n",
       "    </tr>\n",
       "    <tr>\n",
       "      <th>1117958</th>\n",
       "      <td>4</td>\n",
       "      <td>4</td>\n",
       "      <td>2</td>\n",
       "      <td>9</td>\n",
       "      <td>5</td>\n",
       "      <td>5</td>\n",
       "      <td>4</td>\n",
       "      <td>7</td>\n",
       "      <td>5</td>\n",
       "      <td>4</td>\n",
       "      <td>2</td>\n",
       "      <td>4</td>\n",
       "      <td>7</td>\n",
       "      <td>4</td>\n",
       "      <td>5</td>\n",
       "      <td>1</td>\n",
       "      <td>7</td>\n",
       "      <td>4</td>\n",
       "      <td>4</td>\n",
       "      <td>3</td>\n",
       "    </tr>\n",
       "    <tr>\n",
       "      <th>1117959</th>\n",
       "      <td>1</td>\n",
       "      <td>3</td>\n",
       "      <td>6</td>\n",
       "      <td>5</td>\n",
       "      <td>7</td>\n",
       "      <td>2</td>\n",
       "      <td>4</td>\n",
       "      <td>6</td>\n",
       "      <td>4</td>\n",
       "      <td>2</td>\n",
       "      <td>7</td>\n",
       "      <td>9</td>\n",
       "      <td>2</td>\n",
       "      <td>5</td>\n",
       "      <td>5</td>\n",
       "      <td>2</td>\n",
       "      <td>3</td>\n",
       "      <td>6</td>\n",
       "      <td>8</td>\n",
       "      <td>3</td>\n",
       "    </tr>\n",
       "  </tbody>\n",
       "</table>\n",
       "</div>"
      ],
      "text/plain": [
       "         MonsoonIntensity  TopographyDrainage  RiverManagement  Deforestation  \\\n",
       "id                                                                              \n",
       "1117957                 4                   6                3              5   \n",
       "1117958                 4                   4                2              9   \n",
       "1117959                 1                   3                6              5   \n",
       "\n",
       "         Urbanization  ClimateChange  DamsQuality  Siltation  \\\n",
       "id                                                             \n",
       "1117957             6              7            8          7   \n",
       "1117958             5              5            4          7   \n",
       "1117959             7              2            4          6   \n",
       "\n",
       "         AgriculturalPractices  Encroachments  \\\n",
       "id                                              \n",
       "1117957                      8              4   \n",
       "1117958                      5              4   \n",
       "1117959                      4              2   \n",
       "\n",
       "         IneffectiveDisasterPreparedness  DrainageSystems  \\\n",
       "id                                                          \n",
       "1117957                                8                5   \n",
       "1117958                                2                4   \n",
       "1117959                                7                9   \n",
       "\n",
       "         CoastalVulnerability  Landslides  Watersheds  \\\n",
       "id                                                      \n",
       "1117957                     7           5           6   \n",
       "1117958                     7           4           5   \n",
       "1117959                     2           5           5   \n",
       "\n",
       "         DeterioratingInfrastructure  PopulationScore  WetlandLoss  \\\n",
       "id                                                                   \n",
       "1117957                            3                6            4   \n",
       "1117958                            1                7            4   \n",
       "1117959                            2                3            6   \n",
       "\n",
       "         InadequatePlanning  PoliticalFactors  \n",
       "id                                             \n",
       "1117957                   4                 5  \n",
       "1117958                   4                 3  \n",
       "1117959                   8                 3  "
      ]
     },
     "execution_count": 5,
     "metadata": {},
     "output_type": "execute_result"
    }
   ],
   "source": [
    "test.head(3)"
   ]
  },
  {
   "cell_type": "code",
   "execution_count": 6,
   "id": "5049ae07",
   "metadata": {
    "execution": {
     "iopub.execute_input": "2024-05-21T09:23:44.506924Z",
     "iopub.status.busy": "2024-05-21T09:23:44.506538Z",
     "iopub.status.idle": "2024-05-21T09:23:53.890437Z",
     "shell.execute_reply": "2024-05-21T09:23:53.888955Z"
    },
    "papermill": {
     "duration": 9.392748,
     "end_time": "2024-05-21T09:23:53.893102",
     "exception": false,
     "start_time": "2024-05-21T09:23:44.500354",
     "status": "completed"
    },
    "tags": []
   },
   "outputs": [
    {
     "name": "stdout",
     "output_type": "stream",
     "text": [
      "train_shape (1006161, 28),\n",
      " val_shape (111796, 28)\n"
     ]
    }
   ],
   "source": [
    "from sklearn.model_selection import StratifiedShuffleSplit, train_test_split\n",
    "\n",
    "X_train_full = train.drop(columns = ['FloodProbability'])\n",
    "y_train_full = train[['FloodProbability']].copy()\n",
    "\n",
    "X_train_full = stat_features(data=X_train_full)\n",
    "X_test = stat_features(data=test)\n",
    "\n",
    "X_train, X_val, y_train, y_val = train_test_split(X_train_full, y_train_full, test_size=0.1, random_state=42)\n",
    "\n",
    "# # StratifiedShuffleSplit\n",
    "# splitter = StratifiedShuffleSplit(n_splits=1, test_size=0.1, random_state=42)\n",
    "# train_idx, val_idx = next(splitter.split(X_train_full, y_train_full))\n",
    "\n",
    "# X_train, y_train = X_train_full.iloc[train_idx], y_train_full.iloc[train_idx]\n",
    "# X_val, y_val = X_train_full.iloc[val_idx], y_train_full.iloc[val_idx]\n",
    "\n",
    "\n",
    "print(f'train_shape {X_train.shape},\\n val_shape {X_val.shape}')"
   ]
  },
  {
   "cell_type": "markdown",
   "id": "7cfb4731",
   "metadata": {
    "papermill": {
     "duration": 0.004823,
     "end_time": "2024-05-21T09:23:53.903121",
     "exception": false,
     "start_time": "2024-05-21T09:23:53.898298",
     "status": "completed"
    },
    "tags": []
   },
   "source": [
    "# Building mlp model"
   ]
  },
  {
   "cell_type": "code",
   "execution_count": 7,
   "id": "1f14a294",
   "metadata": {
    "execution": {
     "iopub.execute_input": "2024-05-21T09:23:53.915629Z",
     "iopub.status.busy": "2024-05-21T09:23:53.915239Z",
     "iopub.status.idle": "2024-05-21T09:24:07.942908Z",
     "shell.execute_reply": "2024-05-21T09:24:07.941518Z"
    },
    "papermill": {
     "duration": 14.03684,
     "end_time": "2024-05-21T09:24:07.945602",
     "exception": false,
     "start_time": "2024-05-21T09:23:53.908762",
     "status": "completed"
    },
    "tags": []
   },
   "outputs": [
    {
     "name": "stderr",
     "output_type": "stream",
     "text": [
      "2024-05-21 09:23:56.158507: E external/local_xla/xla/stream_executor/cuda/cuda_dnn.cc:9261] Unable to register cuDNN factory: Attempting to register factory for plugin cuDNN when one has already been registered\n",
      "2024-05-21 09:23:56.158643: E external/local_xla/xla/stream_executor/cuda/cuda_fft.cc:607] Unable to register cuFFT factory: Attempting to register factory for plugin cuFFT when one has already been registered\n",
      "2024-05-21 09:23:56.305996: E external/local_xla/xla/stream_executor/cuda/cuda_blas.cc:1515] Unable to register cuBLAS factory: Attempting to register factory for plugin cuBLAS when one has already been registered\n"
     ]
    }
   ],
   "source": [
    "import tensorflow as tf\n",
    "import keras_tuner as kt"
   ]
  },
  {
   "cell_type": "code",
   "execution_count": 8,
   "id": "ed67ddf7",
   "metadata": {
    "execution": {
     "iopub.execute_input": "2024-05-21T09:24:07.958522Z",
     "iopub.status.busy": "2024-05-21T09:24:07.957791Z",
     "iopub.status.idle": "2024-05-21T09:24:08.188560Z",
     "shell.execute_reply": "2024-05-21T09:24:08.187267Z"
    },
    "papermill": {
     "duration": 0.239937,
     "end_time": "2024-05-21T09:24:08.190960",
     "exception": false,
     "start_time": "2024-05-21T09:24:07.951023",
     "status": "completed"
    },
    "tags": []
   },
   "outputs": [],
   "source": [
    "tf.keras.backend.clear_session()"
   ]
  },
  {
   "cell_type": "markdown",
   "id": "7fba3af2",
   "metadata": {
    "papermill": {
     "duration": 0.00484,
     "end_time": "2024-05-21T09:24:08.200959",
     "exception": false,
     "start_time": "2024-05-21T09:24:08.196119",
     "status": "completed"
    },
    "tags": []
   },
   "source": [
    "## BaseLine MLP model\n",
    "building model using sequantial API"
   ]
  },
  {
   "cell_type": "code",
   "execution_count": 9,
   "id": "b94470cc",
   "metadata": {
    "execution": {
     "iopub.execute_input": "2024-05-21T09:24:08.213749Z",
     "iopub.status.busy": "2024-05-21T09:24:08.212557Z",
     "iopub.status.idle": "2024-05-21T09:24:08.352755Z",
     "shell.execute_reply": "2024-05-21T09:24:08.351613Z"
    },
    "papermill": {
     "duration": 0.148688,
     "end_time": "2024-05-21T09:24:08.354830",
     "exception": false,
     "start_time": "2024-05-21T09:24:08.206142",
     "status": "completed"
    },
    "tags": []
   },
   "outputs": [
    {
     "data": {
      "text/html": [
       "<pre style=\"white-space:pre;overflow-x:auto;line-height:normal;font-family:Menlo,'DejaVu Sans Mono',consolas,'Courier New',monospace\"><span style=\"font-weight: bold\">Model: \"sequential\"</span>\n",
       "</pre>\n"
      ],
      "text/plain": [
       "\u001b[1mModel: \"sequential\"\u001b[0m\n"
      ]
     },
     "metadata": {},
     "output_type": "display_data"
    },
    {
     "data": {
      "text/html": [
       "<pre style=\"white-space:pre;overflow-x:auto;line-height:normal;font-family:Menlo,'DejaVu Sans Mono',consolas,'Courier New',monospace\">┏━━━━━━━━━━━━━━━━━━━━━━━━━━━━━━━━━┳━━━━━━━━━━━━━━━━━━━━━━━━┳━━━━━━━━━━━━━━━┓\n",
       "┃<span style=\"font-weight: bold\"> Layer (type)                    </span>┃<span style=\"font-weight: bold\"> Output Shape           </span>┃<span style=\"font-weight: bold\">       Param # </span>┃\n",
       "┡━━━━━━━━━━━━━━━━━━━━━━━━━━━━━━━━━╇━━━━━━━━━━━━━━━━━━━━━━━━╇━━━━━━━━━━━━━━━┩\n",
       "│ normalization (<span style=\"color: #0087ff; text-decoration-color: #0087ff\">Normalization</span>)   │ (<span style=\"color: #00d7ff; text-decoration-color: #00d7ff\">None</span>, <span style=\"color: #00af00; text-decoration-color: #00af00\">28</span>)             │            <span style=\"color: #00af00; text-decoration-color: #00af00\">57</span> │\n",
       "├─────────────────────────────────┼────────────────────────┼───────────────┤\n",
       "│ dense (<span style=\"color: #0087ff; text-decoration-color: #0087ff\">Dense</span>)                   │ (<span style=\"color: #00d7ff; text-decoration-color: #00d7ff\">None</span>, <span style=\"color: #00af00; text-decoration-color: #00af00\">50</span>)             │         <span style=\"color: #00af00; text-decoration-color: #00af00\">1,450</span> │\n",
       "├─────────────────────────────────┼────────────────────────┼───────────────┤\n",
       "│ dense_1 (<span style=\"color: #0087ff; text-decoration-color: #0087ff\">Dense</span>)                 │ (<span style=\"color: #00d7ff; text-decoration-color: #00d7ff\">None</span>, <span style=\"color: #00af00; text-decoration-color: #00af00\">50</span>)             │         <span style=\"color: #00af00; text-decoration-color: #00af00\">2,550</span> │\n",
       "├─────────────────────────────────┼────────────────────────┼───────────────┤\n",
       "│ dense_2 (<span style=\"color: #0087ff; text-decoration-color: #0087ff\">Dense</span>)                 │ (<span style=\"color: #00d7ff; text-decoration-color: #00d7ff\">None</span>, <span style=\"color: #00af00; text-decoration-color: #00af00\">50</span>)             │         <span style=\"color: #00af00; text-decoration-color: #00af00\">2,550</span> │\n",
       "├─────────────────────────────────┼────────────────────────┼───────────────┤\n",
       "│ dense_3 (<span style=\"color: #0087ff; text-decoration-color: #0087ff\">Dense</span>)                 │ (<span style=\"color: #00d7ff; text-decoration-color: #00d7ff\">None</span>, <span style=\"color: #00af00; text-decoration-color: #00af00\">50</span>)             │         <span style=\"color: #00af00; text-decoration-color: #00af00\">2,550</span> │\n",
       "├─────────────────────────────────┼────────────────────────┼───────────────┤\n",
       "│ dense_4 (<span style=\"color: #0087ff; text-decoration-color: #0087ff\">Dense</span>)                 │ (<span style=\"color: #00d7ff; text-decoration-color: #00d7ff\">None</span>, <span style=\"color: #00af00; text-decoration-color: #00af00\">1</span>)              │            <span style=\"color: #00af00; text-decoration-color: #00af00\">51</span> │\n",
       "└─────────────────────────────────┴────────────────────────┴───────────────┘\n",
       "</pre>\n"
      ],
      "text/plain": [
       "┏━━━━━━━━━━━━━━━━━━━━━━━━━━━━━━━━━┳━━━━━━━━━━━━━━━━━━━━━━━━┳━━━━━━━━━━━━━━━┓\n",
       "┃\u001b[1m \u001b[0m\u001b[1mLayer (type)                   \u001b[0m\u001b[1m \u001b[0m┃\u001b[1m \u001b[0m\u001b[1mOutput Shape          \u001b[0m\u001b[1m \u001b[0m┃\u001b[1m \u001b[0m\u001b[1m      Param #\u001b[0m\u001b[1m \u001b[0m┃\n",
       "┡━━━━━━━━━━━━━━━━━━━━━━━━━━━━━━━━━╇━━━━━━━━━━━━━━━━━━━━━━━━╇━━━━━━━━━━━━━━━┩\n",
       "│ normalization (\u001b[38;5;33mNormalization\u001b[0m)   │ (\u001b[38;5;45mNone\u001b[0m, \u001b[38;5;34m28\u001b[0m)             │            \u001b[38;5;34m57\u001b[0m │\n",
       "├─────────────────────────────────┼────────────────────────┼───────────────┤\n",
       "│ dense (\u001b[38;5;33mDense\u001b[0m)                   │ (\u001b[38;5;45mNone\u001b[0m, \u001b[38;5;34m50\u001b[0m)             │         \u001b[38;5;34m1,450\u001b[0m │\n",
       "├─────────────────────────────────┼────────────────────────┼───────────────┤\n",
       "│ dense_1 (\u001b[38;5;33mDense\u001b[0m)                 │ (\u001b[38;5;45mNone\u001b[0m, \u001b[38;5;34m50\u001b[0m)             │         \u001b[38;5;34m2,550\u001b[0m │\n",
       "├─────────────────────────────────┼────────────────────────┼───────────────┤\n",
       "│ dense_2 (\u001b[38;5;33mDense\u001b[0m)                 │ (\u001b[38;5;45mNone\u001b[0m, \u001b[38;5;34m50\u001b[0m)             │         \u001b[38;5;34m2,550\u001b[0m │\n",
       "├─────────────────────────────────┼────────────────────────┼───────────────┤\n",
       "│ dense_3 (\u001b[38;5;33mDense\u001b[0m)                 │ (\u001b[38;5;45mNone\u001b[0m, \u001b[38;5;34m50\u001b[0m)             │         \u001b[38;5;34m2,550\u001b[0m │\n",
       "├─────────────────────────────────┼────────────────────────┼───────────────┤\n",
       "│ dense_4 (\u001b[38;5;33mDense\u001b[0m)                 │ (\u001b[38;5;45mNone\u001b[0m, \u001b[38;5;34m1\u001b[0m)              │            \u001b[38;5;34m51\u001b[0m │\n",
       "└─────────────────────────────────┴────────────────────────┴───────────────┘\n"
      ]
     },
     "metadata": {},
     "output_type": "display_data"
    },
    {
     "data": {
      "text/html": [
       "<pre style=\"white-space:pre;overflow-x:auto;line-height:normal;font-family:Menlo,'DejaVu Sans Mono',consolas,'Courier New',monospace\"><span style=\"font-weight: bold\"> Total params: </span><span style=\"color: #00af00; text-decoration-color: #00af00\">9,208</span> (35.97 KB)\n",
       "</pre>\n"
      ],
      "text/plain": [
       "\u001b[1m Total params: \u001b[0m\u001b[38;5;34m9,208\u001b[0m (35.97 KB)\n"
      ]
     },
     "metadata": {},
     "output_type": "display_data"
    },
    {
     "data": {
      "text/html": [
       "<pre style=\"white-space:pre;overflow-x:auto;line-height:normal;font-family:Menlo,'DejaVu Sans Mono',consolas,'Courier New',monospace\"><span style=\"font-weight: bold\"> Trainable params: </span><span style=\"color: #00af00; text-decoration-color: #00af00\">9,151</span> (35.75 KB)\n",
       "</pre>\n"
      ],
      "text/plain": [
       "\u001b[1m Trainable params: \u001b[0m\u001b[38;5;34m9,151\u001b[0m (35.75 KB)\n"
      ]
     },
     "metadata": {},
     "output_type": "display_data"
    },
    {
     "data": {
      "text/html": [
       "<pre style=\"white-space:pre;overflow-x:auto;line-height:normal;font-family:Menlo,'DejaVu Sans Mono',consolas,'Courier New',monospace\"><span style=\"font-weight: bold\"> Non-trainable params: </span><span style=\"color: #00af00; text-decoration-color: #00af00\">57</span> (232.00 B)\n",
       "</pre>\n"
      ],
      "text/plain": [
       "\u001b[1m Non-trainable params: \u001b[0m\u001b[38;5;34m57\u001b[0m (232.00 B)\n"
      ]
     },
     "metadata": {},
     "output_type": "display_data"
    }
   ],
   "source": [
    "tf.random.set_seed(42)\n",
    "\n",
    "norm_layer = tf.keras.layers.Normalization(input_shape=X_train.shape[1:])\n",
    "model = tf.keras.models.Sequential([\n",
    "    norm_layer,\n",
    "    tf.keras.layers.Dense(50, activation=tf.keras.activations.relu),\n",
    "    tf.keras.layers.Dense(50, activation=tf.keras.activations.relu),\n",
    "    tf.keras.layers.Dense(50, activation=tf.keras.activations.relu),\n",
    "    tf.keras.layers.Dense(50, activation=tf.keras.activations.relu),\n",
    "    tf.keras.layers.Dense(1)\n",
    "])\n",
    "\n",
    "model.summary()"
   ]
  },
  {
   "cell_type": "code",
   "execution_count": 10,
   "id": "01a70ab3",
   "metadata": {
    "execution": {
     "iopub.execute_input": "2024-05-21T09:24:08.370057Z",
     "iopub.status.busy": "2024-05-21T09:24:08.368855Z",
     "iopub.status.idle": "2024-05-21T09:27:44.787386Z",
     "shell.execute_reply": "2024-05-21T09:27:44.786130Z"
    },
    "papermill": {
     "duration": 216.429385,
     "end_time": "2024-05-21T09:27:44.789992",
     "exception": false,
     "start_time": "2024-05-21T09:24:08.360607",
     "status": "completed"
    },
    "tags": []
   },
   "outputs": [
    {
     "name": "stdout",
     "output_type": "stream",
     "text": [
      "Epoch 1/3\n",
      "\u001b[1m31443/31443\u001b[0m \u001b[32m━━━━━━━━━━━━━━━━━━━━\u001b[0m\u001b[37m\u001b[0m \u001b[1m63s\u001b[0m 2ms/step - loss: 0.0030 - r2_score: -0.1555 - val_loss: 3.8189e-04 - val_r2_score: 0.8531\n",
      "Epoch 2/3\n",
      "\u001b[1m31443/31443\u001b[0m \u001b[32m━━━━━━━━━━━━━━━━━━━━\u001b[0m\u001b[37m\u001b[0m \u001b[1m61s\u001b[0m 2ms/step - loss: 3.8045e-04 - r2_score: 0.8540 - val_loss: 3.6373e-04 - val_r2_score: 0.8601\n",
      "Epoch 3/3\n",
      "\u001b[1m31443/31443\u001b[0m \u001b[32m━━━━━━━━━━━━━━━━━━━━\u001b[0m\u001b[37m\u001b[0m \u001b[1m61s\u001b[0m 2ms/step - loss: 3.6837e-04 - r2_score: 0.8587 - val_loss: 3.6064e-04 - val_r2_score: 0.8613\n",
      "Epoch 1/3\n",
      "\u001b[1m3931/3931\u001b[0m \u001b[32m━━━━━━━━━━━━━━━━━━━━\u001b[0m\u001b[37m\u001b[0m \u001b[1m11s\u001b[0m 2ms/step - loss: 3.6007e-04 - r2_score: 0.8619 - val_loss: 3.5837e-04 - val_r2_score: 0.8622\n",
      "Epoch 2/3\n",
      "\u001b[1m3931/3931\u001b[0m \u001b[32m━━━━━━━━━━━━━━━━━━━━\u001b[0m\u001b[37m\u001b[0m \u001b[1m10s\u001b[0m 2ms/step - loss: 3.5945e-04 - r2_score: 0.8621 - val_loss: 3.5816e-04 - val_r2_score: 0.8622\n",
      "Epoch 3/3\n",
      "\u001b[1m3931/3931\u001b[0m \u001b[32m━━━━━━━━━━━━━━━━━━━━\u001b[0m\u001b[37m\u001b[0m \u001b[1m10s\u001b[0m 2ms/step - loss: 3.5920e-04 - r2_score: 0.8622 - val_loss: 3.5802e-04 - val_r2_score: 0.8623\n"
     ]
    }
   ],
   "source": [
    "optimizer = tf.keras.optimizers.Adam(learning_rate=1e-4)\n",
    "model.compile(loss='mse', \n",
    "              optimizer=optimizer, \n",
    "              metrics=[tf.keras.metrics.R2Score])\n",
    "norm_layer.adapt(X_train.values)\n",
    "\n",
    "history = model.fit(X_train, \n",
    "                    y_train,\n",
    "                    epochs=3, \n",
    "                    validation_data=(X_val, y_val))\n",
    "optimizer = tf.keras.optimizers.Adam(learning_rate=1e-5)\n",
    "model.compile(loss='mse', \n",
    "              optimizer=optimizer, \n",
    "              metrics=[tf.keras.metrics.R2Score])\n",
    "norm_layer.adapt(X_train.values)\n",
    "\n",
    "history = model.fit(X_train, \n",
    "                    y_train,\n",
    "                    batch_size=256,\n",
    "                    epochs=3, \n",
    "                    validation_data=(X_val, y_val))"
   ]
  },
  {
   "cell_type": "code",
   "execution_count": 11,
   "id": "3433dbb6",
   "metadata": {
    "execution": {
     "iopub.execute_input": "2024-05-21T09:27:45.314660Z",
     "iopub.status.busy": "2024-05-21T09:27:45.313469Z",
     "iopub.status.idle": "2024-05-21T09:28:22.914066Z",
     "shell.execute_reply": "2024-05-21T09:28:22.912885Z"
    },
    "papermill": {
     "duration": 37.867971,
     "end_time": "2024-05-21T09:28:22.916861",
     "exception": false,
     "start_time": "2024-05-21T09:27:45.048890",
     "status": "completed"
    },
    "tags": []
   },
   "outputs": [
    {
     "name": "stdout",
     "output_type": "stream",
     "text": [
      "\u001b[1m23291/23291\u001b[0m \u001b[32m━━━━━━━━━━━━━━━━━━━━\u001b[0m\u001b[37m\u001b[0m \u001b[1m27s\u001b[0m 1ms/step\n"
     ]
    }
   ],
   "source": [
    "y_pred = model.predict(X_test.values)"
   ]
  },
  {
   "cell_type": "code",
   "execution_count": 12,
   "id": "aa91c1a2",
   "metadata": {
    "execution": {
     "iopub.execute_input": "2024-05-21T09:28:23.578823Z",
     "iopub.status.busy": "2024-05-21T09:28:23.578169Z",
     "iopub.status.idle": "2024-05-21T09:28:25.441111Z",
     "shell.execute_reply": "2024-05-21T09:28:25.439594Z"
    },
    "papermill": {
     "duration": 2.230968,
     "end_time": "2024-05-21T09:28:25.443500",
     "exception": false,
     "start_time": "2024-05-21T09:28:23.212532",
     "status": "completed"
    },
    "tags": []
   },
   "outputs": [
    {
     "data": {
      "text/plain": [
       "<Axes: ylabel='Count'>"
      ]
     },
     "execution_count": 12,
     "metadata": {},
     "output_type": "execute_result"
    },
    {
     "data": {
      "image/png": "[encoded data removed]",
      "text/plain": [
       "<Figure size 640x480 with 1 Axes>"
      ]
     },
     "metadata": {},
     "output_type": "display_data"
    }
   ],
   "source": [
    "import seaborn as sns\n",
    "sns.histplot(y_pred)"
   ]
  },
  {
   "cell_type": "code",
   "execution_count": 13,
   "id": "a1630a6d",
   "metadata": {
    "execution": {
     "iopub.execute_input": "2024-05-21T09:28:26.061143Z",
     "iopub.status.busy": "2024-05-21T09:28:26.060778Z",
     "iopub.status.idle": "2024-05-21T09:28:27.241384Z",
     "shell.execute_reply": "2024-05-21T09:28:27.240344Z"
    },
    "papermill": {
     "duration": 1.48308,
     "end_time": "2024-05-21T09:28:27.244491",
     "exception": false,
     "start_time": "2024-05-21T09:28:25.761411",
     "status": "completed"
    },
    "tags": []
   },
   "outputs": [],
   "source": [
    "sub = pd.DataFrame({'FloodProbability': y_pred.reshape(-1)},\n",
    "             index=test.index)\n",
    "sub.to_csv('submission.csv', index=True)\n"
   ]
  }
 ],
 "metadata": {
  "kaggle": {
   "accelerator": "none",
   "dataSources": [
    {
     "databundleVersionId": 8121328,
     "sourceId": 73278,
     "sourceType": "competition"
    }
   ],
   "dockerImageVersionId": 30698,
   "isGpuEnabled": false,
   "isInternetEnabled": true,
   "language": "python",
   "sourceType": "notebook"
  },
  "kernelspec": {
   "display_name": "Python 3",
   "language": "python",
   "name": "python3"
  },
  "language_info": {
   "codemirror_mode": {
    "name": "ipython",
    "version": 3
   },
   "file_extension": ".py",
   "mimetype": "text/x-python",
   "name": "python",
   "nbconvert_exporter": "python",
   "pygments_lexer": "ipython3",
   "version": "3.10.13"
  },
  "papermill": {
   "default_parameters": {},
   "duration": 293.282917,
   "end_time": "2024-05-21T09:28:30.223154",
   "environment_variables": {},
   "exception": null,
   "input_path": "__notebook__.ipynb",
   "output_path": "__notebook__.ipynb",
   "parameters": {},
   "start_time": "2024-05-21T09:23:36.940237",
   "version": "2.5.0"
  }
 },
 "nbformat": 4,
 "nbformat_minor": 5
}
