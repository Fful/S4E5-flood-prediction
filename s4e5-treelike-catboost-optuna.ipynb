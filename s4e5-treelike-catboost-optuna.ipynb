{
 "metadata": {
  "kernelspec": {
   "language": "python",
   "display_name": "Python 3",
   "name": "python3"
  },
  "language_info": {
   "name": "python",
   "version": "3.10.13",
   "mimetype": "text/x-python",
   "codemirror_mode": {
    "name": "ipython",
    "version": 3
   },
   "pygments_lexer": "ipython3",
   "nbconvert_exporter": "python",
   "file_extension": ".py"
  },
  "kaggle": {
   "accelerator": "none",
   "dataSources": [
    {
     "sourceId": 73278,
     "databundleVersionId": 8121328,
     "sourceType": "competition"
    },
    {
     "sourceId": 43888,
     "sourceType": "modelInstanceVersion",
     "isSourceIdPinned": true,
     "modelInstanceId": 36858
    }
   ],
   "dockerImageVersionId": 30698,
   "isInternetEnabled": true,
   "language": "python",
   "sourceType": "notebook",
   "isGpuEnabled": false
  }
 },
 "nbformat_minor": 4,
 "nbformat": 4,
 "cells": [
  {
   "cell_type": "code",
   "source": [
    "# main \n",
    "import numpy as np\n",
    "import pandas as pd\n",
    "\n",
    "import joblib\n",
    "from copy import deepcopy\n",
    "\n",
    "# deal with warnings\n",
    "import warnings\n",
    "warnings.filterwarnings(\"ignore\")"
   ],
   "metadata": {
    "_uuid": "8f2839f25d086af736a60e9eeb907d3b93b6e0e5",
    "_cell_guid": "b1076dfc-b9ad-4769-8c92-a6c4dae69d19",
    "execution": {
     "iopub.status.busy": "2024-05-06T08:40:42.587186Z",
     "iopub.execute_input": "2024-05-06T08:40:42.587624Z",
     "iopub.status.idle": "2024-05-06T08:40:43.813108Z",
     "shell.execute_reply.started": "2024-05-06T08:40:42.587580Z",
     "shell.execute_reply": "2024-05-06T08:40:43.811628Z"
    },
    "trusted": true
   },
   "execution_count": 1,
   "outputs": []
  },
  {
   "cell_type": "code",
   "source": [
    "# set path\n",
    "path = '/kaggle/input/playground-series-s4e5'\n",
    "\n",
    "# load data\n",
    "train = pd.read_csv(f'{path}/train.csv', index_col=0)\n",
    "test = pd.read_csv(f'{path}/test.csv', index_col=0)"
   ],
   "metadata": {
    "execution": {
     "iopub.status.busy": "2024-05-06T08:40:43.815028Z",
     "iopub.execute_input": "2024-05-06T08:40:43.815541Z",
     "iopub.status.idle": "2024-05-06T08:40:48.174753Z",
     "shell.execute_reply.started": "2024-05-06T08:40:43.815506Z",
     "shell.execute_reply": "2024-05-06T08:40:48.173432Z"
    },
    "trusted": true
   },
   "execution_count": 2,
   "outputs": []
  },
  {
   "cell_type": "code",
   "source": [
    "train_features = train.drop(columns=['FloodProbability']).copy()"
   ],
   "metadata": {
    "execution": {
     "iopub.status.busy": "2024-05-06T08:40:48.176503Z",
     "iopub.execute_input": "2024-05-06T08:40:48.176988Z",
     "iopub.status.idle": "2024-05-06T08:40:48.353285Z",
     "shell.execute_reply.started": "2024-05-06T08:40:48.176923Z",
     "shell.execute_reply": "2024-05-06T08:40:48.351957Z"
    },
    "trusted": true
   },
   "execution_count": 3,
   "outputs": []
  },
  {
   "cell_type": "markdown",
   "source": [
    "# PipeLine Maker"
   ],
   "metadata": {}
  },
  {
   "cell_type": "code",
   "source": [
    "from sklearn.pipeline import make_pipeline, Pipeline\n",
    "from sklearn.compose import ColumnTransformer, make_column_transformer, make_column_selector\n",
    "from sklearn.preprocessing import StandardScaler, MinMaxScaler, OneHotEncoder\n",
    "from sklearn.impute import SimpleImputer\n",
    "from sklearn.metrics import r2_score\n",
    "from sklearn.base import clone \n",
    "\n",
    "default_num_pipeline = make_pipeline(SimpleImputer(strategy=\"median\"),\n",
    "                                     StandardScaler())\n",
    "\n",
    "preprocessing_baseline = make_column_transformer(\n",
    "    (default_num_pipeline, make_column_selector(dtype_include=np.number)),\n",
    ")"
   ],
   "metadata": {
    "execution": {
     "iopub.status.busy": "2024-05-06T08:40:48.355961Z",
     "iopub.execute_input": "2024-05-06T08:40:48.356433Z",
     "iopub.status.idle": "2024-05-06T08:40:49.186469Z",
     "shell.execute_reply.started": "2024-05-06T08:40:48.356393Z",
     "shell.execute_reply": "2024-05-06T08:40:49.185078Z"
    },
    "trusted": true
   },
   "execution_count": 4,
   "outputs": []
  },
  {
   "cell_type": "code",
   "source": [
    "from catboost import CatBoostRegressor\n",
    "# cat boost\n",
    "model = make_pipeline(preprocessing_baseline,\n",
    "                      CatBoostRegressor(verbose=1))"
   ],
   "metadata": {
    "execution": {
     "iopub.status.busy": "2024-05-06T08:40:49.188049Z",
     "iopub.execute_input": "2024-05-06T08:40:49.188485Z",
     "iopub.status.idle": "2024-05-06T08:40:49.794869Z",
     "shell.execute_reply.started": "2024-05-06T08:40:49.188441Z",
     "shell.execute_reply": "2024-05-06T08:40:49.793284Z"
    },
    "trusted": true
   },
   "execution_count": 5,
   "outputs": []
  },
  {
   "cell_type": "markdown",
   "source": [
    "# New features"
   ],
   "metadata": {}
  },
  {
   "cell_type": "code",
   "source": [
    "def stat_features(data, only_stat=False):\n",
    "    \n",
    "    df = data.copy()\n",
    "    cols = df.columns\n",
    "    \n",
    "#     df['sum'] = df[cols].sum(axis=1) # Same info as mean 1 corr\n",
    "    df['mean'] = df[cols].mean(axis=1)\n",
    "    df['std'] = df[cols].std(axis=1)\n",
    "    df['median'] = df[cols].median(axis=1)\n",
    "    df['min_all'] = df[cols].min(axis=1)\n",
    "    df['max_all'] = df[cols].max(axis=1)\n",
    "    df['ptp'] = df[cols].values.ptp(axis=1)\n",
    "    df['q25'] = df[cols].quantile(0.25, axis=1)\n",
    "    df['q75'] = df[cols].quantile(0.75, axis=1)\n",
    "    \n",
    "    \n",
    "    # df['max_min_range'] = df['max_all'] - df['min_all'] # same as ptp\n",
    "    df['q75_25_range'] = df['q75'] - df['q25']\n",
    "    \n",
    "    df['powsum_1/2'] = np.power(df[cols], 1/2).sum(axis=1)\n",
    "    df['powsum_2'] = np.power(df[cols], 2).sum(axis=1)\n",
    "    df['powsum_3/2'] = np.power(df[cols], 1.5).sum(axis=1)\n",
    "    df['powsum_-1'] = np.power(df[cols]+1e-5, -1).sum(axis=1)\n",
    "    \n",
    "    # will shift to avoid problems\n",
    "    df['max_min_ratio'] = df['max_all'] / (df['min_all']+1e-5)\n",
    "    df['q75_25_ratio'] = df['q75'] / (df['q25']+1e-5)\n",
    "    \n",
    "    \n",
    "    # cat\n",
    "    \n",
    "    # df['spetial'] = df['sum'].isin(np.arange(72,74))\n",
    "    \n",
    "    if only_stat:\n",
    "        df = df.drop(columns=cols) # drops lables too\n",
    "        \n",
    "    return df"
   ],
   "metadata": {
    "execution": {
     "iopub.status.busy": "2024-05-06T08:40:49.796548Z",
     "iopub.execute_input": "2024-05-06T08:40:49.797629Z",
     "iopub.status.idle": "2024-05-06T08:40:49.810844Z",
     "shell.execute_reply.started": "2024-05-06T08:40:49.797585Z",
     "shell.execute_reply": "2024-05-06T08:40:49.809444Z"
    },
    "trusted": true
   },
   "execution_count": 6,
   "outputs": []
  },
  {
   "cell_type": "code",
   "source": [
    "X_train = stat_features(train_features, only_stat=True)\n",
    "X_test = stat_features(test, only_stat=True)\n",
    "\n",
    "y_train = train[['FloodProbability']]"
   ],
   "metadata": {
    "execution": {
     "iopub.status.busy": "2024-05-06T08:40:49.812653Z",
     "iopub.execute_input": "2024-05-06T08:40:49.813032Z",
     "iopub.status.idle": "2024-05-06T08:41:02.758668Z",
     "shell.execute_reply.started": "2024-05-06T08:40:49.813000Z",
     "shell.execute_reply": "2024-05-06T08:41:02.757423Z"
    },
    "trusted": true
   },
   "execution_count": 7,
   "outputs": []
  },
  {
   "cell_type": "code",
   "source": [
    "X_train.describe().T"
   ],
   "metadata": {
    "execution": {
     "iopub.status.busy": "2024-05-06T08:41:02.760242Z",
     "iopub.execute_input": "2024-05-06T08:41:02.760717Z",
     "iopub.status.idle": "2024-05-06T08:41:03.562386Z",
     "shell.execute_reply.started": "2024-05-06T08:41:02.760677Z",
     "shell.execute_reply": "2024-05-06T08:41:03.561169Z"
    },
    "trusted": true
   },
   "execution_count": 8,
   "outputs": [
    {
     "execution_count": 8,
     "output_type": "execute_result",
     "data": {
      "text/plain": "                   count          mean            std         min         25%  \\\nmean           1117957.0      4.939411       0.415364    3.150000    4.700000   \nstd            1117957.0      2.052674       0.369329    0.786398    1.785173   \nmedian         1117957.0      4.777141       0.564400    2.000000    4.500000   \nmin_all        1117957.0      1.604034       0.835383    0.000000    1.000000   \nmax_all        1117957.0      9.262722       1.304840    4.000000    8.000000   \nptp            1117957.0      7.658688       1.604804    2.000000    7.000000   \nq25            1117957.0      3.565401       0.595724    1.000000    3.000000   \nq75            1117957.0      6.128700       0.661493    3.250000    6.000000   \nq75_25_range   1117957.0      2.563299       0.795309    0.000000    2.000000   \npowsum_1/2     1117957.0     43.333922       2.045674   32.292121   42.069525   \npowsum_2       1117957.0    574.053860      91.505563  218.000000  515.000000   \npowsum_3/2     1117957.0    234.143043      28.254908  117.319050  216.044296   \npowsum_-1      1117957.0   9828.925814   32198.780918    2.851583    4.579750   \nmax_min_ratio  1117957.0  86730.239150  277303.268320    1.599997    3.999980   \nq75_25_ratio   1117957.0      1.765422       0.350460    0.999998    1.499996   \n\n                      50%         75%           max  \nmean             4.900000    5.200000  7.200000e+00  \nstd              2.013115    2.282081  4.183615e+00  \nmedian           5.000000    5.000000  8.000000e+00  \nmin_all          2.000000    2.000000  5.000000e+00  \nmax_all          9.000000   10.000000  1.900000e+01  \nptp              7.000000    9.000000  1.800000e+01  \nq25              3.750000    4.000000  6.750000e+00  \nq75              6.000000    6.250000  1.025000e+01  \nq75_25_range     2.250000    3.000000  7.000000e+00  \npowsum_1/2      43.246540   44.714519  5.349086e+01  \npowsum_2       564.000000  629.000000  1.233000e+03  \npowsum_3/2     231.035778  252.041010  4.143952e+02  \npowsum_-1        5.042842    5.667833  5.000036e+05  \nmax_min_ratio    4.999975    8.999910  1.800000e+06  \nq75_25_ratio     1.666662    1.999993  7.999920e+00  ",
      "text/html": "<div>\n<style scoped>\n    .dataframe tbody tr th:only-of-type {\n        vertical-align: middle;\n    }\n\n    .dataframe tbody tr th {\n        vertical-align: top;\n    }\n\n    .dataframe thead th {\n        text-align: right;\n    }\n</style>\n<table border=\"1\" class=\"dataframe\">\n  <thead>\n    <tr style=\"text-align: right;\">\n      <th></th>\n      <th>count</th>\n      <th>mean</th>\n      <th>std</th>\n      <th>min</th>\n      <th>25%</th>\n      <th>50%</th>\n      <th>75%</th>\n      <th>max</th>\n    </tr>\n  </thead>\n  <tbody>\n    <tr>\n      <th>mean</th>\n      <td>1117957.0</td>\n      <td>4.939411</td>\n      <td>0.415364</td>\n      <td>3.150000</td>\n      <td>4.700000</td>\n      <td>4.900000</td>\n      <td>5.200000</td>\n      <td>7.200000e+00</td>\n    </tr>\n    <tr>\n      <th>std</th>\n      <td>1117957.0</td>\n      <td>2.052674</td>\n      <td>0.369329</td>\n      <td>0.786398</td>\n      <td>1.785173</td>\n      <td>2.013115</td>\n      <td>2.282081</td>\n      <td>4.183615e+00</td>\n    </tr>\n    <tr>\n      <th>median</th>\n      <td>1117957.0</td>\n      <td>4.777141</td>\n      <td>0.564400</td>\n      <td>2.000000</td>\n      <td>4.500000</td>\n      <td>5.000000</td>\n      <td>5.000000</td>\n      <td>8.000000e+00</td>\n    </tr>\n    <tr>\n      <th>min_all</th>\n      <td>1117957.0</td>\n      <td>1.604034</td>\n      <td>0.835383</td>\n      <td>0.000000</td>\n      <td>1.000000</td>\n      <td>2.000000</td>\n      <td>2.000000</td>\n      <td>5.000000e+00</td>\n    </tr>\n    <tr>\n      <th>max_all</th>\n      <td>1117957.0</td>\n      <td>9.262722</td>\n      <td>1.304840</td>\n      <td>4.000000</td>\n      <td>8.000000</td>\n      <td>9.000000</td>\n      <td>10.000000</td>\n      <td>1.900000e+01</td>\n    </tr>\n    <tr>\n      <th>ptp</th>\n      <td>1117957.0</td>\n      <td>7.658688</td>\n      <td>1.604804</td>\n      <td>2.000000</td>\n      <td>7.000000</td>\n      <td>7.000000</td>\n      <td>9.000000</td>\n      <td>1.800000e+01</td>\n    </tr>\n    <tr>\n      <th>q25</th>\n      <td>1117957.0</td>\n      <td>3.565401</td>\n      <td>0.595724</td>\n      <td>1.000000</td>\n      <td>3.000000</td>\n      <td>3.750000</td>\n      <td>4.000000</td>\n      <td>6.750000e+00</td>\n    </tr>\n    <tr>\n      <th>q75</th>\n      <td>1117957.0</td>\n      <td>6.128700</td>\n      <td>0.661493</td>\n      <td>3.250000</td>\n      <td>6.000000</td>\n      <td>6.000000</td>\n      <td>6.250000</td>\n      <td>1.025000e+01</td>\n    </tr>\n    <tr>\n      <th>q75_25_range</th>\n      <td>1117957.0</td>\n      <td>2.563299</td>\n      <td>0.795309</td>\n      <td>0.000000</td>\n      <td>2.000000</td>\n      <td>2.250000</td>\n      <td>3.000000</td>\n      <td>7.000000e+00</td>\n    </tr>\n    <tr>\n      <th>powsum_1/2</th>\n      <td>1117957.0</td>\n      <td>43.333922</td>\n      <td>2.045674</td>\n      <td>32.292121</td>\n      <td>42.069525</td>\n      <td>43.246540</td>\n      <td>44.714519</td>\n      <td>5.349086e+01</td>\n    </tr>\n    <tr>\n      <th>powsum_2</th>\n      <td>1117957.0</td>\n      <td>574.053860</td>\n      <td>91.505563</td>\n      <td>218.000000</td>\n      <td>515.000000</td>\n      <td>564.000000</td>\n      <td>629.000000</td>\n      <td>1.233000e+03</td>\n    </tr>\n    <tr>\n      <th>powsum_3/2</th>\n      <td>1117957.0</td>\n      <td>234.143043</td>\n      <td>28.254908</td>\n      <td>117.319050</td>\n      <td>216.044296</td>\n      <td>231.035778</td>\n      <td>252.041010</td>\n      <td>4.143952e+02</td>\n    </tr>\n    <tr>\n      <th>powsum_-1</th>\n      <td>1117957.0</td>\n      <td>9828.925814</td>\n      <td>32198.780918</td>\n      <td>2.851583</td>\n      <td>4.579750</td>\n      <td>5.042842</td>\n      <td>5.667833</td>\n      <td>5.000036e+05</td>\n    </tr>\n    <tr>\n      <th>max_min_ratio</th>\n      <td>1117957.0</td>\n      <td>86730.239150</td>\n      <td>277303.268320</td>\n      <td>1.599997</td>\n      <td>3.999980</td>\n      <td>4.999975</td>\n      <td>8.999910</td>\n      <td>1.800000e+06</td>\n    </tr>\n    <tr>\n      <th>q75_25_ratio</th>\n      <td>1117957.0</td>\n      <td>1.765422</td>\n      <td>0.350460</td>\n      <td>0.999998</td>\n      <td>1.499996</td>\n      <td>1.666662</td>\n      <td>1.999993</td>\n      <td>7.999920e+00</td>\n    </tr>\n  </tbody>\n</table>\n</div>"
     },
     "metadata": {}
    }
   ]
  },
  {
   "cell_type": "code",
   "source": [
    "# model.get_params().keys()"
   ],
   "metadata": {
    "execution": {
     "iopub.status.busy": "2024-05-06T08:41:03.563849Z",
     "iopub.execute_input": "2024-05-06T08:41:03.564203Z",
     "iopub.status.idle": "2024-05-06T08:41:03.569323Z",
     "shell.execute_reply.started": "2024-05-06T08:41:03.564173Z",
     "shell.execute_reply": "2024-05-06T08:41:03.568022Z"
    },
    "trusted": true
   },
   "execution_count": 9,
   "outputs": []
  },
  {
   "cell_type": "markdown",
   "source": [
    "RS_CV"
   ],
   "metadata": {}
  },
  {
   "cell_type": "code",
   "source": [
    "# from sklearn.model_selection import RandomizedSearchCV\n",
    "# from scipy.stats import uniform, randint\n",
    "\n",
    "# \"\"\"\n",
    "# scipy.stats.randint(a, b+1): for hyperparameters with discrete values that range from a to b, and all values in that range seem equally likely.\n",
    "# scipy.stats.uniform(a, b): this is very similar, but for continuous hyperparameters.\n",
    "# scipy.stats.geom(1 / scale): for discrete values, when you want to sample roughly in a given scale. E.g., \n",
    "#     with scale=1000 most samples will be in this ballpark, but ~10% of all samples will be <100 and ~10% will be >2300.\n",
    "# scipy.stats.expon(scale): this is the continuous equivalent of geom. Just set scale to the most likely value.\n",
    "# scipy.stats.loguniform(a, b): when you have almost no idea what the optimal hyperparameter value's scale is. \n",
    "#     If you set a=0.01 and b=100, then you're just as likely to sample a value between 0.01 and 0.1 as a value between 10 and 100.\n",
    "# \"\"\"\n",
    "\n",
    "# param_distrib = {\n",
    "#     'catboostregressor__learning_rate': [0.05, 0.07, 0.09, 0.3],\n",
    "#     'catboostregressor__depth': randint(low=4, high=8),\n",
    "#     'catboostregressor__l2_leaf_reg': randint(low=1, high=9),\n",
    "#     'catboostregressor__grow_policy': ['SymmetricTree', 'Depthwise', 'Lossguide']\n",
    "# }\n",
    "\n",
    "# best_params = {\n",
    "#     'catboostregressor__depth': 7,\n",
    "#     'catboostregressor__grow_policy': 'SymmetricTree',\n",
    "#     'catboostregressor__l2_leaf_reg': 5,\n",
    "#     'catboostregressor__learning_rate': 0.09\n",
    "# }"
   ],
   "metadata": {
    "execution": {
     "iopub.status.busy": "2024-05-06T08:41:03.573861Z",
     "iopub.execute_input": "2024-05-06T08:41:03.574253Z",
     "iopub.status.idle": "2024-05-06T08:41:03.606031Z",
     "shell.execute_reply.started": "2024-05-06T08:41:03.574220Z",
     "shell.execute_reply": "2024-05-06T08:41:03.604649Z"
    },
    "trusted": true
   },
   "execution_count": 10,
   "outputs": []
  },
  {
   "cell_type": "code",
   "source": [
    "# rnd_search_cv = RandomizedSearchCV(model, \n",
    "#                                    param_distrib, \n",
    "#                                    n_iter=5, \n",
    "#                                    cv=3,\n",
    "#                                    random_state=42, \n",
    "#                                    n_jobs=-1\n",
    "#                                   )"
   ],
   "metadata": {
    "execution": {
     "iopub.status.busy": "2024-05-06T08:41:03.607139Z",
     "iopub.execute_input": "2024-05-06T08:41:03.607518Z",
     "iopub.status.idle": "2024-05-06T08:41:03.624794Z",
     "shell.execute_reply.started": "2024-05-06T08:41:03.607477Z",
     "shell.execute_reply": "2024-05-06T08:41:03.623605Z"
    },
    "trusted": true
   },
   "execution_count": 11,
   "outputs": []
  },
  {
   "cell_type": "code",
   "source": [
    "# rnd_search_cv.fit(X_train, y_train)"
   ],
   "metadata": {
    "execution": {
     "iopub.status.busy": "2024-05-06T08:41:03.626077Z",
     "iopub.execute_input": "2024-05-06T08:41:03.626631Z",
     "iopub.status.idle": "2024-05-06T08:41:03.638669Z",
     "shell.execute_reply.started": "2024-05-06T08:41:03.626587Z",
     "shell.execute_reply": "2024-05-06T08:41:03.637305Z"
    },
    "trusted": true
   },
   "execution_count": 12,
   "outputs": []
  },
  {
   "cell_type": "code",
   "source": [
    "# cv_res = pd.DataFrame(rnd_search_cv.cv_results_)\n",
    "# cv_res"
   ],
   "metadata": {
    "execution": {
     "iopub.status.busy": "2024-05-06T08:41:03.640132Z",
     "iopub.execute_input": "2024-05-06T08:41:03.640470Z",
     "iopub.status.idle": "2024-05-06T08:41:03.652104Z",
     "shell.execute_reply.started": "2024-05-06T08:41:03.640441Z",
     "shell.execute_reply": "2024-05-06T08:41:03.650937Z"
    },
    "trusted": true
   },
   "execution_count": 13,
   "outputs": []
  },
  {
   "cell_type": "code",
   "source": [
    "# rnd_search_cv.best_params_\n",
    "\n",
    "# {'catboostregressor__depth': 7,\n",
    "#  'catboostregressor__grow_policy': 'SymmetricTree',\n",
    "#  'catboostregressor__l2_leaf_reg': 5,\n",
    "#  'catboostregressor__learning_rate': 0.09}"
   ],
   "metadata": {
    "execution": {
     "iopub.status.busy": "2024-05-06T08:41:03.653823Z",
     "iopub.execute_input": "2024-05-06T08:41:03.654262Z",
     "iopub.status.idle": "2024-05-06T08:41:03.666242Z",
     "shell.execute_reply.started": "2024-05-06T08:41:03.654229Z",
     "shell.execute_reply": "2024-05-06T08:41:03.664964Z"
    },
    "trusted": true
   },
   "execution_count": 14,
   "outputs": []
  },
  {
   "cell_type": "code",
   "source": [
    "# final_model = rnd_search_cv.best_estimator_\n",
    "# joblib.dump(final_model, \"CatBoost_stats_only.pkl\")"
   ],
   "metadata": {
    "execution": {
     "iopub.status.busy": "2024-05-06T08:41:03.667772Z",
     "iopub.execute_input": "2024-05-06T08:41:03.668175Z",
     "iopub.status.idle": "2024-05-06T08:41:03.683704Z",
     "shell.execute_reply.started": "2024-05-06T08:41:03.668134Z",
     "shell.execute_reply": "2024-05-06T08:41:03.682317Z"
    },
    "trusted": true
   },
   "execution_count": 15,
   "outputs": []
  },
  {
   "cell_type": "code",
   "source": [
    "# pd.DataFrame(final_model_reloaded[-1].get_feature_importance(),\n",
    "#              index=final_model_reloaded.feature_names_in_).sort_values(by=0, ascending=False)"
   ],
   "metadata": {
    "execution": {
     "iopub.status.busy": "2024-05-06T08:41:03.685312Z",
     "iopub.execute_input": "2024-05-06T08:41:03.685904Z",
     "iopub.status.idle": "2024-05-06T08:41:03.697800Z",
     "shell.execute_reply.started": "2024-05-06T08:41:03.685863Z",
     "shell.execute_reply": "2024-05-06T08:41:03.696312Z"
    },
    "trusted": true
   },
   "execution_count": 16,
   "outputs": []
  },
  {
   "cell_type": "markdown",
   "source": [
    "# PipeLine fit"
   ],
   "metadata": {}
  },
  {
   "cell_type": "markdown",
   "source": [
    "> Random search sol"
   ],
   "metadata": {}
  },
  {
   "cell_type": "code",
   "source": [
    "# old model\n",
    "# final_model_reloaded = joblib.load(\"/kaggle/input/s4e5-catboost/scikitlearn/s4e5/1/CatBoost_stats_only.pkl\")\n",
    "\n",
    "# fresh out of th box\n",
    "final_model_reloaded = deepcopy(model)\n",
    "\n",
    "final_model_reloaded.fit(X_train, y_train)\n",
    "test_pred = final_model_reloaded.predict(X_test)\n",
    "\n",
    "sub = pd.DataFrame({y_train.columns[0]: test_pred},\n",
    "             index=test.index)\n",
    "sub"
   ],
   "metadata": {
    "execution": {
     "iopub.status.busy": "2024-05-06T08:41:03.699385Z",
     "iopub.execute_input": "2024-05-06T08:41:03.699926Z",
     "iopub.status.idle": "2024-05-06T08:42:51.395999Z",
     "shell.execute_reply.started": "2024-05-06T08:41:03.699880Z",
     "shell.execute_reply": "2024-05-06T08:42:51.394616Z"
    },
    "trusted": true
   },
   "execution_count": 17,
   "outputs": [
    {
     "name": "stdout",
     "text": "Learning rate set to 0.124117\n0:\tlearn: 0.0458651\ttotal: 200ms\tremaining: 3m 19s\n1:\tlearn: 0.0414189\ttotal: 314ms\tremaining: 2m 36s\n2:\tlearn: 0.0375730\ttotal: 435ms\tremaining: 2m 24s\n3:\tlearn: 0.0343117\ttotal: 554ms\tremaining: 2m 18s\n4:\tlearn: 0.0315326\ttotal: 673ms\tremaining: 2m 13s\n5:\tlearn: 0.0292081\ttotal: 783ms\tremaining: 2m 9s\n6:\tlearn: 0.0272635\ttotal: 892ms\tremaining: 2m 6s\n7:\tlearn: 0.0256320\ttotal: 1s\tremaining: 2m 4s\n8:\tlearn: 0.0243094\ttotal: 1.11s\tremaining: 2m 2s\n9:\tlearn: 0.0232379\ttotal: 1.22s\tremaining: 2m\n10:\tlearn: 0.0223479\ttotal: 1.33s\tremaining: 1m 59s\n11:\tlearn: 0.0216285\ttotal: 1.44s\tremaining: 1m 58s\n12:\tlearn: 0.0210577\ttotal: 1.55s\tremaining: 1m 57s\n13:\tlearn: 0.0205962\ttotal: 1.66s\tremaining: 1m 56s\n14:\tlearn: 0.0202388\ttotal: 1.77s\tremaining: 1m 56s\n15:\tlearn: 0.0199485\ttotal: 1.87s\tremaining: 1m 55s\n16:\tlearn: 0.0197150\ttotal: 1.98s\tremaining: 1m 54s\n17:\tlearn: 0.0195315\ttotal: 2.08s\tremaining: 1m 53s\n18:\tlearn: 0.0193840\ttotal: 2.19s\tremaining: 1m 53s\n19:\tlearn: 0.0192608\ttotal: 2.29s\tremaining: 1m 52s\n20:\tlearn: 0.0191660\ttotal: 2.39s\tremaining: 1m 51s\n21:\tlearn: 0.0190907\ttotal: 2.48s\tremaining: 1m 50s\n22:\tlearn: 0.0190271\ttotal: 2.58s\tremaining: 1m 49s\n23:\tlearn: 0.0189636\ttotal: 2.67s\tremaining: 1m 48s\n24:\tlearn: 0.0189230\ttotal: 2.77s\tremaining: 1m 48s\n25:\tlearn: 0.0188817\ttotal: 2.87s\tremaining: 1m 47s\n26:\tlearn: 0.0188528\ttotal: 2.96s\tremaining: 1m 46s\n27:\tlearn: 0.0188229\ttotal: 3.06s\tremaining: 1m 46s\n28:\tlearn: 0.0187983\ttotal: 3.15s\tremaining: 1m 45s\n29:\tlearn: 0.0187827\ttotal: 3.25s\tremaining: 1m 45s\n30:\tlearn: 0.0187689\ttotal: 3.35s\tremaining: 1m 44s\n31:\tlearn: 0.0187573\ttotal: 3.45s\tremaining: 1m 44s\n32:\tlearn: 0.0187478\ttotal: 3.54s\tremaining: 1m 43s\n33:\tlearn: 0.0187364\ttotal: 3.65s\tremaining: 1m 43s\n34:\tlearn: 0.0187257\ttotal: 3.74s\tremaining: 1m 43s\n35:\tlearn: 0.0187173\ttotal: 3.84s\tremaining: 1m 42s\n36:\tlearn: 0.0187086\ttotal: 3.95s\tremaining: 1m 42s\n37:\tlearn: 0.0187038\ttotal: 4.06s\tremaining: 1m 42s\n38:\tlearn: 0.0186978\ttotal: 4.16s\tremaining: 1m 42s\n39:\tlearn: 0.0186904\ttotal: 4.27s\tremaining: 1m 42s\n40:\tlearn: 0.0186839\ttotal: 4.36s\tremaining: 1m 41s\n41:\tlearn: 0.0186783\ttotal: 4.45s\tremaining: 1m 41s\n42:\tlearn: 0.0186733\ttotal: 4.53s\tremaining: 1m 40s\n43:\tlearn: 0.0186685\ttotal: 4.62s\tremaining: 1m 40s\n44:\tlearn: 0.0186630\ttotal: 4.72s\tremaining: 1m 40s\n45:\tlearn: 0.0186584\ttotal: 4.86s\tremaining: 1m 40s\n46:\tlearn: 0.0186546\ttotal: 4.95s\tremaining: 1m 40s\n47:\tlearn: 0.0186524\ttotal: 5.05s\tremaining: 1m 40s\n48:\tlearn: 0.0186480\ttotal: 5.13s\tremaining: 1m 39s\n49:\tlearn: 0.0186458\ttotal: 5.23s\tremaining: 1m 39s\n50:\tlearn: 0.0186431\ttotal: 5.31s\tremaining: 1m 38s\n51:\tlearn: 0.0186404\ttotal: 5.4s\tremaining: 1m 38s\n52:\tlearn: 0.0186368\ttotal: 5.49s\tremaining: 1m 38s\n53:\tlearn: 0.0186346\ttotal: 5.58s\tremaining: 1m 37s\n54:\tlearn: 0.0186322\ttotal: 5.69s\tremaining: 1m 37s\n55:\tlearn: 0.0186299\ttotal: 5.77s\tremaining: 1m 37s\n56:\tlearn: 0.0186269\ttotal: 5.87s\tremaining: 1m 37s\n57:\tlearn: 0.0186236\ttotal: 5.96s\tremaining: 1m 36s\n58:\tlearn: 0.0186208\ttotal: 6.1s\tremaining: 1m 37s\n59:\tlearn: 0.0186189\ttotal: 6.18s\tremaining: 1m 36s\n60:\tlearn: 0.0186162\ttotal: 6.28s\tremaining: 1m 36s\n61:\tlearn: 0.0186141\ttotal: 6.37s\tremaining: 1m 36s\n62:\tlearn: 0.0186118\ttotal: 6.45s\tremaining: 1m 35s\n63:\tlearn: 0.0186092\ttotal: 6.55s\tremaining: 1m 35s\n64:\tlearn: 0.0186075\ttotal: 6.63s\tremaining: 1m 35s\n65:\tlearn: 0.0186062\ttotal: 6.72s\tremaining: 1m 35s\n66:\tlearn: 0.0186044\ttotal: 6.83s\tremaining: 1m 35s\n67:\tlearn: 0.0186032\ttotal: 6.94s\tremaining: 1m 35s\n68:\tlearn: 0.0186002\ttotal: 7.06s\tremaining: 1m 35s\n69:\tlearn: 0.0185985\ttotal: 7.16s\tremaining: 1m 35s\n70:\tlearn: 0.0185954\ttotal: 7.28s\tremaining: 1m 35s\n71:\tlearn: 0.0185938\ttotal: 7.39s\tremaining: 1m 35s\n72:\tlearn: 0.0185918\ttotal: 7.47s\tremaining: 1m 34s\n73:\tlearn: 0.0185896\ttotal: 7.56s\tremaining: 1m 34s\n74:\tlearn: 0.0185883\ttotal: 7.66s\tremaining: 1m 34s\n75:\tlearn: 0.0185867\ttotal: 7.74s\tremaining: 1m 34s\n76:\tlearn: 0.0185838\ttotal: 7.84s\tremaining: 1m 33s\n77:\tlearn: 0.0185819\ttotal: 7.93s\tremaining: 1m 33s\n78:\tlearn: 0.0185797\ttotal: 8.03s\tremaining: 1m 33s\n79:\tlearn: 0.0185775\ttotal: 8.12s\tremaining: 1m 33s\n80:\tlearn: 0.0185754\ttotal: 8.24s\tremaining: 1m 33s\n81:\tlearn: 0.0185741\ttotal: 8.32s\tremaining: 1m 33s\n82:\tlearn: 0.0185728\ttotal: 8.41s\tremaining: 1m 32s\n83:\tlearn: 0.0185699\ttotal: 8.51s\tremaining: 1m 32s\n84:\tlearn: 0.0185685\ttotal: 8.6s\tremaining: 1m 32s\n85:\tlearn: 0.0185678\ttotal: 8.69s\tremaining: 1m 32s\n86:\tlearn: 0.0185669\ttotal: 8.8s\tremaining: 1m 32s\n87:\tlearn: 0.0185651\ttotal: 8.9s\tremaining: 1m 32s\n88:\tlearn: 0.0185629\ttotal: 9.03s\tremaining: 1m 32s\n89:\tlearn: 0.0185623\ttotal: 9.11s\tremaining: 1m 32s\n90:\tlearn: 0.0185605\ttotal: 9.23s\tremaining: 1m 32s\n91:\tlearn: 0.0185594\ttotal: 9.32s\tremaining: 1m 32s\n92:\tlearn: 0.0185581\ttotal: 9.42s\tremaining: 1m 31s\n93:\tlearn: 0.0185574\ttotal: 9.51s\tremaining: 1m 31s\n94:\tlearn: 0.0185558\ttotal: 9.63s\tremaining: 1m 31s\n95:\tlearn: 0.0185549\ttotal: 9.74s\tremaining: 1m 31s\n96:\tlearn: 0.0185525\ttotal: 9.84s\tremaining: 1m 31s\n97:\tlearn: 0.0185509\ttotal: 9.93s\tremaining: 1m 31s\n98:\tlearn: 0.0185501\ttotal: 10.1s\tremaining: 1m 31s\n99:\tlearn: 0.0185480\ttotal: 10.2s\tremaining: 1m 31s\n100:\tlearn: 0.0185468\ttotal: 10.3s\tremaining: 1m 31s\n101:\tlearn: 0.0185450\ttotal: 10.4s\tremaining: 1m 31s\n102:\tlearn: 0.0185440\ttotal: 10.5s\tremaining: 1m 31s\n103:\tlearn: 0.0185430\ttotal: 10.6s\tremaining: 1m 31s\n104:\tlearn: 0.0185412\ttotal: 10.7s\tremaining: 1m 31s\n105:\tlearn: 0.0185398\ttotal: 10.8s\tremaining: 1m 31s\n106:\tlearn: 0.0185386\ttotal: 10.9s\tremaining: 1m 30s\n107:\tlearn: 0.0185371\ttotal: 11s\tremaining: 1m 30s\n108:\tlearn: 0.0185354\ttotal: 11.1s\tremaining: 1m 30s\n109:\tlearn: 0.0185346\ttotal: 11.2s\tremaining: 1m 30s\n110:\tlearn: 0.0185333\ttotal: 11.3s\tremaining: 1m 30s\n111:\tlearn: 0.0185329\ttotal: 11.4s\tremaining: 1m 30s\n112:\tlearn: 0.0185319\ttotal: 11.5s\tremaining: 1m 30s\n113:\tlearn: 0.0185308\ttotal: 11.6s\tremaining: 1m 29s\n114:\tlearn: 0.0185297\ttotal: 11.7s\tremaining: 1m 29s\n115:\tlearn: 0.0185292\ttotal: 11.8s\tremaining: 1m 29s\n116:\tlearn: 0.0185288\ttotal: 11.9s\tremaining: 1m 29s\n117:\tlearn: 0.0185273\ttotal: 11.9s\tremaining: 1m 29s\n118:\tlearn: 0.0185262\ttotal: 12.1s\tremaining: 1m 29s\n119:\tlearn: 0.0185249\ttotal: 12.2s\tremaining: 1m 29s\n120:\tlearn: 0.0185236\ttotal: 12.3s\tremaining: 1m 29s\n121:\tlearn: 0.0185222\ttotal: 12.4s\tremaining: 1m 29s\n122:\tlearn: 0.0185212\ttotal: 12.5s\tremaining: 1m 28s\n123:\tlearn: 0.0185202\ttotal: 12.6s\tremaining: 1m 29s\n124:\tlearn: 0.0185196\ttotal: 12.7s\tremaining: 1m 28s\n125:\tlearn: 0.0185190\ttotal: 12.8s\tremaining: 1m 28s\n126:\tlearn: 0.0185184\ttotal: 12.9s\tremaining: 1m 28s\n127:\tlearn: 0.0185175\ttotal: 13s\tremaining: 1m 28s\n128:\tlearn: 0.0185171\ttotal: 13.1s\tremaining: 1m 28s\n129:\tlearn: 0.0185164\ttotal: 13.2s\tremaining: 1m 28s\n130:\tlearn: 0.0185160\ttotal: 13.2s\tremaining: 1m 27s\n131:\tlearn: 0.0185152\ttotal: 13.3s\tremaining: 1m 27s\n132:\tlearn: 0.0185146\ttotal: 13.4s\tremaining: 1m 27s\n133:\tlearn: 0.0185138\ttotal: 13.5s\tremaining: 1m 27s\n134:\tlearn: 0.0185129\ttotal: 13.6s\tremaining: 1m 27s\n135:\tlearn: 0.0185116\ttotal: 13.7s\tremaining: 1m 27s\n136:\tlearn: 0.0185111\ttotal: 13.8s\tremaining: 1m 26s\n137:\tlearn: 0.0185104\ttotal: 13.9s\tremaining: 1m 26s\n138:\tlearn: 0.0185092\ttotal: 14s\tremaining: 1m 26s\n139:\tlearn: 0.0185082\ttotal: 14.1s\tremaining: 1m 26s\n140:\tlearn: 0.0185079\ttotal: 14.2s\tremaining: 1m 26s\n141:\tlearn: 0.0185073\ttotal: 14.3s\tremaining: 1m 26s\n142:\tlearn: 0.0185063\ttotal: 14.4s\tremaining: 1m 26s\n143:\tlearn: 0.0185055\ttotal: 14.5s\tremaining: 1m 26s\n144:\tlearn: 0.0185046\ttotal: 14.6s\tremaining: 1m 26s\n145:\tlearn: 0.0185043\ttotal: 14.7s\tremaining: 1m 26s\n146:\tlearn: 0.0185038\ttotal: 14.8s\tremaining: 1m 25s\n147:\tlearn: 0.0185029\ttotal: 14.9s\tremaining: 1m 25s\n148:\tlearn: 0.0185021\ttotal: 15s\tremaining: 1m 25s\n149:\tlearn: 0.0185016\ttotal: 15.1s\tremaining: 1m 25s\n150:\tlearn: 0.0185011\ttotal: 15.2s\tremaining: 1m 25s\n151:\tlearn: 0.0185007\ttotal: 15.3s\tremaining: 1m 25s\n152:\tlearn: 0.0185002\ttotal: 15.4s\tremaining: 1m 25s\n153:\tlearn: 0.0184993\ttotal: 15.5s\tremaining: 1m 25s\n154:\tlearn: 0.0184985\ttotal: 15.6s\tremaining: 1m 24s\n155:\tlearn: 0.0184974\ttotal: 15.7s\tremaining: 1m 24s\n156:\tlearn: 0.0184971\ttotal: 15.8s\tremaining: 1m 24s\n157:\tlearn: 0.0184965\ttotal: 15.9s\tremaining: 1m 24s\n158:\tlearn: 0.0184962\ttotal: 16s\tremaining: 1m 24s\n159:\tlearn: 0.0184956\ttotal: 16s\tremaining: 1m 24s\n160:\tlearn: 0.0184949\ttotal: 16.2s\tremaining: 1m 24s\n161:\tlearn: 0.0184943\ttotal: 16.3s\tremaining: 1m 24s\n162:\tlearn: 0.0184933\ttotal: 16.4s\tremaining: 1m 24s\n163:\tlearn: 0.0184926\ttotal: 16.5s\tremaining: 1m 23s\n164:\tlearn: 0.0184923\ttotal: 16.6s\tremaining: 1m 23s\n165:\tlearn: 0.0184920\ttotal: 16.6s\tremaining: 1m 23s\n166:\tlearn: 0.0184914\ttotal: 16.8s\tremaining: 1m 23s\n167:\tlearn: 0.0184905\ttotal: 16.9s\tremaining: 1m 23s\n168:\tlearn: 0.0184899\ttotal: 17s\tremaining: 1m 23s\n169:\tlearn: 0.0184896\ttotal: 17.1s\tremaining: 1m 23s\n170:\tlearn: 0.0184894\ttotal: 17.2s\tremaining: 1m 23s\n171:\tlearn: 0.0184891\ttotal: 17.2s\tremaining: 1m 23s\n172:\tlearn: 0.0184883\ttotal: 17.4s\tremaining: 1m 23s\n173:\tlearn: 0.0184876\ttotal: 17.5s\tremaining: 1m 22s\n174:\tlearn: 0.0184870\ttotal: 17.6s\tremaining: 1m 22s\n175:\tlearn: 0.0184865\ttotal: 17.7s\tremaining: 1m 22s\n176:\tlearn: 0.0184861\ttotal: 17.8s\tremaining: 1m 22s\n177:\tlearn: 0.0184856\ttotal: 17.9s\tremaining: 1m 22s\n178:\tlearn: 0.0184848\ttotal: 18.1s\tremaining: 1m 22s\n179:\tlearn: 0.0184844\ttotal: 18.2s\tremaining: 1m 23s\n180:\tlearn: 0.0184838\ttotal: 18.4s\tremaining: 1m 23s\n181:\tlearn: 0.0184834\ttotal: 18.6s\tremaining: 1m 23s\n182:\tlearn: 0.0184831\ttotal: 18.7s\tremaining: 1m 23s\n183:\tlearn: 0.0184828\ttotal: 18.9s\tremaining: 1m 23s\n184:\tlearn: 0.0184820\ttotal: 19s\tremaining: 1m 23s\n185:\tlearn: 0.0184817\ttotal: 19.1s\tremaining: 1m 23s\n186:\tlearn: 0.0184811\ttotal: 19.3s\tremaining: 1m 23s\n187:\tlearn: 0.0184805\ttotal: 19.4s\tremaining: 1m 23s\n188:\tlearn: 0.0184802\ttotal: 19.6s\tremaining: 1m 23s\n189:\tlearn: 0.0184800\ttotal: 19.7s\tremaining: 1m 23s\n190:\tlearn: 0.0184798\ttotal: 19.8s\tremaining: 1m 23s\n191:\tlearn: 0.0184791\ttotal: 19.9s\tremaining: 1m 23s\n192:\tlearn: 0.0184784\ttotal: 20s\tremaining: 1m 23s\n193:\tlearn: 0.0184781\ttotal: 20.2s\tremaining: 1m 23s\n194:\tlearn: 0.0184778\ttotal: 20.3s\tremaining: 1m 23s\n195:\tlearn: 0.0184776\ttotal: 20.3s\tremaining: 1m 23s\n196:\tlearn: 0.0184772\ttotal: 20.5s\tremaining: 1m 23s\n197:\tlearn: 0.0184769\ttotal: 20.6s\tremaining: 1m 23s\n198:\tlearn: 0.0184764\ttotal: 20.7s\tremaining: 1m 23s\n199:\tlearn: 0.0184758\ttotal: 20.8s\tremaining: 1m 23s\n200:\tlearn: 0.0184752\ttotal: 20.9s\tremaining: 1m 23s\n201:\tlearn: 0.0184748\ttotal: 21s\tremaining: 1m 22s\n202:\tlearn: 0.0184745\ttotal: 21.1s\tremaining: 1m 22s\n203:\tlearn: 0.0184743\ttotal: 21.2s\tremaining: 1m 22s\n204:\tlearn: 0.0184739\ttotal: 21.3s\tremaining: 1m 22s\n205:\tlearn: 0.0184736\ttotal: 21.4s\tremaining: 1m 22s\n206:\tlearn: 0.0184732\ttotal: 21.5s\tremaining: 1m 22s\n207:\tlearn: 0.0184728\ttotal: 21.6s\tremaining: 1m 22s\n208:\tlearn: 0.0184726\ttotal: 21.7s\tremaining: 1m 21s\n209:\tlearn: 0.0184722\ttotal: 21.8s\tremaining: 1m 21s\n210:\tlearn: 0.0184718\ttotal: 21.9s\tremaining: 1m 21s\n211:\tlearn: 0.0184715\ttotal: 22s\tremaining: 1m 21s\n212:\tlearn: 0.0184713\ttotal: 22.1s\tremaining: 1m 21s\n213:\tlearn: 0.0184708\ttotal: 22.2s\tremaining: 1m 21s\n214:\tlearn: 0.0184705\ttotal: 22.3s\tremaining: 1m 21s\n215:\tlearn: 0.0184701\ttotal: 22.4s\tremaining: 1m 21s\n216:\tlearn: 0.0184699\ttotal: 22.5s\tremaining: 1m 21s\n217:\tlearn: 0.0184696\ttotal: 22.6s\tremaining: 1m 21s\n218:\tlearn: 0.0184692\ttotal: 22.7s\tremaining: 1m 21s\n219:\tlearn: 0.0184689\ttotal: 22.8s\tremaining: 1m 20s\n220:\tlearn: 0.0184685\ttotal: 22.9s\tremaining: 1m 20s\n221:\tlearn: 0.0184683\ttotal: 23s\tremaining: 1m 20s\n222:\tlearn: 0.0184680\ttotal: 23.1s\tremaining: 1m 20s\n223:\tlearn: 0.0184678\ttotal: 23.2s\tremaining: 1m 20s\n224:\tlearn: 0.0184676\ttotal: 23.3s\tremaining: 1m 20s\n225:\tlearn: 0.0184672\ttotal: 23.4s\tremaining: 1m 20s\n226:\tlearn: 0.0184670\ttotal: 23.5s\tremaining: 1m 19s\n227:\tlearn: 0.0184667\ttotal: 23.6s\tremaining: 1m 19s\n228:\tlearn: 0.0184664\ttotal: 23.7s\tremaining: 1m 19s\n229:\tlearn: 0.0184661\ttotal: 23.8s\tremaining: 1m 19s\n230:\tlearn: 0.0184657\ttotal: 23.9s\tremaining: 1m 19s\n231:\tlearn: 0.0184654\ttotal: 24s\tremaining: 1m 19s\n232:\tlearn: 0.0184649\ttotal: 24.1s\tremaining: 1m 19s\n233:\tlearn: 0.0184646\ttotal: 24.2s\tremaining: 1m 19s\n234:\tlearn: 0.0184641\ttotal: 24.3s\tremaining: 1m 19s\n235:\tlearn: 0.0184637\ttotal: 24.4s\tremaining: 1m 19s\n236:\tlearn: 0.0184635\ttotal: 24.5s\tremaining: 1m 18s\n237:\tlearn: 0.0184632\ttotal: 24.6s\tremaining: 1m 18s\n238:\tlearn: 0.0184631\ttotal: 24.7s\tremaining: 1m 18s\n239:\tlearn: 0.0184628\ttotal: 24.8s\tremaining: 1m 18s\n240:\tlearn: 0.0184627\ttotal: 24.9s\tremaining: 1m 18s\n241:\tlearn: 0.0184624\ttotal: 25s\tremaining: 1m 18s\n242:\tlearn: 0.0184622\ttotal: 25.1s\tremaining: 1m 18s\n243:\tlearn: 0.0184618\ttotal: 25.2s\tremaining: 1m 18s\n244:\tlearn: 0.0184617\ttotal: 25.3s\tremaining: 1m 17s\n245:\tlearn: 0.0184613\ttotal: 25.4s\tremaining: 1m 17s\n246:\tlearn: 0.0184611\ttotal: 25.5s\tremaining: 1m 17s\n247:\tlearn: 0.0184608\ttotal: 25.6s\tremaining: 1m 17s\n248:\tlearn: 0.0184605\ttotal: 25.7s\tremaining: 1m 17s\n249:\tlearn: 0.0184602\ttotal: 25.8s\tremaining: 1m 17s\n250:\tlearn: 0.0184599\ttotal: 25.9s\tremaining: 1m 17s\n251:\tlearn: 0.0184598\ttotal: 26s\tremaining: 1m 17s\n252:\tlearn: 0.0184597\ttotal: 26.1s\tremaining: 1m 17s\n253:\tlearn: 0.0184595\ttotal: 26.2s\tremaining: 1m 16s\n254:\tlearn: 0.0184592\ttotal: 26.3s\tremaining: 1m 16s\n255:\tlearn: 0.0184591\ttotal: 26.3s\tremaining: 1m 16s\n256:\tlearn: 0.0184589\ttotal: 26.4s\tremaining: 1m 16s\n257:\tlearn: 0.0184588\ttotal: 26.5s\tremaining: 1m 16s\n258:\tlearn: 0.0184585\ttotal: 26.6s\tremaining: 1m 16s\n259:\tlearn: 0.0184582\ttotal: 26.7s\tremaining: 1m 16s\n260:\tlearn: 0.0184581\ttotal: 26.8s\tremaining: 1m 15s\n261:\tlearn: 0.0184579\ttotal: 26.9s\tremaining: 1m 15s\n262:\tlearn: 0.0184578\ttotal: 27s\tremaining: 1m 15s\n263:\tlearn: 0.0184573\ttotal: 27.1s\tremaining: 1m 15s\n264:\tlearn: 0.0184571\ttotal: 27.2s\tremaining: 1m 15s\n265:\tlearn: 0.0184569\ttotal: 27.3s\tremaining: 1m 15s\n266:\tlearn: 0.0184567\ttotal: 27.4s\tremaining: 1m 15s\n267:\tlearn: 0.0184565\ttotal: 27.5s\tremaining: 1m 15s\n268:\tlearn: 0.0184563\ttotal: 27.6s\tremaining: 1m 15s\n269:\tlearn: 0.0184559\ttotal: 27.7s\tremaining: 1m 14s\n270:\tlearn: 0.0184556\ttotal: 27.8s\tremaining: 1m 14s\n271:\tlearn: 0.0184552\ttotal: 28s\tremaining: 1m 14s\n272:\tlearn: 0.0184550\ttotal: 28s\tremaining: 1m 14s\n273:\tlearn: 0.0184550\ttotal: 28.1s\tremaining: 1m 14s\n274:\tlearn: 0.0184548\ttotal: 28.2s\tremaining: 1m 14s\n275:\tlearn: 0.0184546\ttotal: 28.3s\tremaining: 1m 14s\n276:\tlearn: 0.0184543\ttotal: 28.4s\tremaining: 1m 14s\n277:\tlearn: 0.0184542\ttotal: 28.5s\tremaining: 1m 14s\n278:\tlearn: 0.0184537\ttotal: 28.6s\tremaining: 1m 14s\n279:\tlearn: 0.0184536\ttotal: 28.7s\tremaining: 1m 13s\n280:\tlearn: 0.0184534\ttotal: 28.8s\tremaining: 1m 13s\n281:\tlearn: 0.0184531\ttotal: 28.9s\tremaining: 1m 13s\n282:\tlearn: 0.0184529\ttotal: 29s\tremaining: 1m 13s\n283:\tlearn: 0.0184528\ttotal: 29.1s\tremaining: 1m 13s\n284:\tlearn: 0.0184525\ttotal: 29.2s\tremaining: 1m 13s\n285:\tlearn: 0.0184524\ttotal: 29.3s\tremaining: 1m 13s\n286:\tlearn: 0.0184520\ttotal: 29.5s\tremaining: 1m 13s\n287:\tlearn: 0.0184517\ttotal: 29.6s\tremaining: 1m 13s\n288:\tlearn: 0.0184516\ttotal: 29.7s\tremaining: 1m 12s\n289:\tlearn: 0.0184513\ttotal: 29.8s\tremaining: 1m 12s\n290:\tlearn: 0.0184512\ttotal: 29.9s\tremaining: 1m 12s\n291:\tlearn: 0.0184510\ttotal: 30s\tremaining: 1m 12s\n292:\tlearn: 0.0184507\ttotal: 30.1s\tremaining: 1m 12s\n293:\tlearn: 0.0184506\ttotal: 30.2s\tremaining: 1m 12s\n294:\tlearn: 0.0184502\ttotal: 30.3s\tremaining: 1m 12s\n295:\tlearn: 0.0184498\ttotal: 30.4s\tremaining: 1m 12s\n296:\tlearn: 0.0184496\ttotal: 30.5s\tremaining: 1m 12s\n297:\tlearn: 0.0184494\ttotal: 30.6s\tremaining: 1m 12s\n298:\tlearn: 0.0184492\ttotal: 30.7s\tremaining: 1m 11s\n299:\tlearn: 0.0184491\ttotal: 30.8s\tremaining: 1m 11s\n300:\tlearn: 0.0184490\ttotal: 30.9s\tremaining: 1m 11s\n301:\tlearn: 0.0184488\ttotal: 31s\tremaining: 1m 11s\n302:\tlearn: 0.0184486\ttotal: 31.1s\tremaining: 1m 11s\n303:\tlearn: 0.0184485\ttotal: 31.2s\tremaining: 1m 11s\n304:\tlearn: 0.0184482\ttotal: 31.3s\tremaining: 1m 11s\n305:\tlearn: 0.0184479\ttotal: 31.4s\tremaining: 1m 11s\n306:\tlearn: 0.0184477\ttotal: 31.5s\tremaining: 1m 11s\n307:\tlearn: 0.0184475\ttotal: 31.6s\tremaining: 1m 10s\n308:\tlearn: 0.0184472\ttotal: 31.7s\tremaining: 1m 10s\n309:\tlearn: 0.0184471\ttotal: 31.8s\tremaining: 1m 10s\n310:\tlearn: 0.0184469\ttotal: 31.9s\tremaining: 1m 10s\n311:\tlearn: 0.0184468\ttotal: 32s\tremaining: 1m 10s\n312:\tlearn: 0.0184466\ttotal: 32.1s\tremaining: 1m 10s\n313:\tlearn: 0.0184465\ttotal: 32.2s\tremaining: 1m 10s\n314:\tlearn: 0.0184463\ttotal: 32.3s\tremaining: 1m 10s\n315:\tlearn: 0.0184461\ttotal: 32.4s\tremaining: 1m 10s\n316:\tlearn: 0.0184458\ttotal: 32.5s\tremaining: 1m 9s\n317:\tlearn: 0.0184455\ttotal: 32.6s\tremaining: 1m 9s\n318:\tlearn: 0.0184455\ttotal: 32.7s\tremaining: 1m 9s\n319:\tlearn: 0.0184453\ttotal: 32.8s\tremaining: 1m 9s\n320:\tlearn: 0.0184452\ttotal: 32.9s\tremaining: 1m 9s\n321:\tlearn: 0.0184450\ttotal: 33s\tremaining: 1m 9s\n322:\tlearn: 0.0184449\ttotal: 33.1s\tremaining: 1m 9s\n323:\tlearn: 0.0184445\ttotal: 33.2s\tremaining: 1m 9s\n324:\tlearn: 0.0184444\ttotal: 33.3s\tremaining: 1m 9s\n325:\tlearn: 0.0184442\ttotal: 33.4s\tremaining: 1m 9s\n326:\tlearn: 0.0184440\ttotal: 33.5s\tremaining: 1m 8s\n327:\tlearn: 0.0184438\ttotal: 33.6s\tremaining: 1m 8s\n328:\tlearn: 0.0184438\ttotal: 33.7s\tremaining: 1m 8s\n329:\tlearn: 0.0184434\ttotal: 33.8s\tremaining: 1m 8s\n330:\tlearn: 0.0184432\ttotal: 33.9s\tremaining: 1m 8s\n331:\tlearn: 0.0184430\ttotal: 34.1s\tremaining: 1m 8s\n332:\tlearn: 0.0184430\ttotal: 34.2s\tremaining: 1m 8s\n333:\tlearn: 0.0184428\ttotal: 34.2s\tremaining: 1m 8s\n334:\tlearn: 0.0184427\ttotal: 34.4s\tremaining: 1m 8s\n335:\tlearn: 0.0184425\ttotal: 34.5s\tremaining: 1m 8s\n336:\tlearn: 0.0184424\ttotal: 34.6s\tremaining: 1m 8s\n337:\tlearn: 0.0184422\ttotal: 34.7s\tremaining: 1m 7s\n338:\tlearn: 0.0184420\ttotal: 34.8s\tremaining: 1m 7s\n339:\tlearn: 0.0184418\ttotal: 34.9s\tremaining: 1m 7s\n340:\tlearn: 0.0184417\ttotal: 35s\tremaining: 1m 7s\n341:\tlearn: 0.0184415\ttotal: 35.1s\tremaining: 1m 7s\n342:\tlearn: 0.0184414\ttotal: 35.2s\tremaining: 1m 7s\n343:\tlearn: 0.0184411\ttotal: 35.3s\tremaining: 1m 7s\n344:\tlearn: 0.0184410\ttotal: 35.4s\tremaining: 1m 7s\n345:\tlearn: 0.0184408\ttotal: 35.5s\tremaining: 1m 7s\n346:\tlearn: 0.0184406\ttotal: 35.6s\tremaining: 1m 6s\n347:\tlearn: 0.0184404\ttotal: 35.7s\tremaining: 1m 6s\n348:\tlearn: 0.0184404\ttotal: 35.8s\tremaining: 1m 6s\n349:\tlearn: 0.0184401\ttotal: 35.9s\tremaining: 1m 6s\n350:\tlearn: 0.0184398\ttotal: 36s\tremaining: 1m 6s\n351:\tlearn: 0.0184397\ttotal: 36.1s\tremaining: 1m 6s\n352:\tlearn: 0.0184396\ttotal: 36.2s\tremaining: 1m 6s\n353:\tlearn: 0.0184394\ttotal: 36.3s\tremaining: 1m 6s\n354:\tlearn: 0.0184394\ttotal: 36.3s\tremaining: 1m 6s\n355:\tlearn: 0.0184393\ttotal: 36.4s\tremaining: 1m 5s\n356:\tlearn: 0.0184391\ttotal: 36.6s\tremaining: 1m 5s\n357:\tlearn: 0.0184388\ttotal: 36.7s\tremaining: 1m 5s\n358:\tlearn: 0.0184385\ttotal: 36.8s\tremaining: 1m 5s\n359:\tlearn: 0.0184384\ttotal: 36.9s\tremaining: 1m 5s\n360:\tlearn: 0.0184380\ttotal: 37s\tremaining: 1m 5s\n361:\tlearn: 0.0184379\ttotal: 37.1s\tremaining: 1m 5s\n362:\tlearn: 0.0184378\ttotal: 37.2s\tremaining: 1m 5s\n363:\tlearn: 0.0184378\ttotal: 37.3s\tremaining: 1m 5s\n364:\tlearn: 0.0184377\ttotal: 37.4s\tremaining: 1m 5s\n365:\tlearn: 0.0184376\ttotal: 37.5s\tremaining: 1m 4s\n366:\tlearn: 0.0184374\ttotal: 37.6s\tremaining: 1m 4s\n367:\tlearn: 0.0184372\ttotal: 37.7s\tremaining: 1m 4s\n368:\tlearn: 0.0184370\ttotal: 37.8s\tremaining: 1m 4s\n369:\tlearn: 0.0184369\ttotal: 37.9s\tremaining: 1m 4s\n370:\tlearn: 0.0184367\ttotal: 38s\tremaining: 1m 4s\n371:\tlearn: 0.0184364\ttotal: 38.1s\tremaining: 1m 4s\n372:\tlearn: 0.0184363\ttotal: 38.2s\tremaining: 1m 4s\n373:\tlearn: 0.0184360\ttotal: 38.3s\tremaining: 1m 4s\n374:\tlearn: 0.0184359\ttotal: 38.4s\tremaining: 1m 4s\n375:\tlearn: 0.0184357\ttotal: 38.5s\tremaining: 1m 3s\n376:\tlearn: 0.0184356\ttotal: 38.6s\tremaining: 1m 3s\n377:\tlearn: 0.0184355\ttotal: 38.7s\tremaining: 1m 3s\n378:\tlearn: 0.0184354\ttotal: 38.8s\tremaining: 1m 3s\n379:\tlearn: 0.0184353\ttotal: 38.9s\tremaining: 1m 3s\n380:\tlearn: 0.0184351\ttotal: 39s\tremaining: 1m 3s\n381:\tlearn: 0.0184350\ttotal: 39.1s\tremaining: 1m 3s\n382:\tlearn: 0.0184348\ttotal: 39.2s\tremaining: 1m 3s\n383:\tlearn: 0.0184345\ttotal: 39.3s\tremaining: 1m 3s\n384:\tlearn: 0.0184344\ttotal: 39.4s\tremaining: 1m 2s\n385:\tlearn: 0.0184343\ttotal: 39.5s\tremaining: 1m 2s\n386:\tlearn: 0.0184342\ttotal: 39.6s\tremaining: 1m 2s\n387:\tlearn: 0.0184341\ttotal: 39.7s\tremaining: 1m 2s\n388:\tlearn: 0.0184338\ttotal: 39.8s\tremaining: 1m 2s\n389:\tlearn: 0.0184336\ttotal: 39.9s\tremaining: 1m 2s\n390:\tlearn: 0.0184334\ttotal: 40s\tremaining: 1m 2s\n391:\tlearn: 0.0184334\ttotal: 40.1s\tremaining: 1m 2s\n392:\tlearn: 0.0184332\ttotal: 40.3s\tremaining: 1m 2s\n393:\tlearn: 0.0184330\ttotal: 40.4s\tremaining: 1m 2s\n394:\tlearn: 0.0184329\ttotal: 40.4s\tremaining: 1m 1s\n395:\tlearn: 0.0184328\ttotal: 40.6s\tremaining: 1m 1s\n396:\tlearn: 0.0184326\ttotal: 40.6s\tremaining: 1m 1s\n397:\tlearn: 0.0184325\ttotal: 40.7s\tremaining: 1m 1s\n398:\tlearn: 0.0184323\ttotal: 40.8s\tremaining: 1m 1s\n399:\tlearn: 0.0184322\ttotal: 40.9s\tremaining: 1m 1s\n400:\tlearn: 0.0184321\ttotal: 41s\tremaining: 1m 1s\n401:\tlearn: 0.0184319\ttotal: 41.1s\tremaining: 1m 1s\n402:\tlearn: 0.0184319\ttotal: 41.2s\tremaining: 1m 1s\n403:\tlearn: 0.0184317\ttotal: 41.3s\tremaining: 1m\n404:\tlearn: 0.0184316\ttotal: 41.4s\tremaining: 1m\n405:\tlearn: 0.0184315\ttotal: 41.5s\tremaining: 1m\n406:\tlearn: 0.0184313\ttotal: 41.6s\tremaining: 1m\n407:\tlearn: 0.0184311\ttotal: 41.7s\tremaining: 1m\n408:\tlearn: 0.0184310\ttotal: 41.8s\tremaining: 1m\n409:\tlearn: 0.0184309\ttotal: 41.9s\tremaining: 1m\n410:\tlearn: 0.0184307\ttotal: 42s\tremaining: 1m\n411:\tlearn: 0.0184305\ttotal: 42.1s\tremaining: 1m\n412:\tlearn: 0.0184303\ttotal: 42.2s\tremaining: 1m\n413:\tlearn: 0.0184302\ttotal: 42.3s\tremaining: 59.9s\n414:\tlearn: 0.0184300\ttotal: 42.4s\tremaining: 59.8s\n415:\tlearn: 0.0184299\ttotal: 42.5s\tremaining: 59.7s\n416:\tlearn: 0.0184298\ttotal: 42.6s\tremaining: 59.5s\n417:\tlearn: 0.0184298\ttotal: 42.7s\tremaining: 59.4s\n418:\tlearn: 0.0184296\ttotal: 42.8s\tremaining: 59.3s\n419:\tlearn: 0.0184294\ttotal: 42.9s\tremaining: 59.2s\n420:\tlearn: 0.0184292\ttotal: 43s\tremaining: 59.1s\n421:\tlearn: 0.0184289\ttotal: 43.1s\tremaining: 59s\n422:\tlearn: 0.0184289\ttotal: 43.2s\tremaining: 58.9s\n423:\tlearn: 0.0184287\ttotal: 43.3s\tremaining: 58.9s\n424:\tlearn: 0.0184286\ttotal: 43.4s\tremaining: 58.8s\n425:\tlearn: 0.0184284\ttotal: 43.5s\tremaining: 58.7s\n426:\tlearn: 0.0184282\ttotal: 43.6s\tremaining: 58.6s\n427:\tlearn: 0.0184281\ttotal: 43.7s\tremaining: 58.5s\n428:\tlearn: 0.0184278\ttotal: 43.9s\tremaining: 58.4s\n429:\tlearn: 0.0184278\ttotal: 43.9s\tremaining: 58.2s\n430:\tlearn: 0.0184277\ttotal: 44.1s\tremaining: 58.2s\n431:\tlearn: 0.0184276\ttotal: 44.1s\tremaining: 58s\n432:\tlearn: 0.0184275\ttotal: 44.2s\tremaining: 57.9s\n433:\tlearn: 0.0184274\ttotal: 44.3s\tremaining: 57.8s\n434:\tlearn: 0.0184272\ttotal: 44.4s\tremaining: 57.7s\n435:\tlearn: 0.0184271\ttotal: 44.5s\tremaining: 57.6s\n436:\tlearn: 0.0184270\ttotal: 44.6s\tremaining: 57.5s\n437:\tlearn: 0.0184268\ttotal: 44.7s\tremaining: 57.4s\n438:\tlearn: 0.0184266\ttotal: 44.9s\tremaining: 57.3s\n439:\tlearn: 0.0184263\ttotal: 45s\tremaining: 57.3s\n440:\tlearn: 0.0184262\ttotal: 45.1s\tremaining: 57.2s\n441:\tlearn: 0.0184260\ttotal: 45.2s\tremaining: 57.1s\n442:\tlearn: 0.0184259\ttotal: 45.3s\tremaining: 57s\n443:\tlearn: 0.0184258\ttotal: 45.4s\tremaining: 56.9s\n444:\tlearn: 0.0184257\ttotal: 45.5s\tremaining: 56.8s\n445:\tlearn: 0.0184256\ttotal: 45.6s\tremaining: 56.6s\n446:\tlearn: 0.0184255\ttotal: 45.7s\tremaining: 56.5s\n447:\tlearn: 0.0184254\ttotal: 45.8s\tremaining: 56.4s\n448:\tlearn: 0.0184253\ttotal: 45.9s\tremaining: 56.3s\n449:\tlearn: 0.0184252\ttotal: 46s\tremaining: 56.2s\n450:\tlearn: 0.0184249\ttotal: 46.1s\tremaining: 56.1s\n451:\tlearn: 0.0184248\ttotal: 46.2s\tremaining: 56s\n452:\tlearn: 0.0184246\ttotal: 46.3s\tremaining: 55.9s\n453:\tlearn: 0.0184246\ttotal: 46.4s\tremaining: 55.8s\n454:\tlearn: 0.0184245\ttotal: 46.5s\tremaining: 55.7s\n455:\tlearn: 0.0184243\ttotal: 46.6s\tremaining: 55.6s\n456:\tlearn: 0.0184242\ttotal: 46.7s\tremaining: 55.5s\n457:\tlearn: 0.0184241\ttotal: 46.8s\tremaining: 55.4s\n458:\tlearn: 0.0184240\ttotal: 46.9s\tremaining: 55.3s\n459:\tlearn: 0.0184238\ttotal: 47.1s\tremaining: 55.2s\n460:\tlearn: 0.0184237\ttotal: 47.2s\tremaining: 55.1s\n461:\tlearn: 0.0184236\ttotal: 47.2s\tremaining: 55s\n462:\tlearn: 0.0184235\ttotal: 47.4s\tremaining: 54.9s\n463:\tlearn: 0.0184234\ttotal: 47.5s\tremaining: 54.8s\n464:\tlearn: 0.0184233\ttotal: 47.6s\tremaining: 54.7s\n465:\tlearn: 0.0184231\ttotal: 47.7s\tremaining: 54.6s\n466:\tlearn: 0.0184229\ttotal: 47.8s\tremaining: 54.5s\n467:\tlearn: 0.0184228\ttotal: 47.9s\tremaining: 54.4s\n468:\tlearn: 0.0184227\ttotal: 48s\tremaining: 54.4s\n469:\tlearn: 0.0184225\ttotal: 48.1s\tremaining: 54.3s\n470:\tlearn: 0.0184224\ttotal: 48.2s\tremaining: 54.2s\n471:\tlearn: 0.0184223\ttotal: 48.3s\tremaining: 54.1s\n472:\tlearn: 0.0184222\ttotal: 48.4s\tremaining: 54s\n473:\tlearn: 0.0184220\ttotal: 48.5s\tremaining: 53.8s\n474:\tlearn: 0.0184219\ttotal: 48.6s\tremaining: 53.8s\n475:\tlearn: 0.0184218\ttotal: 48.7s\tremaining: 53.6s\n476:\tlearn: 0.0184218\ttotal: 48.8s\tremaining: 53.5s\n477:\tlearn: 0.0184216\ttotal: 48.9s\tremaining: 53.4s\n478:\tlearn: 0.0184215\ttotal: 49s\tremaining: 53.3s\n479:\tlearn: 0.0184214\ttotal: 49.2s\tremaining: 53.3s\n480:\tlearn: 0.0184213\ttotal: 49.3s\tremaining: 53.2s\n481:\tlearn: 0.0184212\ttotal: 49.4s\tremaining: 53s\n482:\tlearn: 0.0184211\ttotal: 49.5s\tremaining: 52.9s\n483:\tlearn: 0.0184210\ttotal: 49.6s\tremaining: 52.8s\n484:\tlearn: 0.0184209\ttotal: 49.7s\tremaining: 52.7s\n485:\tlearn: 0.0184208\ttotal: 49.7s\tremaining: 52.6s\n486:\tlearn: 0.0184206\ttotal: 49.9s\tremaining: 52.6s\n487:\tlearn: 0.0184204\ttotal: 50.1s\tremaining: 52.6s\n488:\tlearn: 0.0184202\ttotal: 50.2s\tremaining: 52.5s\n489:\tlearn: 0.0184201\ttotal: 50.4s\tremaining: 52.4s\n490:\tlearn: 0.0184200\ttotal: 50.5s\tremaining: 52.4s\n491:\tlearn: 0.0184199\ttotal: 50.7s\tremaining: 52.3s\n492:\tlearn: 0.0184197\ttotal: 50.8s\tremaining: 52.3s\n493:\tlearn: 0.0184196\ttotal: 51s\tremaining: 52.2s\n494:\tlearn: 0.0184195\ttotal: 51.1s\tremaining: 52.1s\n495:\tlearn: 0.0184194\ttotal: 51.2s\tremaining: 52s\n496:\tlearn: 0.0184193\ttotal: 51.4s\tremaining: 52s\n497:\tlearn: 0.0184191\ttotal: 51.5s\tremaining: 51.9s\n498:\tlearn: 0.0184190\ttotal: 51.6s\tremaining: 51.8s\n499:\tlearn: 0.0184189\ttotal: 51.8s\tremaining: 51.8s\n500:\tlearn: 0.0184188\ttotal: 51.9s\tremaining: 51.7s\n501:\tlearn: 0.0184187\ttotal: 52s\tremaining: 51.6s\n502:\tlearn: 0.0184186\ttotal: 52.1s\tremaining: 51.4s\n503:\tlearn: 0.0184185\ttotal: 52.2s\tremaining: 51.3s\n504:\tlearn: 0.0184184\ttotal: 52.3s\tremaining: 51.3s\n505:\tlearn: 0.0184182\ttotal: 52.4s\tremaining: 51.2s\n506:\tlearn: 0.0184181\ttotal: 52.5s\tremaining: 51.1s\n507:\tlearn: 0.0184180\ttotal: 52.6s\tremaining: 51s\n508:\tlearn: 0.0184179\ttotal: 52.7s\tremaining: 50.9s\n509:\tlearn: 0.0184179\ttotal: 52.8s\tremaining: 50.7s\n510:\tlearn: 0.0184178\ttotal: 52.9s\tremaining: 50.6s\n511:\tlearn: 0.0184177\ttotal: 53s\tremaining: 50.5s\n512:\tlearn: 0.0184176\ttotal: 53.1s\tremaining: 50.4s\n513:\tlearn: 0.0184175\ttotal: 53.2s\tremaining: 50.3s\n514:\tlearn: 0.0184174\ttotal: 53.3s\tremaining: 50.2s\n515:\tlearn: 0.0184173\ttotal: 53.4s\tremaining: 50.1s\n516:\tlearn: 0.0184171\ttotal: 53.5s\tremaining: 50s\n517:\tlearn: 0.0184170\ttotal: 53.6s\tremaining: 49.9s\n518:\tlearn: 0.0184168\ttotal: 53.7s\tremaining: 49.8s\n519:\tlearn: 0.0184168\ttotal: 53.8s\tremaining: 49.7s\n520:\tlearn: 0.0184167\ttotal: 53.9s\tremaining: 49.5s\n521:\tlearn: 0.0184165\ttotal: 54s\tremaining: 49.4s\n522:\tlearn: 0.0184163\ttotal: 54.1s\tremaining: 49.3s\n523:\tlearn: 0.0184161\ttotal: 54.2s\tremaining: 49.2s\n524:\tlearn: 0.0184159\ttotal: 54.3s\tremaining: 49.1s\n525:\tlearn: 0.0184158\ttotal: 54.4s\tremaining: 49s\n526:\tlearn: 0.0184157\ttotal: 54.5s\tremaining: 49s\n527:\tlearn: 0.0184156\ttotal: 54.6s\tremaining: 48.8s\n528:\tlearn: 0.0184155\ttotal: 54.7s\tremaining: 48.7s\n529:\tlearn: 0.0184154\ttotal: 54.8s\tremaining: 48.6s\n530:\tlearn: 0.0184153\ttotal: 54.9s\tremaining: 48.5s\n531:\tlearn: 0.0184151\ttotal: 55s\tremaining: 48.4s\n532:\tlearn: 0.0184148\ttotal: 55.2s\tremaining: 48.3s\n533:\tlearn: 0.0184148\ttotal: 55.3s\tremaining: 48.2s\n534:\tlearn: 0.0184146\ttotal: 55.3s\tremaining: 48.1s\n535:\tlearn: 0.0184146\ttotal: 55.4s\tremaining: 48s\n536:\tlearn: 0.0184145\ttotal: 55.5s\tremaining: 47.9s\n537:\tlearn: 0.0184143\ttotal: 55.6s\tremaining: 47.8s\n538:\tlearn: 0.0184142\ttotal: 55.7s\tremaining: 47.7s\n539:\tlearn: 0.0184141\ttotal: 55.8s\tremaining: 47.6s\n540:\tlearn: 0.0184140\ttotal: 55.9s\tremaining: 47.4s\n541:\tlearn: 0.0184138\ttotal: 56s\tremaining: 47.3s\n542:\tlearn: 0.0184138\ttotal: 56.1s\tremaining: 47.2s\n543:\tlearn: 0.0184137\ttotal: 56.2s\tremaining: 47.1s\n544:\tlearn: 0.0184136\ttotal: 56.3s\tremaining: 47s\n545:\tlearn: 0.0184135\ttotal: 56.4s\tremaining: 46.9s\n546:\tlearn: 0.0184133\ttotal: 56.5s\tremaining: 46.8s\n547:\tlearn: 0.0184132\ttotal: 56.6s\tremaining: 46.7s\n548:\tlearn: 0.0184131\ttotal: 56.7s\tremaining: 46.6s\n549:\tlearn: 0.0184130\ttotal: 56.8s\tremaining: 46.5s\n550:\tlearn: 0.0184130\ttotal: 56.9s\tremaining: 46.4s\n551:\tlearn: 0.0184128\ttotal: 57s\tremaining: 46.3s\n552:\tlearn: 0.0184128\ttotal: 57.1s\tremaining: 46.2s\n553:\tlearn: 0.0184126\ttotal: 57.3s\tremaining: 46.1s\n554:\tlearn: 0.0184125\ttotal: 57.3s\tremaining: 46s\n555:\tlearn: 0.0184123\ttotal: 57.4s\tremaining: 45.9s\n556:\tlearn: 0.0184121\ttotal: 57.5s\tremaining: 45.8s\n557:\tlearn: 0.0184119\ttotal: 57.6s\tremaining: 45.7s\n558:\tlearn: 0.0184118\ttotal: 57.7s\tremaining: 45.5s\n559:\tlearn: 0.0184116\ttotal: 57.8s\tremaining: 45.5s\n560:\tlearn: 0.0184114\ttotal: 57.9s\tremaining: 45.3s\n561:\tlearn: 0.0184113\ttotal: 58.1s\tremaining: 45.2s\n562:\tlearn: 0.0184112\ttotal: 58.1s\tremaining: 45.1s\n563:\tlearn: 0.0184112\ttotal: 58.2s\tremaining: 45s\n564:\tlearn: 0.0184111\ttotal: 58.3s\tremaining: 44.9s\n565:\tlearn: 0.0184109\ttotal: 58.5s\tremaining: 44.8s\n566:\tlearn: 0.0184107\ttotal: 58.6s\tremaining: 44.7s\n567:\tlearn: 0.0184105\ttotal: 58.7s\tremaining: 44.6s\n568:\tlearn: 0.0184105\ttotal: 58.8s\tremaining: 44.5s\n569:\tlearn: 0.0184103\ttotal: 58.9s\tremaining: 44.4s\n570:\tlearn: 0.0184102\ttotal: 59s\tremaining: 44.3s\n571:\tlearn: 0.0184101\ttotal: 59.1s\tremaining: 44.2s\n572:\tlearn: 0.0184101\ttotal: 59.1s\tremaining: 44.1s\n573:\tlearn: 0.0184100\ttotal: 59.2s\tremaining: 44s\n574:\tlearn: 0.0184099\ttotal: 59.3s\tremaining: 43.8s\n575:\tlearn: 0.0184098\ttotal: 59.4s\tremaining: 43.7s\n576:\tlearn: 0.0184097\ttotal: 59.5s\tremaining: 43.6s\n577:\tlearn: 0.0184096\ttotal: 59.6s\tremaining: 43.5s\n578:\tlearn: 0.0184094\ttotal: 59.7s\tremaining: 43.4s\n579:\tlearn: 0.0184093\ttotal: 59.9s\tremaining: 43.3s\n580:\tlearn: 0.0184092\ttotal: 60s\tremaining: 43.2s\n581:\tlearn: 0.0184091\ttotal: 1m\tremaining: 43.1s\n582:\tlearn: 0.0184091\ttotal: 1m\tremaining: 43s\n583:\tlearn: 0.0184090\ttotal: 1m\tremaining: 42.9s\n584:\tlearn: 0.0184089\ttotal: 1m\tremaining: 42.8s\n585:\tlearn: 0.0184088\ttotal: 1m\tremaining: 42.7s\n586:\tlearn: 0.0184088\ttotal: 1m\tremaining: 42.6s\n587:\tlearn: 0.0184087\ttotal: 1m\tremaining: 42.5s\n588:\tlearn: 0.0184085\ttotal: 1m\tremaining: 42.4s\n589:\tlearn: 0.0184083\ttotal: 1m\tremaining: 42.3s\n590:\tlearn: 0.0184082\ttotal: 1m\tremaining: 42.2s\n591:\tlearn: 0.0184082\ttotal: 1m 1s\tremaining: 42.1s\n592:\tlearn: 0.0184080\ttotal: 1m 1s\tremaining: 42s\n593:\tlearn: 0.0184079\ttotal: 1m 1s\tremaining: 41.9s\n594:\tlearn: 0.0184078\ttotal: 1m 1s\tremaining: 41.8s\n595:\tlearn: 0.0184077\ttotal: 1m 1s\tremaining: 41.7s\n596:\tlearn: 0.0184076\ttotal: 1m 1s\tremaining: 41.6s\n597:\tlearn: 0.0184074\ttotal: 1m 1s\tremaining: 41.5s\n598:\tlearn: 0.0184073\ttotal: 1m 1s\tremaining: 41.4s\n599:\tlearn: 0.0184072\ttotal: 1m 1s\tremaining: 41.3s\n600:\tlearn: 0.0184072\ttotal: 1m 2s\tremaining: 41.2s\n601:\tlearn: 0.0184071\ttotal: 1m 2s\tremaining: 41.1s\n602:\tlearn: 0.0184071\ttotal: 1m 2s\tremaining: 40.9s\n603:\tlearn: 0.0184070\ttotal: 1m 2s\tremaining: 40.8s\n604:\tlearn: 0.0184068\ttotal: 1m 2s\tremaining: 40.8s\n605:\tlearn: 0.0184067\ttotal: 1m 2s\tremaining: 40.7s\n606:\tlearn: 0.0184066\ttotal: 1m 2s\tremaining: 40.5s\n607:\tlearn: 0.0184065\ttotal: 1m 2s\tremaining: 40.4s\n608:\tlearn: 0.0184064\ttotal: 1m 2s\tremaining: 40.3s\n609:\tlearn: 0.0184062\ttotal: 1m 2s\tremaining: 40.2s\n610:\tlearn: 0.0184061\ttotal: 1m 3s\tremaining: 40.1s\n611:\tlearn: 0.0184061\ttotal: 1m 3s\tremaining: 40s\n612:\tlearn: 0.0184060\ttotal: 1m 3s\tremaining: 39.9s\n613:\tlearn: 0.0184059\ttotal: 1m 3s\tremaining: 39.8s\n614:\tlearn: 0.0184058\ttotal: 1m 3s\tremaining: 39.7s\n615:\tlearn: 0.0184057\ttotal: 1m 3s\tremaining: 39.6s\n616:\tlearn: 0.0184057\ttotal: 1m 3s\tremaining: 39.5s\n617:\tlearn: 0.0184056\ttotal: 1m 3s\tremaining: 39.4s\n618:\tlearn: 0.0184055\ttotal: 1m 3s\tremaining: 39.3s\n619:\tlearn: 0.0184054\ttotal: 1m 3s\tremaining: 39.2s\n620:\tlearn: 0.0184052\ttotal: 1m 4s\tremaining: 39.1s\n621:\tlearn: 0.0184052\ttotal: 1m 4s\tremaining: 39s\n622:\tlearn: 0.0184051\ttotal: 1m 4s\tremaining: 38.9s\n623:\tlearn: 0.0184050\ttotal: 1m 4s\tremaining: 38.7s\n624:\tlearn: 0.0184049\ttotal: 1m 4s\tremaining: 38.6s\n625:\tlearn: 0.0184049\ttotal: 1m 4s\tremaining: 38.5s\n626:\tlearn: 0.0184048\ttotal: 1m 4s\tremaining: 38.4s\n627:\tlearn: 0.0184047\ttotal: 1m 4s\tremaining: 38.3s\n628:\tlearn: 0.0184046\ttotal: 1m 4s\tremaining: 38.2s\n629:\tlearn: 0.0184045\ttotal: 1m 4s\tremaining: 38.1s\n630:\tlearn: 0.0184044\ttotal: 1m 4s\tremaining: 38s\n631:\tlearn: 0.0184044\ttotal: 1m 5s\tremaining: 37.9s\n632:\tlearn: 0.0184043\ttotal: 1m 5s\tremaining: 37.8s\n633:\tlearn: 0.0184042\ttotal: 1m 5s\tremaining: 37.7s\n634:\tlearn: 0.0184041\ttotal: 1m 5s\tremaining: 37.6s\n635:\tlearn: 0.0184040\ttotal: 1m 5s\tremaining: 37.5s\n636:\tlearn: 0.0184039\ttotal: 1m 5s\tremaining: 37.4s\n637:\tlearn: 0.0184038\ttotal: 1m 5s\tremaining: 37.2s\n638:\tlearn: 0.0184038\ttotal: 1m 5s\tremaining: 37.1s\n639:\tlearn: 0.0184038\ttotal: 1m 5s\tremaining: 37s\n640:\tlearn: 0.0184037\ttotal: 1m 5s\tremaining: 36.9s\n641:\tlearn: 0.0184036\ttotal: 1m 6s\tremaining: 36.8s\n642:\tlearn: 0.0184035\ttotal: 1m 6s\tremaining: 36.7s\n643:\tlearn: 0.0184033\ttotal: 1m 6s\tremaining: 36.6s\n644:\tlearn: 0.0184031\ttotal: 1m 6s\tremaining: 36.5s\n645:\tlearn: 0.0184031\ttotal: 1m 6s\tremaining: 36.4s\n646:\tlearn: 0.0184031\ttotal: 1m 6s\tremaining: 36.3s\n647:\tlearn: 0.0184030\ttotal: 1m 6s\tremaining: 36.2s\n648:\tlearn: 0.0184029\ttotal: 1m 6s\tremaining: 36.1s\n649:\tlearn: 0.0184028\ttotal: 1m 6s\tremaining: 36s\n650:\tlearn: 0.0184026\ttotal: 1m 6s\tremaining: 35.9s\n651:\tlearn: 0.0184024\ttotal: 1m 7s\tremaining: 35.8s\n652:\tlearn: 0.0184023\ttotal: 1m 7s\tremaining: 35.7s\n653:\tlearn: 0.0184022\ttotal: 1m 7s\tremaining: 35.6s\n654:\tlearn: 0.0184021\ttotal: 1m 7s\tremaining: 35.5s\n655:\tlearn: 0.0184020\ttotal: 1m 7s\tremaining: 35.4s\n656:\tlearn: 0.0184017\ttotal: 1m 7s\tremaining: 35.3s\n657:\tlearn: 0.0184016\ttotal: 1m 7s\tremaining: 35.2s\n658:\tlearn: 0.0184016\ttotal: 1m 7s\tremaining: 35.1s\n659:\tlearn: 0.0184015\ttotal: 1m 7s\tremaining: 35s\n660:\tlearn: 0.0184013\ttotal: 1m 7s\tremaining: 34.8s\n661:\tlearn: 0.0184011\ttotal: 1m 8s\tremaining: 34.7s\n662:\tlearn: 0.0184010\ttotal: 1m 8s\tremaining: 34.7s\n663:\tlearn: 0.0184009\ttotal: 1m 8s\tremaining: 34.5s\n664:\tlearn: 0.0184006\ttotal: 1m 8s\tremaining: 34.5s\n665:\tlearn: 0.0184005\ttotal: 1m 8s\tremaining: 34.3s\n666:\tlearn: 0.0184005\ttotal: 1m 8s\tremaining: 34.2s\n667:\tlearn: 0.0184002\ttotal: 1m 8s\tremaining: 34.2s\n668:\tlearn: 0.0184002\ttotal: 1m 8s\tremaining: 34.1s\n669:\tlearn: 0.0184001\ttotal: 1m 8s\tremaining: 34s\n670:\tlearn: 0.0184000\ttotal: 1m 9s\tremaining: 33.8s\n671:\tlearn: 0.0183998\ttotal: 1m 9s\tremaining: 33.7s\n672:\tlearn: 0.0183997\ttotal: 1m 9s\tremaining: 33.6s\n673:\tlearn: 0.0183996\ttotal: 1m 9s\tremaining: 33.5s\n674:\tlearn: 0.0183995\ttotal: 1m 9s\tremaining: 33.4s\n675:\tlearn: 0.0183994\ttotal: 1m 9s\tremaining: 33.3s\n676:\tlearn: 0.0183993\ttotal: 1m 9s\tremaining: 33.2s\n677:\tlearn: 0.0183992\ttotal: 1m 9s\tremaining: 33.1s\n678:\tlearn: 0.0183991\ttotal: 1m 9s\tremaining: 33s\n679:\tlearn: 0.0183990\ttotal: 1m 9s\tremaining: 32.9s\n680:\tlearn: 0.0183989\ttotal: 1m 10s\tremaining: 32.8s\n681:\tlearn: 0.0183989\ttotal: 1m 10s\tremaining: 32.7s\n682:\tlearn: 0.0183988\ttotal: 1m 10s\tremaining: 32.6s\n683:\tlearn: 0.0183988\ttotal: 1m 10s\tremaining: 32.5s\n684:\tlearn: 0.0183986\ttotal: 1m 10s\tremaining: 32.4s\n685:\tlearn: 0.0183985\ttotal: 1m 10s\tremaining: 32.3s\n686:\tlearn: 0.0183984\ttotal: 1m 10s\tremaining: 32.2s\n687:\tlearn: 0.0183983\ttotal: 1m 10s\tremaining: 32.1s\n688:\tlearn: 0.0183983\ttotal: 1m 10s\tremaining: 32s\n689:\tlearn: 0.0183981\ttotal: 1m 10s\tremaining: 31.9s\n690:\tlearn: 0.0183980\ttotal: 1m 11s\tremaining: 31.8s\n691:\tlearn: 0.0183980\ttotal: 1m 11s\tremaining: 31.7s\n692:\tlearn: 0.0183978\ttotal: 1m 11s\tremaining: 31.6s\n693:\tlearn: 0.0183977\ttotal: 1m 11s\tremaining: 31.5s\n694:\tlearn: 0.0183977\ttotal: 1m 11s\tremaining: 31.4s\n695:\tlearn: 0.0183975\ttotal: 1m 11s\tremaining: 31.3s\n696:\tlearn: 0.0183974\ttotal: 1m 11s\tremaining: 31.2s\n697:\tlearn: 0.0183974\ttotal: 1m 11s\tremaining: 31.1s\n698:\tlearn: 0.0183973\ttotal: 1m 11s\tremaining: 31s\n699:\tlearn: 0.0183972\ttotal: 1m 12s\tremaining: 30.9s\n700:\tlearn: 0.0183971\ttotal: 1m 12s\tremaining: 30.8s\n701:\tlearn: 0.0183970\ttotal: 1m 12s\tremaining: 30.7s\n702:\tlearn: 0.0183970\ttotal: 1m 12s\tremaining: 30.5s\n703:\tlearn: 0.0183969\ttotal: 1m 12s\tremaining: 30.4s\n704:\tlearn: 0.0183968\ttotal: 1m 12s\tremaining: 30.3s\n705:\tlearn: 0.0183968\ttotal: 1m 12s\tremaining: 30.2s\n706:\tlearn: 0.0183968\ttotal: 1m 12s\tremaining: 30.1s\n707:\tlearn: 0.0183967\ttotal: 1m 12s\tremaining: 30s\n708:\tlearn: 0.0183966\ttotal: 1m 12s\tremaining: 29.9s\n709:\tlearn: 0.0183966\ttotal: 1m 12s\tremaining: 29.8s\n710:\tlearn: 0.0183965\ttotal: 1m 13s\tremaining: 29.7s\n711:\tlearn: 0.0183963\ttotal: 1m 13s\tremaining: 29.6s\n712:\tlearn: 0.0183963\ttotal: 1m 13s\tremaining: 29.5s\n713:\tlearn: 0.0183962\ttotal: 1m 13s\tremaining: 29.4s\n714:\tlearn: 0.0183962\ttotal: 1m 13s\tremaining: 29.3s\n715:\tlearn: 0.0183961\ttotal: 1m 13s\tremaining: 29.1s\n716:\tlearn: 0.0183960\ttotal: 1m 13s\tremaining: 29s\n717:\tlearn: 0.0183959\ttotal: 1m 13s\tremaining: 28.9s\n718:\tlearn: 0.0183958\ttotal: 1m 13s\tremaining: 28.8s\n719:\tlearn: 0.0183957\ttotal: 1m 13s\tremaining: 28.7s\n720:\tlearn: 0.0183957\ttotal: 1m 13s\tremaining: 28.6s\n721:\tlearn: 0.0183956\ttotal: 1m 14s\tremaining: 28.5s\n722:\tlearn: 0.0183955\ttotal: 1m 14s\tremaining: 28.4s\n723:\tlearn: 0.0183954\ttotal: 1m 14s\tremaining: 28.3s\n724:\tlearn: 0.0183953\ttotal: 1m 14s\tremaining: 28.2s\n725:\tlearn: 0.0183953\ttotal: 1m 14s\tremaining: 28.1s\n726:\tlearn: 0.0183951\ttotal: 1m 14s\tremaining: 28s\n727:\tlearn: 0.0183950\ttotal: 1m 14s\tremaining: 27.9s\n728:\tlearn: 0.0183949\ttotal: 1m 14s\tremaining: 27.8s\n729:\tlearn: 0.0183948\ttotal: 1m 14s\tremaining: 27.7s\n730:\tlearn: 0.0183947\ttotal: 1m 14s\tremaining: 27.6s\n731:\tlearn: 0.0183946\ttotal: 1m 15s\tremaining: 27.5s\n732:\tlearn: 0.0183945\ttotal: 1m 15s\tremaining: 27.4s\n733:\tlearn: 0.0183944\ttotal: 1m 15s\tremaining: 27.3s\n734:\tlearn: 0.0183943\ttotal: 1m 15s\tremaining: 27.2s\n735:\tlearn: 0.0183942\ttotal: 1m 15s\tremaining: 27.1s\n736:\tlearn: 0.0183941\ttotal: 1m 15s\tremaining: 27s\n737:\tlearn: 0.0183940\ttotal: 1m 15s\tremaining: 26.9s\n738:\tlearn: 0.0183940\ttotal: 1m 15s\tremaining: 26.8s\n739:\tlearn: 0.0183938\ttotal: 1m 15s\tremaining: 26.7s\n740:\tlearn: 0.0183938\ttotal: 1m 15s\tremaining: 26.6s\n741:\tlearn: 0.0183937\ttotal: 1m 16s\tremaining: 26.5s\n742:\tlearn: 0.0183936\ttotal: 1m 16s\tremaining: 26.4s\n743:\tlearn: 0.0183935\ttotal: 1m 16s\tremaining: 26.3s\n744:\tlearn: 0.0183934\ttotal: 1m 16s\tremaining: 26.2s\n745:\tlearn: 0.0183934\ttotal: 1m 16s\tremaining: 26.1s\n746:\tlearn: 0.0183933\ttotal: 1m 16s\tremaining: 26s\n747:\tlearn: 0.0183932\ttotal: 1m 16s\tremaining: 25.9s\n748:\tlearn: 0.0183931\ttotal: 1m 16s\tremaining: 25.8s\n749:\tlearn: 0.0183930\ttotal: 1m 16s\tremaining: 25.6s\n750:\tlearn: 0.0183929\ttotal: 1m 17s\tremaining: 25.5s\n751:\tlearn: 0.0183928\ttotal: 1m 17s\tremaining: 25.4s\n752:\tlearn: 0.0183927\ttotal: 1m 17s\tremaining: 25.3s\n753:\tlearn: 0.0183926\ttotal: 1m 17s\tremaining: 25.2s\n754:\tlearn: 0.0183925\ttotal: 1m 17s\tremaining: 25.1s\n755:\tlearn: 0.0183924\ttotal: 1m 17s\tremaining: 25s\n756:\tlearn: 0.0183922\ttotal: 1m 17s\tremaining: 24.9s\n757:\tlearn: 0.0183919\ttotal: 1m 17s\tremaining: 24.8s\n758:\tlearn: 0.0183918\ttotal: 1m 17s\tremaining: 24.7s\n759:\tlearn: 0.0183917\ttotal: 1m 17s\tremaining: 24.6s\n760:\tlearn: 0.0183916\ttotal: 1m 18s\tremaining: 24.5s\n761:\tlearn: 0.0183915\ttotal: 1m 18s\tremaining: 24.4s\n762:\tlearn: 0.0183914\ttotal: 1m 18s\tremaining: 24.3s\n763:\tlearn: 0.0183913\ttotal: 1m 18s\tremaining: 24.2s\n764:\tlearn: 0.0183913\ttotal: 1m 18s\tremaining: 24.1s\n765:\tlearn: 0.0183912\ttotal: 1m 18s\tremaining: 24s\n766:\tlearn: 0.0183911\ttotal: 1m 18s\tremaining: 23.9s\n767:\tlearn: 0.0183910\ttotal: 1m 18s\tremaining: 23.8s\n768:\tlearn: 0.0183909\ttotal: 1m 18s\tremaining: 23.7s\n769:\tlearn: 0.0183908\ttotal: 1m 19s\tremaining: 23.6s\n770:\tlearn: 0.0183907\ttotal: 1m 19s\tremaining: 23.5s\n771:\tlearn: 0.0183907\ttotal: 1m 19s\tremaining: 23.4s\n772:\tlearn: 0.0183905\ttotal: 1m 19s\tremaining: 23.3s\n773:\tlearn: 0.0183904\ttotal: 1m 19s\tremaining: 23.2s\n774:\tlearn: 0.0183902\ttotal: 1m 19s\tremaining: 23.1s\n775:\tlearn: 0.0183901\ttotal: 1m 19s\tremaining: 23s\n776:\tlearn: 0.0183900\ttotal: 1m 19s\tremaining: 22.9s\n777:\tlearn: 0.0183899\ttotal: 1m 19s\tremaining: 22.8s\n778:\tlearn: 0.0183899\ttotal: 1m 19s\tremaining: 22.7s\n779:\tlearn: 0.0183898\ttotal: 1m 20s\tremaining: 22.6s\n780:\tlearn: 0.0183897\ttotal: 1m 20s\tremaining: 22.5s\n781:\tlearn: 0.0183896\ttotal: 1m 20s\tremaining: 22.4s\n782:\tlearn: 0.0183895\ttotal: 1m 20s\tremaining: 22.3s\n783:\tlearn: 0.0183895\ttotal: 1m 20s\tremaining: 22.2s\n784:\tlearn: 0.0183894\ttotal: 1m 20s\tremaining: 22.1s\n785:\tlearn: 0.0183893\ttotal: 1m 20s\tremaining: 22s\n786:\tlearn: 0.0183893\ttotal: 1m 20s\tremaining: 21.9s\n787:\tlearn: 0.0183891\ttotal: 1m 20s\tremaining: 21.7s\n788:\tlearn: 0.0183891\ttotal: 1m 20s\tremaining: 21.6s\n789:\tlearn: 0.0183890\ttotal: 1m 21s\tremaining: 21.5s\n790:\tlearn: 0.0183888\ttotal: 1m 21s\tremaining: 21.4s\n791:\tlearn: 0.0183888\ttotal: 1m 21s\tremaining: 21.3s\n792:\tlearn: 0.0183886\ttotal: 1m 21s\tremaining: 21.2s\n793:\tlearn: 0.0183885\ttotal: 1m 21s\tremaining: 21.1s\n794:\tlearn: 0.0183883\ttotal: 1m 21s\tremaining: 21s\n795:\tlearn: 0.0183882\ttotal: 1m 21s\tremaining: 20.9s\n796:\tlearn: 0.0183880\ttotal: 1m 21s\tremaining: 20.8s\n797:\tlearn: 0.0183879\ttotal: 1m 21s\tremaining: 20.7s\n798:\tlearn: 0.0183878\ttotal: 1m 21s\tremaining: 20.6s\n799:\tlearn: 0.0183876\ttotal: 1m 22s\tremaining: 20.5s\n800:\tlearn: 0.0183875\ttotal: 1m 22s\tremaining: 20.4s\n801:\tlearn: 0.0183875\ttotal: 1m 22s\tremaining: 20.4s\n802:\tlearn: 0.0183874\ttotal: 1m 22s\tremaining: 20.3s\n803:\tlearn: 0.0183874\ttotal: 1m 22s\tremaining: 20.2s\n804:\tlearn: 0.0183873\ttotal: 1m 22s\tremaining: 20.1s\n805:\tlearn: 0.0183872\ttotal: 1m 22s\tremaining: 20s\n806:\tlearn: 0.0183872\ttotal: 1m 23s\tremaining: 19.9s\n807:\tlearn: 0.0183871\ttotal: 1m 23s\tremaining: 19.8s\n808:\tlearn: 0.0183871\ttotal: 1m 23s\tremaining: 19.7s\n809:\tlearn: 0.0183870\ttotal: 1m 23s\tremaining: 19.6s\n810:\tlearn: 0.0183869\ttotal: 1m 23s\tremaining: 19.5s\n811:\tlearn: 0.0183868\ttotal: 1m 23s\tremaining: 19.4s\n812:\tlearn: 0.0183868\ttotal: 1m 23s\tremaining: 19.3s\n813:\tlearn: 0.0183867\ttotal: 1m 23s\tremaining: 19.2s\n814:\tlearn: 0.0183867\ttotal: 1m 24s\tremaining: 19.1s\n815:\tlearn: 0.0183866\ttotal: 1m 24s\tremaining: 19s\n816:\tlearn: 0.0183866\ttotal: 1m 24s\tremaining: 18.9s\n817:\tlearn: 0.0183866\ttotal: 1m 24s\tremaining: 18.8s\n818:\tlearn: 0.0183865\ttotal: 1m 24s\tremaining: 18.6s\n819:\tlearn: 0.0183864\ttotal: 1m 24s\tremaining: 18.5s\n820:\tlearn: 0.0183863\ttotal: 1m 24s\tremaining: 18.4s\n821:\tlearn: 0.0183861\ttotal: 1m 24s\tremaining: 18.3s\n822:\tlearn: 0.0183861\ttotal: 1m 24s\tremaining: 18.2s\n823:\tlearn: 0.0183860\ttotal: 1m 24s\tremaining: 18.1s\n824:\tlearn: 0.0183859\ttotal: 1m 25s\tremaining: 18s\n825:\tlearn: 0.0183857\ttotal: 1m 25s\tremaining: 17.9s\n826:\tlearn: 0.0183857\ttotal: 1m 25s\tremaining: 17.8s\n827:\tlearn: 0.0183856\ttotal: 1m 25s\tremaining: 17.7s\n828:\tlearn: 0.0183855\ttotal: 1m 25s\tremaining: 17.6s\n829:\tlearn: 0.0183854\ttotal: 1m 25s\tremaining: 17.5s\n830:\tlearn: 0.0183853\ttotal: 1m 25s\tremaining: 17.4s\n831:\tlearn: 0.0183853\ttotal: 1m 25s\tremaining: 17.3s\n832:\tlearn: 0.0183852\ttotal: 1m 25s\tremaining: 17.2s\n833:\tlearn: 0.0183851\ttotal: 1m 25s\tremaining: 17.1s\n834:\tlearn: 0.0183851\ttotal: 1m 25s\tremaining: 17s\n835:\tlearn: 0.0183850\ttotal: 1m 26s\tremaining: 16.9s\n836:\tlearn: 0.0183849\ttotal: 1m 26s\tremaining: 16.8s\n837:\tlearn: 0.0183848\ttotal: 1m 26s\tremaining: 16.7s\n838:\tlearn: 0.0183848\ttotal: 1m 26s\tremaining: 16.6s\n839:\tlearn: 0.0183847\ttotal: 1m 26s\tremaining: 16.5s\n840:\tlearn: 0.0183846\ttotal: 1m 26s\tremaining: 16.4s\n841:\tlearn: 0.0183845\ttotal: 1m 26s\tremaining: 16.3s\n842:\tlearn: 0.0183844\ttotal: 1m 26s\tremaining: 16.2s\n843:\tlearn: 0.0183844\ttotal: 1m 26s\tremaining: 16.1s\n844:\tlearn: 0.0183843\ttotal: 1m 26s\tremaining: 16s\n845:\tlearn: 0.0183843\ttotal: 1m 27s\tremaining: 15.8s\n846:\tlearn: 0.0183842\ttotal: 1m 27s\tremaining: 15.7s\n847:\tlearn: 0.0183841\ttotal: 1m 27s\tremaining: 15.6s\n848:\tlearn: 0.0183840\ttotal: 1m 27s\tremaining: 15.5s\n849:\tlearn: 0.0183839\ttotal: 1m 27s\tremaining: 15.4s\n850:\tlearn: 0.0183838\ttotal: 1m 27s\tremaining: 15.3s\n851:\tlearn: 0.0183837\ttotal: 1m 27s\tremaining: 15.2s\n852:\tlearn: 0.0183835\ttotal: 1m 27s\tremaining: 15.1s\n853:\tlearn: 0.0183835\ttotal: 1m 27s\tremaining: 15s\n854:\tlearn: 0.0183834\ttotal: 1m 28s\tremaining: 14.9s\n855:\tlearn: 0.0183832\ttotal: 1m 28s\tremaining: 14.8s\n856:\tlearn: 0.0183831\ttotal: 1m 28s\tremaining: 14.7s\n857:\tlearn: 0.0183831\ttotal: 1m 28s\tremaining: 14.6s\n858:\tlearn: 0.0183830\ttotal: 1m 28s\tremaining: 14.5s\n859:\tlearn: 0.0183829\ttotal: 1m 28s\tremaining: 14.4s\n860:\tlearn: 0.0183829\ttotal: 1m 28s\tremaining: 14.3s\n861:\tlearn: 0.0183828\ttotal: 1m 28s\tremaining: 14.2s\n862:\tlearn: 0.0183828\ttotal: 1m 28s\tremaining: 14.1s\n863:\tlearn: 0.0183827\ttotal: 1m 28s\tremaining: 14s\n864:\tlearn: 0.0183826\ttotal: 1m 29s\tremaining: 13.9s\n865:\tlearn: 0.0183825\ttotal: 1m 29s\tremaining: 13.8s\n866:\tlearn: 0.0183824\ttotal: 1m 29s\tremaining: 13.7s\n867:\tlearn: 0.0183823\ttotal: 1m 29s\tremaining: 13.6s\n868:\tlearn: 0.0183821\ttotal: 1m 29s\tremaining: 13.5s\n869:\tlearn: 0.0183821\ttotal: 1m 29s\tremaining: 13.4s\n870:\tlearn: 0.0183819\ttotal: 1m 29s\tremaining: 13.3s\n871:\tlearn: 0.0183819\ttotal: 1m 29s\tremaining: 13.2s\n872:\tlearn: 0.0183817\ttotal: 1m 29s\tremaining: 13.1s\n873:\tlearn: 0.0183815\ttotal: 1m 30s\tremaining: 13s\n874:\tlearn: 0.0183814\ttotal: 1m 30s\tremaining: 12.9s\n875:\tlearn: 0.0183813\ttotal: 1m 30s\tremaining: 12.8s\n876:\tlearn: 0.0183812\ttotal: 1m 30s\tremaining: 12.7s\n877:\tlearn: 0.0183811\ttotal: 1m 30s\tremaining: 12.6s\n878:\tlearn: 0.0183809\ttotal: 1m 30s\tremaining: 12.5s\n879:\tlearn: 0.0183809\ttotal: 1m 30s\tremaining: 12.4s\n880:\tlearn: 0.0183809\ttotal: 1m 30s\tremaining: 12.3s\n881:\tlearn: 0.0183808\ttotal: 1m 30s\tremaining: 12.2s\n882:\tlearn: 0.0183806\ttotal: 1m 30s\tremaining: 12.1s\n883:\tlearn: 0.0183806\ttotal: 1m 31s\tremaining: 11.9s\n884:\tlearn: 0.0183805\ttotal: 1m 31s\tremaining: 11.8s\n885:\tlearn: 0.0183804\ttotal: 1m 31s\tremaining: 11.7s\n886:\tlearn: 0.0183804\ttotal: 1m 31s\tremaining: 11.6s\n887:\tlearn: 0.0183803\ttotal: 1m 31s\tremaining: 11.5s\n888:\tlearn: 0.0183802\ttotal: 1m 31s\tremaining: 11.4s\n889:\tlearn: 0.0183801\ttotal: 1m 31s\tremaining: 11.3s\n890:\tlearn: 0.0183800\ttotal: 1m 31s\tremaining: 11.2s\n891:\tlearn: 0.0183799\ttotal: 1m 31s\tremaining: 11.1s\n892:\tlearn: 0.0183798\ttotal: 1m 31s\tremaining: 11s\n893:\tlearn: 0.0183797\ttotal: 1m 32s\tremaining: 10.9s\n894:\tlearn: 0.0183797\ttotal: 1m 32s\tremaining: 10.8s\n895:\tlearn: 0.0183796\ttotal: 1m 32s\tremaining: 10.7s\n896:\tlearn: 0.0183795\ttotal: 1m 32s\tremaining: 10.6s\n897:\tlearn: 0.0183794\ttotal: 1m 32s\tremaining: 10.5s\n898:\tlearn: 0.0183793\ttotal: 1m 32s\tremaining: 10.4s\n899:\tlearn: 0.0183793\ttotal: 1m 32s\tremaining: 10.3s\n900:\tlearn: 0.0183792\ttotal: 1m 32s\tremaining: 10.2s\n901:\tlearn: 0.0183791\ttotal: 1m 32s\tremaining: 10.1s\n902:\tlearn: 0.0183790\ttotal: 1m 32s\tremaining: 9.99s\n903:\tlearn: 0.0183789\ttotal: 1m 33s\tremaining: 9.89s\n904:\tlearn: 0.0183788\ttotal: 1m 33s\tremaining: 9.78s\n905:\tlearn: 0.0183787\ttotal: 1m 33s\tremaining: 9.68s\n906:\tlearn: 0.0183787\ttotal: 1m 33s\tremaining: 9.58s\n907:\tlearn: 0.0183785\ttotal: 1m 33s\tremaining: 9.47s\n908:\tlearn: 0.0183784\ttotal: 1m 33s\tremaining: 9.37s\n909:\tlearn: 0.0183783\ttotal: 1m 33s\tremaining: 9.27s\n910:\tlearn: 0.0183783\ttotal: 1m 33s\tremaining: 9.16s\n911:\tlearn: 0.0183783\ttotal: 1m 33s\tremaining: 9.06s\n912:\tlearn: 0.0183782\ttotal: 1m 33s\tremaining: 8.96s\n913:\tlearn: 0.0183782\ttotal: 1m 34s\tremaining: 8.85s\n914:\tlearn: 0.0183781\ttotal: 1m 34s\tremaining: 8.75s\n915:\tlearn: 0.0183781\ttotal: 1m 34s\tremaining: 8.64s\n916:\tlearn: 0.0183780\ttotal: 1m 34s\tremaining: 8.54s\n917:\tlearn: 0.0183779\ttotal: 1m 34s\tremaining: 8.44s\n918:\tlearn: 0.0183778\ttotal: 1m 34s\tremaining: 8.34s\n919:\tlearn: 0.0183778\ttotal: 1m 34s\tremaining: 8.23s\n920:\tlearn: 0.0183777\ttotal: 1m 34s\tremaining: 8.13s\n921:\tlearn: 0.0183776\ttotal: 1m 34s\tremaining: 8.03s\n922:\tlearn: 0.0183775\ttotal: 1m 35s\tremaining: 7.93s\n923:\tlearn: 0.0183775\ttotal: 1m 35s\tremaining: 7.82s\n924:\tlearn: 0.0183774\ttotal: 1m 35s\tremaining: 7.72s\n925:\tlearn: 0.0183773\ttotal: 1m 35s\tremaining: 7.62s\n926:\tlearn: 0.0183773\ttotal: 1m 35s\tremaining: 7.51s\n927:\tlearn: 0.0183773\ttotal: 1m 35s\tremaining: 7.41s\n928:\tlearn: 0.0183772\ttotal: 1m 35s\tremaining: 7.3s\n929:\tlearn: 0.0183771\ttotal: 1m 35s\tremaining: 7.2s\n930:\tlearn: 0.0183771\ttotal: 1m 35s\tremaining: 7.1s\n931:\tlearn: 0.0183770\ttotal: 1m 35s\tremaining: 6.99s\n932:\tlearn: 0.0183770\ttotal: 1m 35s\tremaining: 6.89s\n933:\tlearn: 0.0183770\ttotal: 1m 36s\tremaining: 6.79s\n934:\tlearn: 0.0183768\ttotal: 1m 36s\tremaining: 6.68s\n935:\tlearn: 0.0183768\ttotal: 1m 36s\tremaining: 6.58s\n936:\tlearn: 0.0183767\ttotal: 1m 36s\tremaining: 6.48s\n937:\tlearn: 0.0183765\ttotal: 1m 36s\tremaining: 6.38s\n938:\tlearn: 0.0183765\ttotal: 1m 36s\tremaining: 6.27s\n939:\tlearn: 0.0183764\ttotal: 1m 36s\tremaining: 6.17s\n940:\tlearn: 0.0183763\ttotal: 1m 36s\tremaining: 6.07s\n941:\tlearn: 0.0183763\ttotal: 1m 36s\tremaining: 5.96s\n942:\tlearn: 0.0183762\ttotal: 1m 36s\tremaining: 5.86s\n943:\tlearn: 0.0183761\ttotal: 1m 37s\tremaining: 5.76s\n944:\tlearn: 0.0183760\ttotal: 1m 37s\tremaining: 5.66s\n945:\tlearn: 0.0183760\ttotal: 1m 37s\tremaining: 5.55s\n946:\tlearn: 0.0183759\ttotal: 1m 37s\tremaining: 5.45s\n947:\tlearn: 0.0183758\ttotal: 1m 37s\tremaining: 5.35s\n948:\tlearn: 0.0183757\ttotal: 1m 37s\tremaining: 5.24s\n949:\tlearn: 0.0183757\ttotal: 1m 37s\tremaining: 5.14s\n950:\tlearn: 0.0183756\ttotal: 1m 37s\tremaining: 5.04s\n951:\tlearn: 0.0183755\ttotal: 1m 37s\tremaining: 4.93s\n952:\tlearn: 0.0183755\ttotal: 1m 37s\tremaining: 4.83s\n953:\tlearn: 0.0183753\ttotal: 1m 38s\tremaining: 4.73s\n954:\tlearn: 0.0183752\ttotal: 1m 38s\tremaining: 4.62s\n955:\tlearn: 0.0183752\ttotal: 1m 38s\tremaining: 4.52s\n956:\tlearn: 0.0183752\ttotal: 1m 38s\tremaining: 4.42s\n957:\tlearn: 0.0183751\ttotal: 1m 38s\tremaining: 4.32s\n958:\tlearn: 0.0183750\ttotal: 1m 38s\tremaining: 4.21s\n959:\tlearn: 0.0183749\ttotal: 1m 38s\tremaining: 4.11s\n960:\tlearn: 0.0183748\ttotal: 1m 38s\tremaining: 4.01s\n961:\tlearn: 0.0183747\ttotal: 1m 38s\tremaining: 3.9s\n962:\tlearn: 0.0183747\ttotal: 1m 38s\tremaining: 3.8s\n963:\tlearn: 0.0183745\ttotal: 1m 39s\tremaining: 3.7s\n964:\tlearn: 0.0183744\ttotal: 1m 39s\tremaining: 3.6s\n965:\tlearn: 0.0183743\ttotal: 1m 39s\tremaining: 3.5s\n966:\tlearn: 0.0183742\ttotal: 1m 39s\tremaining: 3.39s\n967:\tlearn: 0.0183741\ttotal: 1m 39s\tremaining: 3.29s\n968:\tlearn: 0.0183739\ttotal: 1m 39s\tremaining: 3.19s\n969:\tlearn: 0.0183738\ttotal: 1m 39s\tremaining: 3.09s\n970:\tlearn: 0.0183738\ttotal: 1m 39s\tremaining: 2.98s\n971:\tlearn: 0.0183738\ttotal: 1m 40s\tremaining: 2.88s\n972:\tlearn: 0.0183737\ttotal: 1m 40s\tremaining: 2.78s\n973:\tlearn: 0.0183736\ttotal: 1m 40s\tremaining: 2.67s\n974:\tlearn: 0.0183736\ttotal: 1m 40s\tremaining: 2.57s\n975:\tlearn: 0.0183735\ttotal: 1m 40s\tremaining: 2.47s\n976:\tlearn: 0.0183734\ttotal: 1m 40s\tremaining: 2.37s\n977:\tlearn: 0.0183734\ttotal: 1m 40s\tremaining: 2.26s\n978:\tlearn: 0.0183734\ttotal: 1m 40s\tremaining: 2.16s\n979:\tlearn: 0.0183733\ttotal: 1m 40s\tremaining: 2.06s\n980:\tlearn: 0.0183732\ttotal: 1m 40s\tremaining: 1.95s\n981:\tlearn: 0.0183731\ttotal: 1m 41s\tremaining: 1.85s\n982:\tlearn: 0.0183730\ttotal: 1m 41s\tremaining: 1.75s\n983:\tlearn: 0.0183729\ttotal: 1m 41s\tremaining: 1.65s\n984:\tlearn: 0.0183728\ttotal: 1m 41s\tremaining: 1.54s\n985:\tlearn: 0.0183727\ttotal: 1m 41s\tremaining: 1.44s\n986:\tlearn: 0.0183727\ttotal: 1m 41s\tremaining: 1.34s\n987:\tlearn: 0.0183726\ttotal: 1m 41s\tremaining: 1.23s\n988:\tlearn: 0.0183726\ttotal: 1m 41s\tremaining: 1.13s\n989:\tlearn: 0.0183725\ttotal: 1m 41s\tremaining: 1.03s\n990:\tlearn: 0.0183723\ttotal: 1m 41s\tremaining: 926ms\n991:\tlearn: 0.0183723\ttotal: 1m 42s\tremaining: 823ms\n992:\tlearn: 0.0183723\ttotal: 1m 42s\tremaining: 720ms\n993:\tlearn: 0.0183722\ttotal: 1m 42s\tremaining: 617ms\n994:\tlearn: 0.0183722\ttotal: 1m 42s\tremaining: 514ms\n995:\tlearn: 0.0183722\ttotal: 1m 42s\tremaining: 411ms\n996:\tlearn: 0.0183721\ttotal: 1m 42s\tremaining: 308ms\n997:\tlearn: 0.0183720\ttotal: 1m 42s\tremaining: 206ms\n998:\tlearn: 0.0183720\ttotal: 1m 42s\tremaining: 103ms\n999:\tlearn: 0.0183719\ttotal: 1m 42s\tremaining: 0us\n",
     "output_type": "stream"
    },
    {
     "execution_count": 17,
     "output_type": "execute_result",
     "data": {
      "text/plain": "         FloodProbability\nid                       \n1117957          0.578949\n1117958          0.457436\n1117959          0.449562\n1117960          0.466236\n1117961          0.466377\n...                   ...\n1863257          0.474525\n1863258          0.446139\n1863259          0.621029\n1863260          0.549138\n1863261          0.529217\n\n[745305 rows x 1 columns]",
      "text/html": "<div>\n<style scoped>\n    .dataframe tbody tr th:only-of-type {\n        vertical-align: middle;\n    }\n\n    .dataframe tbody tr th {\n        vertical-align: top;\n    }\n\n    .dataframe thead th {\n        text-align: right;\n    }\n</style>\n<table border=\"1\" class=\"dataframe\">\n  <thead>\n    <tr style=\"text-align: right;\">\n      <th></th>\n      <th>FloodProbability</th>\n    </tr>\n    <tr>\n      <th>id</th>\n      <th></th>\n    </tr>\n  </thead>\n  <tbody>\n    <tr>\n      <th>1117957</th>\n      <td>0.578949</td>\n    </tr>\n    <tr>\n      <th>1117958</th>\n      <td>0.457436</td>\n    </tr>\n    <tr>\n      <th>1117959</th>\n      <td>0.449562</td>\n    </tr>\n    <tr>\n      <th>1117960</th>\n      <td>0.466236</td>\n    </tr>\n    <tr>\n      <th>1117961</th>\n      <td>0.466377</td>\n    </tr>\n    <tr>\n      <th>...</th>\n      <td>...</td>\n    </tr>\n    <tr>\n      <th>1863257</th>\n      <td>0.474525</td>\n    </tr>\n    <tr>\n      <th>1863258</th>\n      <td>0.446139</td>\n    </tr>\n    <tr>\n      <th>1863259</th>\n      <td>0.621029</td>\n    </tr>\n    <tr>\n      <th>1863260</th>\n      <td>0.549138</td>\n    </tr>\n    <tr>\n      <th>1863261</th>\n      <td>0.529217</td>\n    </tr>\n  </tbody>\n</table>\n<p>745305 rows × 1 columns</p>\n</div>"
     },
     "metadata": {}
    }
   ]
  },
  {
   "cell_type": "markdown",
   "source": [
    "> Opruna sol"
   ],
   "metadata": {}
  },
  {
   "cell_type": "code",
   "source": [
    "import optuna\n",
    "\n",
    "def objective(trial):\n",
    "    params = {\n",
    "        'n_estimators': trial.suggest_int('n_estimators', 200, 600),\n",
    "        'max_depth': trial.suggest_int('max_depth', 7, 15),\n",
    "        \"iterations\": 1000,\n",
    "        \"learning_rate\": trial.suggest_float(\"learning_rate\", 1e-3, 0.1, log=True),\n",
    "        \"depth\": trial.suggest_int(\"depth\", 1, 10),\n",
    "        \"subsample\": trial.suggest_float(\"subsample\", 0.05, 1.0),\n",
    "        \"colsample_bylevel\": trial.suggest_float(\"colsample_bylevel\", 0.05, 1.0),\n",
    "        \"min_data_in_leaf\": trial.suggest_int(\"min_data_in_leaf\", 1, 100),\n",
    "    }\n",
    "\n",
    "    model = make_pipeline(preprocessing_baseline,\n",
    "                          CatBoostRegressor(**params, \n",
    "                                            silent=True,\n",
    "                                            eval_metric='RMSE',\n",
    "                                            grow_policy='Depthwise',\n",
    "                                           )\n",
    "                         )\n",
    "    \n",
    "    model.fit(X_train, y_train)\n",
    "    predictions = model.predict(X_val)\n",
    "    r2 = r2_score(y_val, predictions)\n",
    "    return r2"
   ],
   "metadata": {
    "execution": {
     "iopub.status.busy": "2024-05-06T08:37:08.613035Z",
     "iopub.execute_input": "2024-05-06T08:37:08.613413Z",
     "iopub.status.idle": "2024-05-06T08:37:08.737513Z",
     "shell.execute_reply.started": "2024-05-06T08:37:08.613381Z",
     "shell.execute_reply": "2024-05-06T08:37:08.736793Z"
    },
    "trusted": true
   },
   "execution_count": 18,
   "outputs": []
  },
  {
   "cell_type": "code",
   "source": [
    "# def objective(trial):\n",
    "#     params = {\n",
    "#         'num_leaves': trial.suggest_int('num_leaves', 100, 500),\n",
    "#         'learning_rate': trial.suggest_float('learning_rate', 0.01, 1.0, log=True),\n",
    "#         'n_estimators': trial.suggest_int('n_estimators', 200, 600),\n",
    "#         'subsample_for_bin': trial.suggest_int('subsample_for_bin', 20000, 300000),\n",
    "#         'min_child_samples': trial.suggest_int('min_child_samples', 20, 500),\n",
    "#         'reg_alpha': trial.suggest_float('reg_alpha', 1e-9, 10.0, log=True),\n",
    "#         'reg_lambda': trial.suggest_float('reg_lambda', 1e-9, 10.0, log=True),\n",
    "#         'colsample_bytree': trial.suggest_float('colsample_bytree', 0.4, 1.0),\n",
    "#         'subsample': trial.suggest_float('subsample', 0.25, 1.0),\n",
    "#         'max_depth': trial.suggest_int('max_depth', 1, 15)\n",
    "#     }\n",
    "#     cv = KFold(5, shuffle=True, random_state=0)\n",
    "#     cv_splits = cv.split(X_train, y_train)\n",
    "#     scores = list()\n",
    "#     model = LGBMRegressor(**params, objective='regression', random_state=0, device='gpu', verbosity = -1,)\n",
    "#     for train_idx, val_idx in cv_splits:\n",
    "#         X_train_fold, X_val_fold = X_train[train_idx], X_train[val_idx]\n",
    "#         y_train_fold, y_val_fold = y_train[train_idx], y_train[val_idx]\n",
    "#\n",
    "#         model.fit(X_train_fold, y_train_fold)\n",
    "#\n",
    "#         y_pred = model.predict(X_val_fold)\n",
    "#         r2 = r2_score(y_val_fold, y_pred)\n",
    "#         scores.append(r2)\n",
    "#\n",
    "#     return np.mean(scores)\n",
    "\n",
    "# sqlite_db = \"sqlite:///lgbm.db\"\n",
    "# study_name = \"lgbm\"\n",
    "#\n",
    "# if optimize:\n",
    "#     study = optuna.create_study(storage=sqlite_db, study_name=study_name,\n",
    "#                                 sampler=TPESampler(n_startup_trials=75, multivariate=True, seed=0),\n",
    "#                                 direction=\"maximize\", load_if_exists=True)\n",
    "#\n",
    "#     study.optimize(objective, n_trials=200)\n",
    "#     print(f\"best optimized R2: {study.best_value:0.5f}\") # 0.86924\n",
    "#     print(f\"best hyperparameters: {study.best_params}\")\n",
    "#\n",
    "#     lgbm_params = study.best_params"
   ],
   "metadata": {},
   "execution_count": null,
   "outputs": []
  },
  {
   "cell_type": "code",
   "source": [
    "model = CatBoostRegressor(verbose=False,\n",
    "                                   eval_metric='RMSE',\n",
    "                                   grow_policy='Depthwise',\n",
    "                                   max_depth=9, \n",
    "                                   min_child_samples=80,\n",
    "                                   n_estimators=300,\n",
    "                                   \n",
    "                                   reg_lambda=6,\n",
    "                                   , objective='regression', random_state=0, device='gpu',\n",
    "                \n",
    "                                   task_type=\"GPU\",\n",
    "                                   devices='0'\n",
    "                                  )"
   ],
   "metadata": {},
   "execution_count": null,
   "outputs": []
  },
  {
   "cell_type": "code",
   "source": [
    "MAKE_SUBMISSION = False\n",
    "\n",
    "if MAKE_SUBMISSION:\n",
    "    sub.to_csv('submission.csv', index=True)"
   ],
   "metadata": {
    "execution": {
     "iopub.status.busy": "2024-05-06T08:37:08.738451Z",
     "iopub.execute_input": "2024-05-06T08:37:08.738733Z",
     "iopub.status.idle": "2024-05-06T08:37:08.743072Z",
     "shell.execute_reply.started": "2024-05-06T08:37:08.738709Z",
     "shell.execute_reply": "2024-05-06T08:37:08.742125Z"
    },
    "trusted": true
   },
   "execution_count": 19,
   "outputs": []
  }
 ]
}
